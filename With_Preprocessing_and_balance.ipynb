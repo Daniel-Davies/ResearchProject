{
 "cells": [
  {
   "cell_type": "code",
   "execution_count": 16,
   "metadata": {
    "collapsed": true
   },
   "outputs": [],
   "source": [
    "%matplotlib inline\n",
    "# notebook\n",
    "import matplotlib.pylab as pylab\n",
    "import sklearn\n",
    "import matplotlib.pyplot as plt\n",
    "from sklearn.model_selection import KFold\n",
    "from sklearn.linear_model import LogisticRegression\n",
    "from sklearn.neighbors import KNeighborsClassifier\n",
    "from sklearn import svm\n",
    "from sklearn.cluster import KMeans\n",
    "from collections import Counter\n",
    "import numpy as np\n",
    "\n",
    "#make the graphs bigger\n",
    "pylab.rcParams['figure.figsize'] = (32.0, 24.0)\n",
    "pylab.rcParams['font.size'] = 24"
   ]
  },
  {
   "cell_type": "code",
   "execution_count": 17,
   "metadata": {
    "collapsed": true
   },
   "outputs": [],
   "source": [
    "cohort = []\n",
    "ETOH = []\n",
    "hw = []\n",
    "labOrders = []\n",
    "medOrders = []\n",
    "prescriptions = []\n",
    "radiology = []\n",
    "tobacco = []\n",
    "vitals = []"
   ]
  },
  {
   "cell_type": "code",
   "execution_count": 18,
   "metadata": {
    "collapsed": true
   },
   "outputs": [],
   "source": [
    "def fileToList(fname):\n",
    "    dataArray = []\n",
    "    with open(fname) as f:\n",
    "        for line in f:\n",
    "            new = line.strip()\n",
    "            new = new[1:len(new) - 1]\n",
    "            new = new.split('\",\"')\n",
    "            if (len(new) > 1):\n",
    "                dataArray.append(new)\n",
    "    return dataArray"
   ]
  },
  {
   "cell_type": "code",
   "execution_count": 19,
   "metadata": {
    "collapsed": true
   },
   "outputs": [],
   "source": [
    "def fileToDict(fname):\n",
    "    dataDict = dict()\n",
    "    with open(fname) as f:\n",
    "        for line in f:\n",
    "            new = line.strip()\n",
    "            new = new[1:len(new) - 1]\n",
    "            new = new.split('\",\"')\n",
    "            if (len(new) > 1):\n",
    "                if not(new[0] in dataDict):\n",
    "                    dataDict[new[0]] = [new]\n",
    "                else:\n",
    "                    dataDict[new[0]].append(new)\n",
    "    return dataDict"
   ]
  },
  {
   "cell_type": "code",
   "execution_count": 20,
   "metadata": {
    "collapsed": true
   },
   "outputs": [],
   "source": [
    "fname = \"2018-4169_Cohort.txt\"\n",
    "cohort = fileToList(fname)\n",
    "\n",
    "fname = \"2018-4169_ETOH_Use.txt\"\n",
    "ETOH = fileToDict(fname)\n",
    "\n",
    "fname = \"2018-4169_Height_Weight.txt\"\n",
    "hw = fileToDict(fname)\n",
    "\n",
    "fname = \"2018-4169_Lab_Orders_Performed.txt\"\n",
    "labOrders = fileToDict(fname)\n"
   ]
  },
  {
   "cell_type": "code",
   "execution_count": 21,
   "metadata": {
    "collapsed": true
   },
   "outputs": [],
   "source": [
    "fname = \"2018-4169_Med_Orders.txt\"\n",
    "medOrders = fileToDict(fname)\n",
    "\n",
    "fname = \"2018-4169_Prescriptions.txt\"\n",
    "prescriptions = fileToList(fname)"
   ]
  },
  {
   "cell_type": "code",
   "execution_count": 22,
   "metadata": {
    "collapsed": true
   },
   "outputs": [],
   "source": [
    "fname = \"2018-4169_Tobacco_Use.txt\"\n",
    "tobacco = fileToDict(fname)"
   ]
  },
  {
   "cell_type": "code",
   "execution_count": 23,
   "metadata": {
    "collapsed": true
   },
   "outputs": [],
   "source": [
    "fname = \"2018-4169_ETOH_Use.txt\"\n",
    "ETOHList = fileToList(fname)"
   ]
  },
  {
   "cell_type": "code",
   "execution_count": 24,
   "metadata": {
    "collapsed": true
   },
   "outputs": [],
   "source": [
    "tobList = fileToList(fname)"
   ]
  },
  {
   "cell_type": "code",
   "execution_count": 25,
   "metadata": {
    "collapsed": true
   },
   "outputs": [],
   "source": [
    "#organises data into a dict of dict of lists\n",
    "#dict of years\n",
    "    #dict of patients\n",
    "        #entry of admissions\n",
    "def organiseCohortDataIndex(myCohort):\n",
    "    organised = dict()\n",
    "    for admission in myCohort:\n",
    "        year = admission[8][0:4]\n",
    "        if year in organised:\n",
    "            entry = organised[year]\n",
    "            if admission[0] in entry:\n",
    "                organised[year][admission[0]].append(admission[1:])\n",
    "            else:\n",
    "                organised[year][admission[0]] = [admission[1:]]\n",
    "        else:\n",
    "            patientData = dict()\n",
    "            patientData[admission[0]] = [admission[1:]]\n",
    "            organised[year] = patientData\n",
    "    return organised\n",
    "\n",
    "#gets non frequent flyers from the organised cohort dict above\n",
    "def getNonFrequentFlyersBase(cohortDict, frequentFlyerDict):\n",
    "    regular = dict()\n",
    "    for year in cohortDict:\n",
    "        regular[year] = dict()\n",
    "        patList = cohortDict[year]\n",
    "        for pKey in patList:\n",
    "            if not(pKey in frequentFlyerDict[year]):\n",
    "                regular[year][pKey] = cohortDict[year][pKey]\n",
    "    return regular\n",
    "\n",
    "#gets frequent flyers from the organised cohort dict above (defined by greater than or equal to a specified visit num)\n",
    "def getFrequentFlyersExtended(dataDict, year=None, visits=10):\n",
    "    if (year == None):\n",
    "        freqDict = dict()\n",
    "        for key in dataDict:\n",
    "            freqDict[key] = []\n",
    "            patientDict = dataDict[key]\n",
    "            for pKey in patientDict:\n",
    "                if len(patientDict[pKey]) >= visits:\n",
    "                    freqDict[key].append(pKey)\n",
    "        return freqDict\n",
    "    else:\n",
    "        freqDict= dict()\n",
    "        if (year in dataDict):\n",
    "            patientDict = dataDict[year]\n",
    "            for pKey in patientDict:\n",
    "                if len(patientDict[pKey]) >= visits:\n",
    "                    freqDict[key].append(pKey)\n",
    "            return freqDict\n",
    "        else:\n",
    "            return dict()"
   ]
  },
  {
   "cell_type": "code",
   "execution_count": 26,
   "metadata": {
    "collapsed": true
   },
   "outputs": [],
   "source": [
    "import collections\n",
    "from datetime import datetime\n",
    "\n",
    "#returns a dict of lists\n",
    "    #dict of patients\n",
    "        #list of admissions\n",
    "def organiseCohortData(myCohort):\n",
    "    organised = dict()\n",
    "    for admission in myCohort:\n",
    "        if admission[0] in organised:\n",
    "            organised[admission[0]].append(admission[1:])\n",
    "        else:\n",
    "            organised[admission[0]] = [admission[1:]]\n",
    "            \n",
    "    \n",
    "    for p in organised.keys():\n",
    "        organised[p] = sorted(organised[p], key = lambda x: datetime.strptime(x[8][0:10], '%Y-%m-%d'))\n",
    "    return organised\n",
    "    "
   ]
  },
  {
   "cell_type": "code",
   "execution_count": 27,
   "metadata": {
    "collapsed": true
   },
   "outputs": [],
   "source": [
    "organised = organiseCohortData(cohort[1:])"
   ]
  },
  {
   "cell_type": "code",
   "execution_count": 28,
   "metadata": {
    "collapsed": true
   },
   "outputs": [],
   "source": [
    "from datetime import datetime, timedelta\n",
    "\n",
    "#method for finding frequent flyers where you specify a gap/time frame in days(e.g. 12 months, one month, one week etc)\n",
    "#and a number of visits, and this method will get frequent flyers for that definition\n",
    "#uses the organisation of the cohort data specified by the organiseCohortData method (aka dict of lists)\n",
    "def abstractFreqFlyers(organised, gap, visits):\n",
    "    frequentFlyers = []\n",
    "    for p in organised.keys():\n",
    "        dates = [datetime.strptime(item[8][0:10], '%Y-%m-%d') for item in organised[p]]\n",
    "        try:\n",
    "            for i in range(len(dates)):\n",
    "                modified_date = dates[i] + timedelta(days=gap)\n",
    "                if dates[i+visits-1] <= modified_date:\n",
    "                    frequentFlyers.append(p)\n",
    "                    break\n",
    "        except:\n",
    "            pass\n",
    "    return frequentFlyers"
   ]
  },
  {
   "cell_type": "code",
   "execution_count": 29,
   "metadata": {
    "collapsed": true
   },
   "outputs": [],
   "source": [
    "frequents = abstractFreqFlyers(organised, 365,20) #as a test, this calculates frequent flyers that, in the space of a year, have made 10 visits"
   ]
  },
  {
   "cell_type": "code",
   "execution_count": 30,
   "metadata": {},
   "outputs": [
    {
     "name": "stdout",
     "output_type": "stream",
     "text": [
      "126\n"
     ]
    }
   ],
   "source": [
    "print(len(frequents))"
   ]
  },
  {
   "cell_type": "code",
   "execution_count": 31,
   "metadata": {},
   "outputs": [
    {
     "name": "stdout",
     "output_type": "stream",
     "text": [
      "['0.54629537974305198', '0.18454035455437792', '0.49137990165585754', '0.31499293513474674', '7.0830591556572897E-2']\n"
     ]
    }
   ],
   "source": [
    "print(frequents[0:5])"
   ]
  },
  {
   "cell_type": "code",
   "execution_count": 32,
   "metadata": {
    "collapsed": true
   },
   "outputs": [],
   "source": [
    "#def difference(l1,l2):\n",
    "    #precisionError = len([b for a,b in zip(l1,l2) if b != a and b == 0 and a == 1])\n",
    "    #recallError = len([b for a,b in zip(l1,l2) if b != a and b == 1 and a == 0])\n",
    "    #print(\"Precision Error is \" + str(precisionError))\n",
    "    #print(\"Recall Error is \" + str(recallError))\n",
    "    #return (precisionError) + (recallError)\n",
    "    \n",
    "def difference(l1,l2):\n",
    "    return len([b for a,b in zip(l1,l2) if b != a])  "
   ]
  },
  {
   "cell_type": "code",
   "execution_count": 70,
   "metadata": {
    "collapsed": true
   },
   "outputs": [],
   "source": [
    "#given a set of data training points (Xtr) and classes (patientBase), run a number of models \n",
    "#use a K-fold algorithm to get error across 4 runs overall\n",
    "def runModels(Xtr, patientBase):\n",
    "    kf = KFold(n_splits=5, shuffle=True)\n",
    "    Ytr = patientBase\n",
    "    differencesLR = []\n",
    "    differencesSVM = []\n",
    "    differencesKM = []\n",
    "\n",
    "    for train_index, test_index in kf.split(Xtr):\n",
    "        X_train, X_test = [Xtr[i] for i in train_index], [Xtr[i] for i in test_index]\n",
    "        y_train, y_test = [Ytr[i] for i in train_index], [Ytr[i] for i in test_index]\n",
    "    \n",
    "        if (1 in y_train and 0 in y_train):\n",
    "            lr = LogisticRegression()\n",
    "            lr.fit(X_train, y_train)\n",
    "            PredLR = lr.predict(X_test)\n",
    "            differencesLR.append(difference(PredLR, y_test)/len(y_test))\n",
    "    \n",
    "            km = KMeans(n_clusters=2)\n",
    "            km.fit(X_train, y_train)\n",
    "            PredKM = km.predict(X_test)\n",
    "            differencesKM.append(difference(PredKM, y_test)/len(y_test))\n",
    "\n",
    "            clf = svm.SVC()\n",
    "            clf.fit(X_train, y_train)\n",
    "            PredSVM = clf.predict(X_test)\n",
    "            differencesSVM.append(difference(PredSVM, y_test)/len(y_test))\n",
    "    print((differencesLR))\n",
    "    print((differencesSVM))\n",
    "    print((differencesKM))"
   ]
  },
  {
   "cell_type": "code",
   "execution_count": 34,
   "metadata": {
    "collapsed": true
   },
   "outputs": [],
   "source": [
    "#given a sentence, is the patient a serious smoker\n",
    "def isBadSmoking(res):\n",
    "    if (res == \"current every day smoker\" or res == \"current some day smoker\" or res == \"current every day\" or res==\"heavy tobacco smoker\"):\n",
    "        return 1\n",
    "    else:\n",
    "        return 0\n",
    "    \n",
    "#given a sentence, is the patient a big drinker\n",
    "def isBad(cat,res):\n",
    "    if (cat == \"Number of Standard Drinks on a Typical Day\"):\n",
    "        if (res == \"10 or more\" or res == \"7 to 9\"):\n",
    "            return 1\n",
    "        else:\n",
    "            return 0\n",
    "    elif (cat == \"Alcohol Treatment Offered\"):\n",
    "        if (res == \"yes\"):\n",
    "            return 1\n",
    "        else:\n",
    "            return 0\n",
    "    elif (cat == \"Excessive Alcohol and Drug Use\"):\n",
    "        if (res == \"yes\"):\n",
    "            return 1\n",
    "        else:\n",
    "            return 0\n",
    "    elif (cat == \"10.Has a Relative, Friend, Doctor, or Other Health Professional Expressed Concern About Your Drinking or Suggested You Cut Down\"):\n",
    "        if (res == \"(2) Yes, during the last year\"):\n",
    "            return 1\n",
    "        else:\n",
    "            return 0\n",
    "    \n",
    "    return 0\n",
    "\n",
    "#given a list of frequent flyer ids, return 3 lists: \n",
    "#first list = list of 1s the size of frequents (= list of classes for our model)\n",
    "#list of 1s and 0s corresponding to whether the patient drinks a lot of alcohol (ETOH results)\n",
    "#list of 1s and 0s corresponding to whether the patient smokes a lot (tobacco results)\n",
    "\n",
    "def frequentsArray(frequents, value):\n",
    "    smokesHeavyFreqs = []\n",
    "    ETOHHeavyFreqs = []\n",
    "    patientBase = []\n",
    "    \n",
    "    for p in frequents:\n",
    "        patientBase.append(value)\n",
    "        if p in ETOH:\n",
    "            entry = ETOH[p]\n",
    "            drinkFreq = isBad(entry[0][4], entry[0][5])\n",
    "            ETOHHeavyFreqs.append(drinkFreq)\n",
    "        else:\n",
    "            ETOHHeavyFreqs.append((value-1)*-1)\n",
    "        if p in tobacco:\n",
    "            entry = tobacco[p]\n",
    "            smokingFreq = isBadSmoking(entry[0][2])\n",
    "            smokesHeavyFreqs.append(smokingFreq)\n",
    "        else:\n",
    "            smokesHeavyFreqs.append(0)\n",
    "                \n",
    "    return (patientBase, ETOHHeavyFreqs, smokesHeavyFreqs)"
   ]
  },
  {
   "cell_type": "code",
   "execution_count": 35,
   "metadata": {
    "collapsed": true
   },
   "outputs": [],
   "source": [
    "#given a list of ids, returns a list where it is 1 if patient is diabetic, and 0 if not\n",
    "def getDiabetes(deIds):\n",
    "    diabetes = []\n",
    "    for patient in deIds:\n",
    "        if patient in organised:\n",
    "            entry = organised[patient][0]\n",
    "            if (entry[-1] == \"Diabetes\"):\n",
    "                diabetes.append(1)\n",
    "            else:\n",
    "                diabetes.append(0)\n",
    "    return diabetes"
   ]
  },
  {
   "cell_type": "code",
   "execution_count": 36,
   "metadata": {
    "collapsed": true
   },
   "outputs": [],
   "source": [
    "#calculates Xtr and Ytr and runs models \n",
    "def runCode(frequents, regs):\n",
    "    patBase1, ETOHHeavyFreqs, smokesHeavyFreqs = frequentsArray(frequents, 1)\n",
    "    patBase2, ETOHHeavyRegs, smokesHeavyRegs = frequentsArray(regs, 0)\n",
    "\n",
    "    patientBase = patBase1 + patBase2\n",
    "    totalSmokes = smokesHeavyFreqs + smokesHeavyRegs\n",
    "    ETOHTotal = ETOHHeavyFreqs + ETOHHeavyRegs\n",
    "    DiabetesTotal = getDiabetes(frequents) + getDiabetes(regs)\n",
    "    PrescriptionsTotal = prescIndicators(frequents) + prescIndicators(regs)\n",
    "\n",
    "    Xtr = list(map(list,zip(totalSmokes, ETOHTotal)))\n",
    "    print(\"Models on ETOH and Tobacco\")\n",
    "    runModels(Xtr, patientBase)\n",
    "    print(\"----------------------\")\n",
    "    print(\"Models on ETOH, Tobacco and Diabetes\")\n",
    "    Xtr = list(map(list,zip(totalSmokes, ETOHTotal, DiabetesTotal)))\n",
    "    runModels(Xtr, patientBase)\n",
    "    print(\"----------------------\")\n",
    "    print(\"Models on ETOH, Tobacco, Diabetes and Prescriptions\")\n",
    "    Xtr = list(map(list,zip(totalSmokes, ETOHTotal, DiabetesTotal, PrescriptionsTotal)))\n",
    "    runModels(Xtr, patientBase)\n",
    "    print(\"----------------------\")\n",
    "    print(\"Models on Prescriptions\")\n",
    "    Xtr = list(map(list,zip(PrescriptionsTotal)))\n",
    "    runModels(Xtr, patientBase)"
   ]
  },
  {
   "cell_type": "code",
   "execution_count": 37,
   "metadata": {
    "collapsed": true
   },
   "outputs": [],
   "source": [
    "#same as above but this time, the frequents and regs parameters are dicts (extra dimension of year), not lists\n",
    "def runCodeDicts(frequents, regs):\n",
    "    patBase1, ETOHHeavyFreqs, smokesHeavyFreqs = frequentsArrayOrg(frequentsBase)\n",
    "    patBase2, ETOHHeavyRegs, smokesHeavyRegs = regsArrayOrg(regularsBase)\n",
    "\n",
    "    patientBase = patBase1 + patBase2\n",
    "    totalSmokes = smokesHeavyFreqs + smokesHeavyRegs\n",
    "    ETOHTotal = ETOHHeavyFreqs + ETOHHeavyRegs\n",
    "    \n",
    "    listFreqs = []\n",
    "    for f in frequents.keys():\n",
    "        listFreqs = listFreqs + frequents[f]\n",
    "\n",
    "    listFreqs = list(set(listFreqs))\n",
    "    DiabetesTotal = getDiabetes(listFreqs) + getDiabetes(regs)\n",
    "    PrescriptionsTotal = prescIndicators(listFreqs) + prescIndicators(regs)\n",
    "\n",
    "    Xtr = list(map(list,zip(totalSmokes, ETOHTotal)))\n",
    "    print(\"Models on ETOH and Tobacco\")\n",
    "    runModels(Xtr, patientBase)\n",
    "    print(\"----------------------\")\n",
    "    print(\"Models on ETOH, Tobacco and Diabetes\")\n",
    "    Xtr = list(map(list,zip(totalSmokes, ETOHTotal, DiabetesTotal)))\n",
    "    runModels(Xtr, patientBase)\n",
    "    print(\"----------------------\")\n",
    "    print(\"Models on ETOH, Tobacco, Diabetes and Prescriptions\")\n",
    "    Xtr = list(map(list,zip(totalSmokes, ETOHTotal, DiabetesTotal, PrescriptionsTotal)))\n",
    "    runModels(Xtr, patientBase)\n",
    "    print(\"----------------------\")\n",
    "    print(\"Models on ETOH, Tobacco, Diabetes and Prescriptions\")\n",
    "    Xtr = list(map(list,zip(PrescriptionsTotal)))\n",
    "    runModels(Xtr, patientBase)"
   ]
  },
  {
   "cell_type": "code",
   "execution_count": 38,
   "metadata": {
    "collapsed": true
   },
   "outputs": [],
   "source": [
    "from collections import Counter\n",
    "\n",
    "names = [item[3] for item in prescriptions]\n",
    "organisedPrescriptions = fileToDict(\"2018-4169_Prescriptions.txt\")\n",
    "ordered = Counter(names[1:])\n",
    "orderedPrescList = list(ordered.keys())"
   ]
  },
  {
   "cell_type": "code",
   "execution_count": 64,
   "metadata": {
    "collapsed": true
   },
   "outputs": [],
   "source": [
    "def retrieveRegulars(org, frequents):\n",
    "    regularsBase = []\n",
    "    newOrder = Counter(frequents)\n",
    "    for k in org.keys():\n",
    "        if not(k in newOrder):\n",
    "            regularsBase.append(k)\n",
    "    \n",
    "    return list(np.random.choice(regularsBase, len(frequents)))"
   ]
  },
  {
   "cell_type": "code",
   "execution_count": 47,
   "metadata": {
    "collapsed": true
   },
   "outputs": [],
   "source": [
    "def runPrescriptions(frequents, regs, top=orderedPrescList[0:20]):\n",
    "    \n",
    "    medList = []\n",
    "    for med in top:\n",
    "        counter = 0\n",
    "        for f in frequents:\n",
    "            if (f in organisedPrescriptions):\n",
    "                if (med in [item[3] for item in organisedPrescriptions[f]]):\n",
    "                    counter = counter + 1\n",
    "        medList.append(counter)\n",
    "    \n",
    "    medList2 = []\n",
    "    for med in top:\n",
    "        counter = 0\n",
    "        for f in regs:\n",
    "            if (f in organisedPrescriptions):\n",
    "                if (med in [item[3] for item in organisedPrescriptions[f]]):\n",
    "                    counter = counter + 1\n",
    "        medList2.append(counter)\n",
    "    \n",
    "    x = ([(item / len(frequents)) for item in medList])\n",
    "    y = ([(item / len(regs)) for item in medList2])\n",
    "\n",
    "    x1 = np.array(x)\n",
    "    y1 = np.array(y)\n",
    "\n",
    "    return(x1 > y1, x, y)"
   ]
  },
  {
   "cell_type": "code",
   "execution_count": 41,
   "metadata": {},
   "outputs": [
    {
     "name": "stdout",
     "output_type": "stream",
     "text": [
      "['citalopram', 'chlordiazePOXIDE', 'QUEtiapine', 'mirtazapine']\n"
     ]
    }
   ],
   "source": [
    "indicatorIndices = [2, 8, 16, 19]\n",
    "indicators = [orderedPrescList[k] for k in indicatorIndices]\n",
    "print(indicators)"
   ]
  },
  {
   "cell_type": "code",
   "execution_count": 42,
   "metadata": {
    "collapsed": true
   },
   "outputs": [],
   "source": [
    "def prescIndicators(deIds):\n",
    "    prescs = []\n",
    "    for patient in deIds:\n",
    "        if patient in organisedPrescriptions:\n",
    "            entry = organisedPrescriptions[patient]\n",
    "            data = [item[3] for item in entry]\n",
    "            if (not set(data).isdisjoint(indicators)):\n",
    "                prescs.append(1)\n",
    "            else:\n",
    "                prescs.append(0)\n",
    "    return prescs"
   ]
  },
  {
   "cell_type": "markdown",
   "metadata": {},
   "source": [
    "# N or more during indexed year\n",
    "\n",
    "Follwing code blocks deal with the case where the definion of a frequent flyer is N visits per index year (2018, 1017, 2016 etc)"
   ]
  },
  {
   "cell_type": "code",
   "execution_count": 43,
   "metadata": {
    "collapsed": true
   },
   "outputs": [],
   "source": [
    "#specialised routines that get the ETOH,tobacco, and patientBase lists for dict base data \n",
    "#(aka is same as frequentsAray above, but works on dicts)\n",
    "def frequentsArrayOrg(frequents):\n",
    "    patListFreqs = []\n",
    "    smokesHeavyFreqs = []\n",
    "    ETOHHeavyFreqs = []\n",
    "    patientBase = []\n",
    "    \n",
    "    for k in frequents.keys():\n",
    "        patListFreqs = patListFreqs + frequents[k]\n",
    "        for p in patListFreqs:\n",
    "            patientBase.append(1)\n",
    "            if p in ETOH:\n",
    "                entry = ETOH[p]\n",
    "                drinkFreq = isBad(entry[0][4], entry[0][5])\n",
    "                ETOHHeavyFreqs.append(drinkFreq)\n",
    "            else:\n",
    "                ETOHHeavyFreqs.append(0)\n",
    "            \n",
    "            if p in tobacco:\n",
    "                entry = tobacco[p]\n",
    "                smokingFreq = isBadSmoking(entry[0][2])\n",
    "                smokesHeavyFreqs.append(smokingFreq)\n",
    "            else:\n",
    "                smokesHeavyFreqs.append(0)\n",
    "    return (patientBase, ETOHHeavyFreqs, smokesHeavyFreqs)\n",
    "\n",
    "def regsArrayOrg(regulars):\n",
    "    patListRegs = []\n",
    "    smokesHeavyRegs = []\n",
    "    ETOHHeavyRegs = []\n",
    "    patientBase = []\n",
    "\n",
    "    for k in regulars.keys():\n",
    "        patListRegs = patListRegs + list(regulars[k].keys())\n",
    "\n",
    "    for p in patListRegs:\n",
    "        patientBase.append(0)\n",
    "\n",
    "        if p in ETOH:\n",
    "            entry = ETOH[p]\n",
    "            drinkFreq = isBad(entry[0][4], entry[0][5])\n",
    "            ETOHHeavyRegs.append(drinkFreq)\n",
    "        else:\n",
    "            ETOHHeavyRegs.append(0)\n",
    "        \n",
    "        if p in tobacco:\n",
    "            entry = tobacco[p]\n",
    "            smokingFreq = isBadSmoking(entry[0][2])\n",
    "            smokesHeavyRegs.append(smokingFreq)\n",
    "        else:\n",
    "            smokesHeavyRegs.append(0)\n",
    "    \n",
    "    return (patientBase, ETOHHeavyRegs, smokesHeavyRegs)"
   ]
  },
  {
   "cell_type": "code",
   "execution_count": 44,
   "metadata": {
    "collapsed": true
   },
   "outputs": [],
   "source": [
    "organisedIndex = organiseCohortDataIndex(cohort[1:])"
   ]
  },
  {
   "cell_type": "code",
   "execution_count": 45,
   "metadata": {},
   "outputs": [
    {
     "name": "stdout",
     "output_type": "stream",
     "text": [
      "Models on ETOH and Tobacco\n",
      "[0.0, 0.0, 0.0, 0.0]\n",
      "[0.0, 0.0, 0.0, 0.0]\n",
      "[0.1998753807809471, 0.1637626641434539, 0.19459509358196211, 0.15889317117075535]\n",
      "----------------------\n",
      "Models on ETOH, Tobacco and Diabetes\n",
      "[]\n",
      "[]\n",
      "[]\n",
      "----------------------\n",
      "Models on ETOH, Tobacco, Diabetes and Prescriptions\n",
      "[]\n",
      "[]\n",
      "[]\n",
      "----------------------\n",
      "Models on ETOH, Tobacco, Diabetes and Prescriptions\n",
      "[]\n",
      "[]\n",
      "[]\n"
     ]
    }
   ],
   "source": [
    "frequentsBase = getFrequentFlyersExtended(organisedIndex, visits=4)\n",
    "regularsBase = getNonFrequentFlyersBase(organisedIndex, frequentsBase)\n",
    "runCodeDicts(frequentsBase, regularsBase)"
   ]
  },
  {
   "cell_type": "code",
   "execution_count": 48,
   "metadata": {},
   "outputs": [
    {
     "name": "stdout",
     "output_type": "stream",
     "text": [
      "(array([False, False, False, False, False, False, False, False, False,\n",
      "       False, False, False, False, False, False, False, False, False,\n",
      "       False, False], dtype=bool), [0.0, 0.0, 0.0, 0.0, 0.0, 0.0, 0.0, 0.0, 0.0, 0.0, 0.0, 0.0, 0.0, 0.0, 0.0, 0.0, 0.0, 0.0, 0.0, 0.0], [0.0, 0.0, 0.0, 0.0, 0.0, 0.0, 0.0, 0.0, 0.0, 0.0, 0.0, 0.0, 0.0, 0.0, 0.0, 0.0, 0.0, 0.0, 0.0, 0.0])\n",
      "(array([False, False, False, False], dtype=bool), [0.0, 0.0, 0.0, 0.0], [0.0, 0.0, 0.0, 0.0])\n"
     ]
    }
   ],
   "source": [
    "listFreqs = []\n",
    "for f in frequentsBase.keys():\n",
    "    listFreqs = listFreqs + frequentsBase[f]\n",
    "print(runPrescriptions(frequentsBase, regularsBase))\n",
    "print(runPrescriptions(frequentsBase, regularsBase, indicators))"
   ]
  },
  {
   "cell_type": "markdown",
   "metadata": {},
   "source": [
    "# N visits 2 years after initial visit\n",
    "\n",
    "Deals with the definiton of frequent flyers that defines a frequent flyer as returning N times within a space of 2 years after a given visit"
   ]
  },
  {
   "cell_type": "code",
   "execution_count": 49,
   "metadata": {
    "collapsed": true
   },
   "outputs": [],
   "source": [
    "organised = organiseCohortData(cohort[1:])"
   ]
  },
  {
   "cell_type": "code",
   "execution_count": 50,
   "metadata": {},
   "outputs": [
    {
     "name": "stdout",
     "output_type": "stream",
     "text": [
      "Models on ETOH and Tobacco\n",
      "[0.021015761821366025, 0.008756567425569177, 0.0456140350877193, 0.08771929824561403, 0.09298245614035087]\n",
      "[0.021015761821366025, 0.008756567425569177, 0.0456140350877193, 0.08771929824561403, 0.09298245614035087]\n",
      "[0.978984238178634, 0.9912434325744308, 0.9543859649122807, 0.08771929824561403, 0.9070175438596492]\n",
      "----------------------\n",
      "Models on ETOH, Tobacco and Diabetes\n",
      "[0.021015761821366025, 0.008756567425569177, 0.0456140350877193, 0.08771929824561403, 0.09298245614035087]\n",
      "[0.021015761821366025, 0.008756567425569177, 0.0456140350877193, 0.08771929824561403, 0.09298245614035087]\n",
      "[0.021015761821366025, 0.008756567425569177, 0.9543859649122807, 0.9122807017543859, 0.9070175438596492]\n",
      "----------------------\n",
      "Models on ETOH, Tobacco, Diabetes and Prescriptions\n",
      "[0.02586206896551724, 0.0021598272138228943, 0.017278617710583154, 0.06479481641468683, 0.09719222462203024]\n",
      "[0.02586206896551724, 0.0021598272138228943, 0.017278617710583154, 0.06263498920086392, 0.09719222462203024]\n",
      "[0.02586206896551724, 0.9978401727861771, 0.017278617710583154, 0.17926565874730022, 0.1511879049676026]\n",
      "----------------------\n",
      "Models on Prescriptions\n",
      "[0.8211206896551724, 0.8336933045356372, 0.8336933045356372, 0.9222462203023758, 1.0]\n",
      "[0.8211206896551724, 0.8336933045356372, 0.8336933045356372, 0.9222462203023758, 1.0]\n",
      "[0.8211206896551724, 0.8336933045356372, 0.8336933045356372, 0.1079913606911447, 0.0367170626349892]\n",
      "(array([ True,  True,  True,  True,  True,  True,  True, False,  True,\n",
      "        True,  True,  True,  True,  True, False,  True,  True,  True,\n",
      "        True,  True], dtype=bool), [0.7335203366058906, 0.023842917251051893, 0.037868162692847124, 0.18302945301542778, 0.021037868162692847, 0.11430575035063113, 0.2776998597475456, 0.0, 0.029453015427769985, 0.11711079943899018, 0.04417952314165498, 0.16199158485273493, 0.046984572230014024, 0.061711079943899017, 0.0007012622720897616, 0.004908835904628331, 0.09607293127629733, 0.11079943899018233, 0.14305750350631136, 0.043478260869565216], [0.2082748948106592, 0.001402524544179523, 0.006311360448807854, 0.030154277699859747, 0.002805049088359046, 0.01753155680224404, 0.06732117812061711, 0.0007012622720897616, 0.0021037868162692847, 0.023842917251051893, 0.004207573632538569, 0.014025245441795231, 0.007713884992987377, 0.004908835904628331, 0.0007012622720897616, 0.0007012622720897616, 0.01332398316970547, 0.0021037868162692847, 0.03155680224403927, 0.006311360448807854])\n",
      "(array([ True,  True,  True,  True], dtype=bool), [0.037868162692847124, 0.029453015427769985, 0.09607293127629733, 0.043478260869565216], [0.006311360448807854, 0.0021037868162692847, 0.01332398316970547, 0.006311360448807854])\n"
     ]
    }
   ],
   "source": [
    "freqs = abstractFreqFlyers(organised, 730, 10)\n",
    "regs = retrieveRegulars(organised, freqs)\n",
    "\n",
    "runCode(freqs, regs)\n",
    "print(runPrescriptions(freqs, regs))\n",
    "print(runPrescriptions(freqs, regs, indicators))"
   ]
  },
  {
   "cell_type": "markdown",
   "metadata": {},
   "source": [
    "# N visits in 12 months\n",
    "\n",
    "Deals with the definition that specifies a frequent flyer as visiting N times in the space of 12 months"
   ]
  },
  {
   "cell_type": "code",
   "execution_count": 51,
   "metadata": {
    "collapsed": true
   },
   "outputs": [],
   "source": [
    "organised = organiseCohortData(cohort[1:])"
   ]
  },
  {
   "cell_type": "code",
   "execution_count": 52,
   "metadata": {},
   "outputs": [
    {
     "name": "stdout",
     "output_type": "stream",
     "text": [
      "Models on ETOH and Tobacco\n",
      "[0.010130718954248366, 0.00784441902271613, 0.045595685569537504, 0.08089557117176009, 0.08972054257231574]\n",
      "[0.010130718954248366, 0.00784441902271613, 0.045595685569537504, 0.08089557117176009, 0.08972054257231574]\n",
      "[0.010130718954248366, 0.9921555809772838, 0.9544043144304625, 0.08089557117176009, 0.9102794574276842]\n",
      "----------------------\n",
      "Models on ETOH, Tobacco and Diabetes\n",
      "[0.010130718954248366, 0.00784441902271613, 0.045595685569537504, 0.08089557117176009, 0.08972054257231574]\n",
      "[0.010130718954248366, 0.00784441902271613, 0.045595685569537504, 0.08089557117176009, 0.08972054257231574]\n",
      "[0.010130718954248366, 0.9921555809772838, 0.045595685569537504, 0.91910442882824, 0.9102794574276842]\n",
      "----------------------\n",
      "Models on ETOH, Tobacco, Diabetes and Prescriptions\n",
      "[0.01188707280832095, 0.006155805561451921, 0.007853958819783485, 0.06368074718743366, 0.08131634819532908]\n",
      "[0.01188707280832095, 0.006155805561451921, 0.007853958819783485, 0.06368074718743366, 0.08131634819532908]\n",
      "[0.9881129271916791, 0.006155805561451921, 0.9921460411802165, 0.725111441307578, 0.8598726114649682]\n",
      "----------------------\n",
      "Models on Prescriptions\n",
      "[0.0, 0.0, 0.0, 0.7527064317554659, 1.0]\n",
      "[0.0, 0.0, 0.0, 0.7527064317554659, 1.0]\n",
      "[0.9191254510719592, 0.9203990660157079, 0.9229462959032053, 0.26215240925493527, 0.03800424628450106]\n",
      "(array([ True,  True,  True,  True,  True,  True,  True,  True,  True,\n",
      "        True,  True,  True,  True,  True,  True,  True,  True,  True,\n",
      "        True,  True], dtype=bool), [0.4620865472610799, 0.008824682965093476, 0.01738789384233233, 0.09256111910053602, 0.009216891096875408, 0.06360308537063668, 0.18113478886128906, 0.0003922081317819323, 0.010262779448293895, 0.060465420316381226, 0.014315596810040528, 0.0644528696561642, 0.01882599032553275, 0.023401751862988627, 0.0005883121976728985, 0.0035298731860373906, 0.04007059746372075, 0.0370636684533926, 0.08184076349849653, 0.015688325271277292], [0.17466335468688718, 0.0021571447248006277, 0.005490913844947052, 0.030330762191136097, 0.0016342005490913845, 0.016930317688586743, 0.06693685449078311, 0.00013073604392731077, 0.0016995685710550399, 0.02464374428029808, 0.003137665054255458, 0.011962348019348935, 0.005294809779056085, 0.0045103935154922215, 0.0003268401098182769, 0.0014380964832004183, 0.011831611975421624, 0.005948489998692639, 0.031768858674336514, 0.003922081317819323])\n",
      "(array([ True,  True,  True,  True], dtype=bool), [0.01738789384233233, 0.010262779448293895, 0.04007059746372075, 0.015688325271277292], [0.005490913844947052, 0.0016995685710550399, 0.011831611975421624, 0.003922081317819323])\n"
     ]
    }
   ],
   "source": [
    "# N=3\n",
    "freqs = abstractFreqFlyers(organised, 365, 3)\n",
    "regs = retrieveRegulars(organised, freqs)\n",
    "\n",
    "runCode(freqs, regs)\n",
    "print(runPrescriptions(freqs, regs))\n",
    "print(runPrescriptions(freqs, regs, indicators))"
   ]
  },
  {
   "cell_type": "code",
   "execution_count": 53,
   "metadata": {},
   "outputs": [
    {
     "name": "stdout",
     "output_type": "stream",
     "text": [
      "Models on ETOH and Tobacco\n",
      "[0.011211460604173155, 0.00747430706944877, 0.049205854873871066, 0.09280597944565556, 0.0838006230529595]\n",
      "[0.011211460604173155, 0.00747430706944877, 0.049205854873871066, 0.09280597944565556, 0.0838006230529595]\n",
      "[0.9887885393958269, 0.9925256929305513, 0.9507941451261289, 0.09280597944565556, 0.9161993769470405]\n",
      "----------------------\n",
      "Models on ETOH, Tobacco and Diabetes\n",
      "[0.011211460604173155, 0.00747430706944877, 0.049205854873871066, 0.09280597944565556, 0.0838006230529595]\n",
      "[0.011211460604173155, 0.00747430706944877, 0.049205854873871066, 0.09280597944565556, 0.0838006230529595]\n",
      "[0.9887885393958269, 0.9925256929305513, 0.9507941451261289, 0.9071940205543444, 0.9161993769470405]\n",
      "----------------------\n",
      "Models on ETOH, Tobacco, Diabetes and Prescriptions\n",
      "[0.012519561815336464, 0.006259780907668232, 0.008215962441314555, 0.08101761252446184, 0.09158512720156556]\n",
      "[0.012519561815336464, 0.006259780907668232, 0.008215962441314555, 0.08101761252446184, 0.09158512720156556]\n",
      "[0.012519561815336464, 0.9937402190923318, 0.9917840375586855, 0.2086105675146771, 0.14442270058708415]\n",
      "----------------------\n",
      "Models on Prescriptions\n",
      "[0.0, 0.0, 0.0, 0.859491193737769, 1.0]\n",
      "[0.0, 0.0, 0.0, 0.859491193737769, 1.0]\n",
      "[0.903755868544601, 0.9057120500782473, 0.903755868544601, 0.1655577299412916, 0.034833659491193734]\n",
      "(array([ True,  True,  True,  True,  True,  True,  True,  True,  True,\n",
      "        True,  True,  True,  True,  True,  True,  True,  True,  True,\n",
      "        True,  True], dtype=bool), [0.5354428802790582, 0.012084215771770275, 0.020929363398529962, 0.11286906689921515, 0.013330011212158963, 0.07636726049582658, 0.20468419085586148, 0.00037373863211660643, 0.012707113491964619, 0.07026286283792202, 0.018188613429674847, 0.08571072629874174, 0.02441759063161829, 0.033013579170300233, 0.00037373863211660643, 0.0037373863211660643, 0.04958265852746979, 0.053195465304596984, 0.09617540799800672, 0.020929363398529962], [0.19259997508409119, 0.0023670113367385073, 0.005979818113865703, 0.031144886009717203, 0.0014949545284664257, 0.015074124828703126, 0.07362651052697147, 0.00024915908807773764, 0.00211785224866077, 0.02977451102528965, 0.0036128067771271956, 0.013952908932353307, 0.005481499937710228, 0.005855238569826835, 0.00024915908807773764, 0.0022424317926996386, 0.01171047713965367, 0.006602715834060047, 0.03737386321166065, 0.0037373863211660643])\n",
      "(array([ True,  True,  True,  True], dtype=bool), [0.020929363398529962, 0.012707113491964619, 0.04958265852746979, 0.020929363398529962], [0.005979818113865703, 0.00211785224866077, 0.01171047713965367, 0.0037373863211660643])\n"
     ]
    }
   ],
   "source": [
    "# N=4\n",
    "freqs = abstractFreqFlyers(organised, 365, 4)\n",
    "regs = retrieveRegulars(organised, freqs)\n",
    "\n",
    "runCode(freqs, regs)\n",
    "print(runPrescriptions(freqs, regs))\n",
    "print(runPrescriptions(freqs, regs, indicators))"
   ]
  },
  {
   "cell_type": "code",
   "execution_count": 54,
   "metadata": {},
   "outputs": [
    {
     "name": "stdout",
     "output_type": "stream",
     "text": [
      "Models on ETOH and Tobacco\n",
      "[0.01481103166496425, 0.008175779253960144, 0.045988758303525806, 0.10730710270822688, 0.0914665304036791]\n",
      "[0.01481103166496425, 0.008175779253960144, 0.045988758303525806, 0.10730710270822688, 0.0914665304036791]\n",
      "[0.9851889683350358, 0.9918242207460398, 0.9540112416964742, 0.8926928972917731, 0.0914665304036791]\n",
      "----------------------\n",
      "Models on ETOH, Tobacco and Diabetes\n",
      "[0.01481103166496425, 0.008175779253960144, 0.045988758303525806, 0.10730710270822688, 0.0914665304036791]\n",
      "[0.01481103166496425, 0.008175779253960144, 0.045988758303525806, 0.10730710270822688, 0.0914665304036791]\n",
      "[0.9851889683350358, 0.9918242207460398, 0.9540112416964742, 0.10730710270822688, 0.9085334695963209]\n",
      "----------------------\n",
      "Models on ETOH, Tobacco, Diabetes and Prescriptions\n",
      "[0.016476552598225603, 0.0076045627376425855, 0.008871989860583017, 0.08365019011406843, 0.10519645120405577]\n",
      "[0.016476552598225603, 0.0076045627376425855, 0.008871989860583017, 0.08365019011406843, 0.10519645120405577]\n",
      "[0.9835234474017744, 0.0076045627376425855, 0.008871989860583017, 0.21166032953105196, 0.13561470215462612]\n",
      "----------------------\n",
      "Models on Prescriptions\n",
      "[0.0, 0.0, 0.0, 0.8992395437262357, 1.0]\n",
      "[0.0, 0.0, 0.0, 0.8992395437262357, 1.0]\n",
      "[0.8814955640050697, 0.11343472750316856, 0.8808618504435995, 0.13434727503168567, 0.050697084917617236]\n",
      "(array([ True,  True,  True,  True,  True,  True,  True,  True,  True,\n",
      "        True,  True,  True,  True,  True, False,  True,  True,  True,\n",
      "        True,  True], dtype=bool), [0.5932965460862456, 0.015123646024933579, 0.0269773145309626, 0.1248722665031678, 0.016145513999591254, 0.0856325362763131, 0.21663601062742693, 0.00020437359493153485, 0.01696300837931739, 0.0774575924790517, 0.022481095442468832, 0.10361741263028816, 0.02779480891068874, 0.03740036787247088, 0.0004087471898630697, 0.005109339873288371, 0.06253832004904966, 0.06928264868179031, 0.11015736766809728, 0.02656856734109953], [0.19027181688125894, 0.0016349887594522788, 0.010627426936439812, 0.03331289597384018, 0.0020437359493153486, 0.015328019619865114, 0.0715307582260372, 0.0, 0.0006131207847946045, 0.02615982015123646, 0.004291845493562232, 0.014919272430002043, 0.005518087063151441, 0.0061312078479460455, 0.0008174943797261394, 0.0006131207847946045, 0.01430615164520744, 0.008583690987124463, 0.034334763948497854, 0.005518087063151441])\n",
      "(array([ True,  True,  True,  True], dtype=bool), [0.0269773145309626, 0.01696300837931739, 0.06253832004904966, 0.02656856734109953], [0.010627426936439812, 0.0006131207847946045, 0.01430615164520744, 0.005518087063151441])\n"
     ]
    }
   ],
   "source": [
    "# N=5\n",
    "freqs = abstractFreqFlyers(organised, 365, 5)\n",
    "regs = retrieveRegulars(organised, freqs)\n",
    "\n",
    "runCode(freqs, regs)\n",
    "print(runPrescriptions(freqs, regs))\n",
    "print(runPrescriptions(freqs, regs, indicators))"
   ]
  },
  {
   "cell_type": "code",
   "execution_count": 55,
   "metadata": {},
   "outputs": [
    {
     "name": "stdout",
     "output_type": "stream",
     "text": [
      "Models on ETOH and Tobacco\n",
      "[0.0204241948153967, 0.007069913589945012, 0.0589622641509434, 0.08883647798742138, 0.09276729559748427]\n",
      "[0.0204241948153967, 0.007069913589945012, 0.0589622641509434, 0.08883647798742138, 0.09276729559748427]\n",
      "[0.0204241948153967, 0.992930086410055, 0.9410377358490566, 0.9111635220125787, 0.9072327044025157]\n",
      "----------------------\n",
      "Models on ETOH, Tobacco and Diabetes\n",
      "[0.0204241948153967, 0.007069913589945012, 0.0589622641509434, 0.08883647798742138, 0.09276729559748427]\n",
      "[0.0204241948153967, 0.007069913589945012, 0.0589622641509434, 0.08883647798742138, 0.09276729559748427]\n",
      "[0.9795758051846033, 0.992930086410055, 0.9410377358490566, 0.9111635220125787, 0.09276729559748427]\n",
      "----------------------\n",
      "Models on ETOH, Tobacco, Diabetes and Prescriptions\n",
      "[0.023391812865497075, 0.004873294346978557, 0.009746588693957114, 0.0897560975609756, 0.09170731707317073]\n",
      "[0.023391812865497075, 0.004873294346978557, 0.009746588693957114, 0.0897560975609756, 0.09170731707317073]\n",
      "[0.9766081871345029, 0.9951267056530214, 0.009746588693957114, 0.2, 0.12585365853658537]\n",
      "----------------------\n",
      "Models on Prescriptions\n",
      "[0.0, 0.0, 0.0, 0.8995121951219512, 1.0]\n",
      "[0.0, 0.0, 0.0, 0.8995121951219512, 1.0]\n",
      "[0.8664717348927875, 0.8703703703703703, 0.868421052631579, 0.12585365853658537, 0.045853658536585365]\n",
      "(array([ True,  True,  True,  True,  True,  True,  True,  True,  True,\n",
      "        True,  True,  True,  True,  True,  True,  True,  True,  True,\n",
      "        True,  True], dtype=bool), [0.6453945300220056, 0.018233259981138006, 0.028921722728701665, 0.14115058157812008, 0.01571832756994656, 0.09336686576548256, 0.22728701666142723, 0.00031436655139893113, 0.022005658597925182, 0.08707953473750393, 0.028921722728701665, 0.11788745677459918, 0.03237975479408991, 0.04275385099025464, 0.0006287331027978623, 0.0044011317195850365, 0.0707324740647595, 0.08330713612071676, 0.12228858849418422, 0.03237975479408991], [0.1949072618673373, 0.00031436655139893113, 0.008487896887771141, 0.03237975479408991, 0.0009430996541967935, 0.02169129204652625, 0.07733417164413707, 0.0, 0.0022005658597925182, 0.026092423766111286, 0.0044011317195850365, 0.01603269412134549, 0.005972964476579692, 0.0028292989625903803, 0.0, 0.0006287331027978623, 0.012574662055957246, 0.006601697579377554, 0.03269412134548884, 0.004086765168186105])\n",
      "(array([ True,  True,  True,  True], dtype=bool), [0.028921722728701665, 0.022005658597925182, 0.0707324740647595, 0.03237975479408991], [0.008487896887771141, 0.0022005658597925182, 0.012574662055957246, 0.004086765168186105])\n"
     ]
    }
   ],
   "source": [
    "# N=6\n",
    "freqs = abstractFreqFlyers(organised, 365, 6)\n",
    "regs = retrieveRegulars(organised, freqs)\n",
    "\n",
    "runCode(freqs, regs)\n",
    "print(runPrescriptions(freqs, regs))\n",
    "print(runPrescriptions(freqs, regs, indicators))"
   ]
  },
  {
   "cell_type": "markdown",
   "metadata": {},
   "source": [
    "# N visits every year consitently\n",
    "\n",
    "Deals with the definition of frequent flyer that specifies a frequent flyer to be someone who consistently comes in more than N times every year"
   ]
  },
  {
   "cell_type": "code",
   "execution_count": 56,
   "metadata": {
    "collapsed": true
   },
   "outputs": [],
   "source": [
    "organisedIndex = organiseCohortDataIndex(cohort[1:])\n",
    "standard = organiseCohortData(cohort[1:])"
   ]
  },
  {
   "cell_type": "code",
   "execution_count": 57,
   "metadata": {
    "collapsed": true
   },
   "outputs": [],
   "source": [
    "def getChronicFrequentFlyers(frequentFlyers):\n",
    "    exists = True\n",
    "    shortest = 300000\n",
    "    lowestYear = None\n",
    "    for key in frequentFlyers:\n",
    "        if len(frequentFlyers[key]) < shortest:\n",
    "            lowestYear = key\n",
    "    \n",
    "    patientDict = frequentFlyers[lowestYear]\n",
    "    chronic = []\n",
    "    for pKey in patientDict:\n",
    "        inAll = True\n",
    "        for year in frequentFlyers.keys():\n",
    "            inAll = inAll and (pKey in frequentFlyers[year])\n",
    "        if (inAll):\n",
    "            chronic.append(pKey)\n",
    "                \n",
    "    return chronic"
   ]
  },
  {
   "cell_type": "code",
   "execution_count": 65,
   "metadata": {},
   "outputs": [
    {
     "name": "stdout",
     "output_type": "stream",
     "text": [
      "Models on ETOH and Tobacco\n",
      "[0.0, 0.0, 0.0, 0.0, 0.0]\n",
      "[0.0, 0.0, 0.0, 0.0, 0.0]\n",
      "[0.0, 1.0, 0.0, 1.0, 1.0]\n",
      "----------------------\n",
      "Models on ETOH, Tobacco and Diabetes\n",
      "[0.5, 0.6666666666666666, 0.0, 0.0, 0.0]\n",
      "[0.0, 0.0, 0.0, 0.0, 0.0]\n",
      "[0.0, 0.0, 1.0, 1.0, 1.0]\n",
      "----------------------\n",
      "Models on ETOH, Tobacco, Diabetes and Prescriptions\n",
      "[0.0, 0.0, 0.0, 0.3333333333333333, 0.0]\n",
      "[0.0, 0.0, 0.0, 0.0, 0.0]\n",
      "[0.0, 1.0, 1.0, 0.0, 0.0]\n",
      "----------------------\n",
      "Models on Prescriptions\n",
      "[0.6666666666666666, 1.0, 0.3333333333333333, 1.0, 1.0]\n",
      "[0.6666666666666666, 1.0, 0.3333333333333333, 1.0, 1.0]\n",
      "[0.6666666666666666, 1.0, 0.3333333333333333, 0.0, 0.0]\n",
      "(array([ True,  True,  True,  True,  True, False,  True, False, False,\n",
      "        True, False,  True, False,  True, False, False,  True,  True,\n",
      "       False,  True], dtype=bool), [0.875, 0.125, 0.125, 0.75, 0.125, 0.125, 0.25, 0.0, 0.0, 0.25, 0.0, 0.25, 0.0, 0.5, 0.0, 0.0, 0.125, 0.375, 0.125, 0.125], [0.375, 0.0, 0.0, 0.0, 0.0, 0.125, 0.125, 0.0, 0.0, 0.0, 0.0, 0.0, 0.0, 0.0, 0.0, 0.0, 0.0, 0.25, 0.25, 0.0])\n",
      "(array([ True, False,  True,  True], dtype=bool), [0.125, 0.0, 0.125, 0.125], [0.0, 0.0, 0.0, 0.0])\n"
     ]
    }
   ],
   "source": [
    "frequentsBase = getChronicFrequentFlyers(getFrequentFlyersExtended(organisedIndex, visits=3))\n",
    "regularsBase = retrieveRegulars(standard, frequentsBase)\n",
    "\n",
    "runCode(frequentsBase, regularsBase)\n",
    "print(runPrescriptions(frequentsBase, regularsBase))\n",
    "print(runPrescriptions(frequentsBase, regularsBase, indicators))"
   ]
  },
  {
   "cell_type": "code",
   "execution_count": 66,
   "metadata": {},
   "outputs": [
    {
     "name": "stdout",
     "output_type": "stream",
     "text": [
      "Models on ETOH and Tobacco\n",
      "[1.0, 0.0, 0.0, 0.0, 0.0]\n",
      "[0.0, 0.0, 0.0, 0.0, 0.0]\n",
      "[1.0, 1.0, 0.0, 0.0, 0.0]\n",
      "----------------------\n",
      "Models on ETOH, Tobacco and Diabetes\n",
      "[1.0, 0.0, 0.0, 0.0, 0.0]\n",
      "[0.0, 0.0, 0.0, 0.0, 0.0]\n",
      "[0.0, 1.0, 0.0, 1.0, 0.0]\n",
      "----------------------\n",
      "Models on ETOH, Tobacco, Diabetes and Prescriptions\n",
      "[0.5, 0.0, 0.0, 0.0, 0.0]\n",
      "[0.5, 0.0, 0.0, 0.0, 0.0]\n",
      "[0.0, 0.0, 0.0, 0.0, 0.0]\n",
      "----------------------\n",
      "Models on Prescriptions\n",
      "[0.5, 1.0, 0.0, 1.0, 1.0]\n",
      "[0.5, 1.0, 0.0, 1.0, 1.0]\n",
      "[0.5, 1.0, 0.0, 1.0, 1.0]\n",
      "(array([ True,  True,  True,  True,  True, False, False, False, False,\n",
      "       False, False,  True, False,  True, False, False,  True,  True,\n",
      "        True,  True], dtype=bool), [0.8, 0.2, 0.2, 0.8, 0.2, 0.0, 0.4, 0.0, 0.0, 0.0, 0.0, 0.4, 0.0, 0.4, 0.0, 0.0, 0.2, 0.2, 0.2, 0.2], [0.0, 0.0, 0.0, 0.0, 0.0, 0.0, 0.4, 0.0, 0.0, 0.0, 0.0, 0.0, 0.0, 0.0, 0.0, 0.0, 0.0, 0.0, 0.0, 0.0])\n",
      "(array([ True, False,  True,  True], dtype=bool), [0.2, 0.0, 0.2, 0.2], [0.0, 0.0, 0.0, 0.0])\n"
     ]
    }
   ],
   "source": [
    "frequentsBase = getChronicFrequentFlyers(getFrequentFlyersExtended(organisedIndex, visits=4))\n",
    "regularsBase = retrieveRegulars(standard, frequentsBase)\n",
    "\n",
    "runCode(frequentsBase, regularsBase)\n",
    "print(runPrescriptions(frequentsBase, regularsBase))\n",
    "print(runPrescriptions(frequentsBase, regularsBase, indicators))"
   ]
  },
  {
   "cell_type": "code",
   "execution_count": 68,
   "metadata": {},
   "outputs": [
    {
     "name": "stdout",
     "output_type": "stream",
     "text": [
      "Models on ETOH and Tobacco\n",
      "[0.0, 0.0, 0.0, 1.0, 0.0]\n",
      "[0.0, 0.0, 0.0, 1.0, 0.0]\n",
      "[1.0, 1.0, 0.0, 0.0, 0.0]\n",
      "----------------------\n",
      "Models on ETOH, Tobacco and Diabetes\n",
      "[0.0, 0.0, 0.0, 1.0, 0.0]\n",
      "[0.0, 0.0, 0.0, 1.0, 0.0]\n",
      "[0.0, 0.0, 1.0, 0.0, 1.0]\n",
      "----------------------\n",
      "Models on ETOH, Tobacco, Diabetes and Prescriptions\n",
      "[0.0, 0.0, 0.0, 1.0, 0.0]\n",
      "[0.0, 0.0, 0.0, 1.0, 1.0]\n",
      "[1.0, 1.0, 0.0, 0.0, 1.0]\n",
      "----------------------\n",
      "Models on Prescriptions\n",
      "[1.0, 0.0, 0.0, 1.0, 1.0]\n",
      "[0.0, 0.0, 0.0, 1.0, 1.0]\n",
      "[1.0, 1.0, 1.0, 0.0, 0.0]\n",
      "(array([ True, False, False,  True,  True, False,  True, False, False,\n",
      "       False, False,  True, False, False, False, False, False, False,\n",
      "        True, False], dtype=bool), [1.0, 0.0, 0.0, 1.0, 0.5, 0.0, 0.5, 0.0, 0.0, 0.0, 0.0, 1.0, 0.0, 0.0, 0.0, 0.0, 0.0, 0.0, 0.5, 0.0], [0.25, 0.0, 0.0, 0.0, 0.0, 0.0, 0.25, 0.0, 0.0, 0.0, 0.0, 0.0, 0.0, 0.0, 0.0, 0.0, 0.0, 0.0, 0.0, 0.0])\n",
      "(array([False, False, False, False], dtype=bool), [0.0, 0.0, 0.0, 0.0], [0.0, 0.0, 0.0, 0.0])\n"
     ]
    }
   ],
   "source": [
    "frequentsBase = getChronicFrequentFlyers(getFrequentFlyersExtended(organisedIndex, visits=5))\n",
    "frequentsBase = frequentsBase+frequentsBase\n",
    "\n",
    "regularsBase = retrieveRegulars(standard, frequentsBase)\n",
    "\n",
    "runCode(frequentsBase, regularsBase)\n",
    "print(runPrescriptions(frequentsBase, regularsBase))\n",
    "print(runPrescriptions(frequentsBase, regularsBase, indicators))"
   ]
  },
  {
   "cell_type": "markdown",
   "metadata": {},
   "source": [
    "# Returned within 28 days ever\n",
    "\n",
    "Defines a frequent flyer to be anyone who has returned 28 days within their discharge period"
   ]
  },
  {
   "cell_type": "code",
   "execution_count": 69,
   "metadata": {},
   "outputs": [
    {
     "name": "stdout",
     "output_type": "stream",
     "text": [
      "Models on ETOH and Tobacco\n",
      "[0.008195703464547373, 0.006581398236681982, 0.04272230501738698, 0.0853204172876304, 0.08817685047193244]\n",
      "[0.008195703464547373, 0.006581398236681982, 0.04272230501738698, 0.0853204172876304, 0.08817685047193244]\n",
      "[0.9918042965354527, 0.006581398236681982, 0.9572776949826131, 0.9146795827123696, 0.08817685047193244]\n",
      "----------------------\n",
      "Models on ETOH, Tobacco and Diabetes\n",
      "[0.008195703464547373, 0.006581398236681982, 0.04272230501738698, 0.0853204172876304, 0.08817685047193244]\n",
      "[0.008195703464547373, 0.006581398236681982, 0.04272230501738698, 0.0853204172876304, 0.08817685047193244]\n",
      "[0.9918042965354527, 0.993418601763318, 0.9572776949826131, 0.9146795827123696, 0.9118231495280675]\n",
      "----------------------\n",
      "Models on ETOH, Tobacco, Diabetes and Prescriptions\n",
      "[0.009430784776018861, 0.005053057099545225, 0.0067374094660602995, 0.05086744146875526, 0.08741788782213239]\n",
      "[0.009430784776018861, 0.005053057099545225, 0.0067374094660602995, 0.05086744146875526, 0.08741788782213239]\n",
      "[0.9905692152239811, 0.9949469429004548, 0.0067374094660602995, 0.3801583291224524, 0.13862219976419066]\n",
      "----------------------\n",
      "Models on Prescriptions\n",
      "[0.0, 0.0, 0.0, 0.6093986862051541, 1.0]\n",
      "[0.0, 0.0, 0.0, 0.6093986862051541, 1.0]\n",
      "[0.9272482317278545, 0.9317837291561395, 0.9321205996294425, 0.3980124642075122, 0.9604177193868957]\n",
      "(array([ True,  True,  True,  True,  True,  True,  True, False,  True,\n",
      "        True,  True,  True,  True,  True, False,  True,  True,  True,\n",
      "        True,  True], dtype=bool), [0.40450052158362726, 0.006408027420396404, 0.014753365456261488, 0.07227658834633152, 0.006855099100889176, 0.05230738661765436, 0.15170632358054742, 9.934926233172718e-05, 0.007401520043713675, 0.049823655059361184, 0.011226466643485172, 0.05310218071630818, 0.015001738612090806, 0.020217574884506484, 0.00039739704932690873, 0.00317917639461527, 0.03338135214346034, 0.030500223535840247, 0.06532213998311062, 0.013362475783617307], [0.17202324772738561, 0.0018876359843028165, 0.007302170781381948, 0.02846356365803984, 0.001341215041478317, 0.017286771645720532, 0.06581888629476926, 0.00024837315582931796, 0.001589588197307635, 0.026873975460732204, 0.0028811286076200885, 0.011226466643485172, 0.005414534797079131, 0.003973970493269087, 0.00039739704932690873, 0.00124186577914659, 0.011176792012319308, 0.004272018280264269, 0.03377874919278724, 0.004122994386766678])\n",
      "(array([ True,  True,  True,  True], dtype=bool), [0.014753365456261488, 0.007401520043713675, 0.03338135214346034, 0.013362475783617307], [0.007302170781381948, 0.001589588197307635, 0.011176792012319308, 0.004122994386766678])\n"
     ]
    }
   ],
   "source": [
    "organised = organiseCohortData(cohort[1:])\n",
    "\n",
    "freqs28days = abstractFreqFlyers(organised, 28, 2)\n",
    "regs28days = retrieveRegulars(organised, freqs28days)\n",
    "\n",
    "runCode(freqs28days, regs28days)\n",
    "print(runPrescriptions(freqs28days, regs28days))\n",
    "print(runPrescriptions(freqs28days, regs28days, indicators))"
   ]
  },
  {
   "cell_type": "code",
   "execution_count": null,
   "metadata": {
    "collapsed": true
   },
   "outputs": [],
   "source": []
  },
  {
   "cell_type": "code",
   "execution_count": null,
   "metadata": {
    "collapsed": true
   },
   "outputs": [],
   "source": []
  },
  {
   "cell_type": "code",
   "execution_count": null,
   "metadata": {
    "collapsed": true
   },
   "outputs": [],
   "source": []
  },
  {
   "cell_type": "code",
   "execution_count": null,
   "metadata": {
    "collapsed": true
   },
   "outputs": [],
   "source": []
  }
 ],
 "metadata": {
  "kernelspec": {
   "display_name": "Python 3",
   "language": "python",
   "name": "python3"
  },
  "language_info": {
   "codemirror_mode": {
    "name": "ipython",
    "version": 3
   },
   "file_extension": ".py",
   "mimetype": "text/x-python",
   "name": "python",
   "nbconvert_exporter": "python",
   "pygments_lexer": "ipython3",
   "version": "3.6.3"
  }
 },
 "nbformat": 4,
 "nbformat_minor": 2
}
