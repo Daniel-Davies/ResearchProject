{
 "cells": [
  {
   "cell_type": "markdown",
   "metadata": {},
   "source": [
    "# Most impactful PrimaryDXCodes"
   ]
  },
  {
   "cell_type": "markdown",
   "metadata": {},
   "source": [
    "We wanted to run an analysis on the PrimaryDX Column to see if there is some kind of correlation between frequent and non frequent flyers\n",
    "\n",
    "A  primaryDX code essentially measures the main reason for entry of a patient"
   ]
  },
  {
   "cell_type": "markdown",
   "metadata": {},
   "source": [
    "### initialise libraries"
   ]
  },
  {
   "cell_type": "code",
   "execution_count": 1,
   "metadata": {
    "collapsed": true
   },
   "outputs": [],
   "source": [
    "%matplotlib inline\n",
    "# notebook\n",
    "import matplotlib.pylab as pylab\n",
    "import sklearn\n",
    "import matplotlib.pyplot as plt\n",
    "from sklearn.model_selection import KFold\n",
    "from sklearn.linear_model import LogisticRegression\n",
    "from sklearn.neighbors import KNeighborsClassifier\n",
    "from sklearn import svm\n",
    "from sklearn.cluster import KMeans\n",
    "from collections import Counter\n",
    "import numpy as np\n",
    "from sklearn.decomposition import PCA\n",
    "\n",
    "#make the graphs bigger\n",
    "pylab.rcParams['figure.figsize'] = (32.0, 24.0)\n",
    "pylab.rcParams['font.size'] = 24"
   ]
  },
  {
   "cell_type": "markdown",
   "metadata": {},
   "source": [
    "### Read data from files & setup"
   ]
  },
  {
   "cell_type": "code",
   "execution_count": 2,
   "metadata": {
    "collapsed": true
   },
   "outputs": [],
   "source": [
    "cohort = []\n",
    "ETOH = []\n",
    "hw = []\n",
    "labOrders = []\n",
    "medOrders = []\n",
    "prescriptions = []\n",
    "radiology = []\n",
    "tobacco = []\n",
    "vitals = []"
   ]
  },
  {
   "cell_type": "code",
   "execution_count": 3,
   "metadata": {
    "collapsed": true
   },
   "outputs": [],
   "source": [
    "\n",
    "#converts each row in the file to a list of strings (a list containing a string for each column)\n",
    "def fileToList(fname):\n",
    "    dataArray = []\n",
    "    with open(fname) as f:\n",
    "        for line in f:\n",
    "            new = line.strip()\n",
    "            new = new[1:len(new) - 1]\n",
    "            new = new.split('\",\"')\n",
    "            if (len(new) > 1):\n",
    "                dataArray.append(new)\n",
    "    return dataArray"
   ]
  },
  {
   "cell_type": "code",
   "execution_count": 4,
   "metadata": {
    "collapsed": true
   },
   "outputs": [],
   "source": [
    "#adds each row to a dictionary ordered by de_id \n",
    "#where each dict entry is a list of strings(a list containing a string for each column)\n",
    "def fileToDict(fname):\n",
    "    dataDict = dict()\n",
    "    with open(fname) as f:\n",
    "        for line in f:\n",
    "            new = line.strip()\n",
    "            new = new[1:len(new) - 1]\n",
    "            new = new.split('\",\"')\n",
    "            if (len(new) > 1):\n",
    "                if not(new[0] in dataDict):\n",
    "                    dataDict[new[0]] = [new]\n",
    "                else:\n",
    "                    dataDict[new[0]].append(new)\n",
    "    return dataDict"
   ]
  },
  {
   "cell_type": "code",
   "execution_count": 5,
   "metadata": {
    "collapsed": true
   },
   "outputs": [],
   "source": [
    "#get the cohort data containing the PrimaryDXCodes\n",
    "fname = \"2018-4169_Cohort.txt\"\n",
    "cohort = fileToList(fname)"
   ]
  },
  {
   "cell_type": "code",
   "execution_count": 9,
   "metadata": {
    "collapsed": true
   },
   "outputs": [],
   "source": [
    "import collections\n",
    "from datetime import datetime\n",
    "\n",
    "#returns a dict of lists\n",
    "    #dict of patients\n",
    "        #list of admissions\n",
    "def organiseCohortData(myCohort):\n",
    "    organised = dict()\n",
    "    for admission in myCohort:\n",
    "        if admission[0] in organised:\n",
    "            organised[admission[0]].append(admission[1:])\n",
    "        else:\n",
    "            organised[admission[0]] = [admission[1:]]\n",
    "            \n",
    "    \n",
    "    for p in organised.keys():\n",
    "        organised[p] = sorted(organised[p], key = lambda x: datetime.strptime(x[8][0:10], '%Y-%m-%d'))\n",
    "    return organised\n",
    "    "
   ]
  },
  {
   "cell_type": "code",
   "execution_count": 10,
   "metadata": {
    "collapsed": true
   },
   "outputs": [],
   "source": [
    "from datetime import datetime, timedelta\n",
    "\n",
    "#method for finding frequent flyers where you specify a gap/time frame in days(e.g. 12 months, one month, one week etc)\n",
    "#and a number of visits, and this method will get frequent flyers for that definition\n",
    "#uses the organisation of the cohort data specified by the organiseCohortData method (aka dict of lists)\n",
    "def abstractFreqFlyers(organised, gap, visits):\n",
    "    frequentFlyers = []\n",
    "    for p in organised.keys():\n",
    "        dates = [datetime.strptime(item[8][0:10], '%Y-%m-%d') for item in organised[p]]\n",
    "        try:\n",
    "            for i in range(len(dates)):\n",
    "                modified_date = dates[i] + timedelta(days=gap)\n",
    "                if dates[i+visits-1] <= modified_date:\n",
    "                    frequentFlyers.append(p)\n",
    "                    break\n",
    "        except:\n",
    "            pass\n",
    "    return frequentFlyers"
   ]
  },
  {
   "cell_type": "code",
   "execution_count": 11,
   "metadata": {
    "collapsed": true
   },
   "outputs": [],
   "source": [
    "#gets the number of differences between 2 lists\n",
    "def difference(l1,l2):\n",
    "    return len([b for a,b in zip(l1,l2) if b != a])  "
   ]
  },
  {
   "cell_type": "code",
   "execution_count": 27,
   "metadata": {
    "collapsed": true
   },
   "outputs": [],
   "source": [
    "#given a set of data training points (Xtr) and classes (patientBase), run a number of models  on given X and Y\n",
    "#use a K-fold algorithm to get error across 4 runs overall\n",
    "def runModels(Xtr, patientBase, printOn=True):\n",
    "    kf = KFold(n_splits=5, shuffle=True)\n",
    "    Ytr = patientBase\n",
    "    differencesLR = []\n",
    "    differencesKNN = []\n",
    "    differencesKM = []\n",
    "\n",
    "    for train_index, test_index in kf.split(Xtr):\n",
    "        X_train, X_test = [Xtr[i] for i in train_index], [Xtr[i] for i in test_index]\n",
    "        y_train, y_test = [Ytr[i] for i in train_index], [Ytr[i] for i in test_index]\n",
    "    \n",
    "        if (1 in y_train and 0 in y_train):\n",
    "            lr = LogisticRegression()\n",
    "            lr.fit(X_train, y_train)\n",
    "            #PredLR = lr.predict(X_test)\n",
    "            differencesLR.append(lr.score(X_test, y_test))\n",
    "    \n",
    "            km = KMeans(n_clusters=2)\n",
    "            km.fit(X_train, y_train)\n",
    "            PredKM = km.predict(X_test)\n",
    "            differencesKM.append(1 - difference(PredKM, y_test)/len(y_test))\n",
    "            \n",
    "            neigh = KNeighborsClassifier(n_neighbors=5)\n",
    "            neigh.fit(X_train, y_train)\n",
    "            differencesKNN.append(neigh.score(X_test, y_test))\n",
    "    if (printOn): \n",
    "        print((differencesLR))\n",
    "        print((differencesKNN))\n",
    "        print((differencesKM))\n",
    "    return (np.mean(differencesLR))"
   ]
  },
  {
   "cell_type": "code",
   "execution_count": 20,
   "metadata": {
    "collapsed": true
   },
   "outputs": [],
   "source": [
    "#given an IS9 code, returns an index from 0 to 15, representing the index in the array\n",
    "#for that given condition represented by the code\n",
    "def getIndexIS9(code):\n",
    "    if code >= 0 and code < 140: return 0 #infections\n",
    "    if code >= 140 and code < 240: return 1 #neoplasms\n",
    "    if code >= 240 and code < 280: return 3 #immunity/metabolic\n",
    "    if code >= 280 and code < 290: return 2 #blood \n",
    "    if code >= 290 and code < 320: return 4 #mental disorders\n",
    "    if code >= 320 and code < 390: return 5 #nervous system\n",
    "    if code >= 390 and code < 460: return 6 #circulation\n",
    "    if code >= 460 and code < 520: return 7 #respiratry\n",
    "    if code >= 520 and code < 580: return 8 #digestive system\n",
    "    if code >= 580 and code < 630: return 15 #genitourinary\n",
    "    if code >= 630 and code < 680: return 10 #childbirth\n",
    "    if code >= 680 and code < 710: return 11 #skin\n",
    "    if code >= 710 and code < 740: return 9 #musculoskeletal\n",
    "    if code >= 740 and code < 760: return 12 #congenital\n",
    "    if code >= 760 and code < 780: return 13 #perinatal\n",
    "    if code >= 800 and code < 1000: return 14 #injury/poisoning\n",
    "\n",
    "#given an IS10 code, returns an index from 0 to 15, representing the index in the array\n",
    "#for that given condition represented by the code\n",
    "def getIndexIS10(code):\n",
    "    if ((code[0]).lower() == 'a' or (code[0]).lower() == 'b'): return 0\n",
    "    if ((code[0]).lower() == 'c' or ((code[0]).lower() == 'd' and int(code[1]) < 5)): return 1\n",
    "    if ((code[0]).lower() == 'd'): return 2\n",
    "    if ((code[0]).lower() == 'e'): return 3\n",
    "    if ((code[0]).lower() == 'f'): return 4\n",
    "    if ((code[0]).lower() == 'g'): return 5\n",
    "    if ((code[0]).lower() == 'i'): return 6\n",
    "    if ((code[0]).lower() == 'j'): return 7\n",
    "    if ((code[0]).lower() == 'k'): return 8\n",
    "    if ((code[0]).lower() == 'm'): return 9\n",
    "    if ((code[0]).lower() == 'o'): return 10\n",
    "    if ((code[0]).lower() == 'l'): return 11\n",
    "    if ((code[0]).lower() == 'q'): return 12\n",
    "    if ((code[0]).lower() == 'p'): return 13\n",
    "    if ((code[0]).lower() == 's' or (code[0]).lower() == 't'): return 14\n",
    "    if ((code[0]).lower() == 'n'): return 15\n",
    "\n",
    "#given a list of patient data, we:\n",
    "# -strip the primaryDXCode\n",
    "# -convert the DXCode to an index\n",
    "# -set that index of our row vector to 1\n",
    "def getFeatures(de_id):\n",
    "    datalist = organised[de_id]\n",
    "    codes = [item[10] for item in datalist]\n",
    "    features = [0] * 16\n",
    "    for code in codes:\n",
    "        if (len(code)>0):\n",
    "            try:\n",
    "                newcode = float(code)\n",
    "                features[getIndexIS9(newcode)] = 1\n",
    "            except:\n",
    "                if(getIndexIS10(code) is not None): features[getIndexIS10(code)] = 1\n",
    "    return features"
   ]
  },
  {
   "cell_type": "code",
   "execution_count": 39,
   "metadata": {
    "collapsed": true
   },
   "outputs": [],
   "source": [
    "#calculates Xtr and Ytr and runs models \n",
    "def runCode(frequents, regs):\n",
    "    \n",
    "    #gets a list of vectors representing the PrimaryDXCodes\n",
    "    freqFeatures = list(map(getFeatures, frequents))\n",
    "    regFeatures = list(map(getFeatures, regs))\n",
    "\n",
    "    #X = list of feature vectors, Y = list of 1s and 0s for frequent flyers and non frequent flyers\n",
    "    Xtr = freqFeatures+regFeatures\n",
    "    Ytr = [1]*len(freqFeatures) + [0]*len(regFeatures)\n",
    "    \n",
    "    #runs models on X and Y\n",
    "    print(\"---------------------------------------------------\")\n",
    "    print(\"Using Labels\")\n",
    "    runModels(Xtr,Ytr)\n",
    "    print(\"---------------------------------------------------\")\n",
    "    \n",
    "    #print most influencial features by running the models on the individual components of the feature vector\n",
    "    print(\"5 most influencial features\")\n",
    "    indie = []\n",
    "    for i in range(len(Xtr[0])):\n",
    "        indie.append((runModels([[item[i]] for item in Xtr], Ytr, printOn=False), i))\n",
    "    indie = sorted(indie, key=lambda x: x[0])[::-1]\n",
    "    indie = indie[0:5]\n",
    "    print(len(Xtr[0]))\n",
    "    englishList = [\"infections\",\"neoplasms\",\"blood\",\"immunity/metabolic\",\"mental\",\"nervous system\",\"circulatory\",\"respiratory\",\"digestive\",\"muskoskeletal\",\"childbirth\",\"skin\",\"congenital\",\"perinatal\",\"injury/poisoning\", \"genitourinary\"]\n",
    "    for col in indie:\n",
    "        print(str(col[0]) + \"  \" + str(col[1]) + \"  \" + englishList[col[1]])\n"
   ]
  },
  {
   "cell_type": "code",
   "execution_count": 16,
   "metadata": {
    "collapsed": true
   },
   "outputs": [],
   "source": [
    "\n",
    "#given a list of frequent flyers, and a list of patients, calculate the patients that are not frequent flyers\n",
    "def retrieveRegulars(org, frequents):\n",
    "    regularsBase = []\n",
    "    newOrder = Counter(frequents)\n",
    "    for k in org.keys():\n",
    "        if not(k in newOrder):\n",
    "            regularsBase.append(k)\n",
    "    \n",
    "    return list(np.random.choice(regularsBase, len(frequents)))"
   ]
  },
  {
   "cell_type": "markdown",
   "metadata": {},
   "source": [
    "# Analysis per data column on different definitions of Frequent Flyer"
   ]
  },
  {
   "cell_type": "markdown",
   "metadata": {},
   "source": [
    "# N visits 2 years after initial visit\n",
    "\n",
    "Deals with the definiton of frequent flyers that defines a frequent flyer as returning N times within a space of 2 years after a given visit"
   ]
  },
  {
   "cell_type": "code",
   "execution_count": 41,
   "metadata": {
    "collapsed": true
   },
   "outputs": [],
   "source": [
    "organised = organiseCohortData(cohort[1:])"
   ]
  },
  {
   "cell_type": "code",
   "execution_count": 42,
   "metadata": {},
   "outputs": [
    {
     "name": "stdout",
     "output_type": "stream",
     "text": [
      "---------------------------------------------------\n",
      "Using Labels\n",
      "[0.92119089316987746, 0.9159369527145359, 0.93333333333333335, 0.91754385964912277, 0.92105263157894735]\n",
      "[0.83012259194395799, 0.82661996497373025, 0.84736842105263155, 0.82280701754385965, 0.85263157894736841]\n",
      "[0.13485113835376528, 0.13485113835376528, 0.12456140350877198, 0.8631578947368421, 0.14035087719298245]\n",
      "---------------------------------------------------\n",
      "5 most influencial features\n",
      "16\n",
      "0.717395766123  8  digestive\n",
      "0.70862506529  9  muskoskeletal\n",
      "0.683734291947  15  genitourinary\n",
      "0.670761667742  0  infections\n",
      "0.666538237011  5  nervous\n"
     ]
    }
   ],
   "source": [
    "freqs = abstractFreqFlyers(organised, 730, 10)\n",
    "regs = retrieveRegulars(organised, freqs)\n",
    "\n",
    "runCode(freqs, regs)"
   ]
  },
  {
   "cell_type": "markdown",
   "metadata": {},
   "source": [
    "# N visits in 12 months\n",
    "\n",
    "Deals with the definition that specifies a frequent flyer as visiting N times in the space of 12 months"
   ]
  },
  {
   "cell_type": "code",
   "execution_count": 43,
   "metadata": {
    "collapsed": true
   },
   "outputs": [],
   "source": [
    "organised = organiseCohortData(cohort[1:])"
   ]
  },
  {
   "cell_type": "code",
   "execution_count": 44,
   "metadata": {},
   "outputs": [
    {
     "name": "stdout",
     "output_type": "stream",
     "text": [
      "---------------------------------------------------\n",
      "Using Labels\n",
      "[0.84738562091503267, 0.84670697826442232, 0.84572642588658276, 0.84997548619055396, 0.85013891158686061]\n",
      "[0.51258169934640518, 0.51446314757313283, 0.50596502696519041, 0.50874325870240233, 0.49861088413139404]\n",
      "[0.46062091503267977, 0.53374734433731, 0.5412649125674129, 0.562183363294656, 0.4482758620689655]\n",
      "---------------------------------------------------\n",
      "5 most influencial features\n",
      "16\n",
      "0.604621371128  9  muskoskeletal\n",
      "0.603248560415  8  digestive\n",
      "0.590665419079  15  genitourinary\n",
      "0.586089684226  0  infections\n",
      "0.570270725384  7  respiratory\n"
     ]
    }
   ],
   "source": [
    "# N=3\n",
    "freqs = abstractFreqFlyers(organised, 365, 3)\n",
    "regs = retrieveRegulars(organised, freqs)\n",
    "\n",
    "runCode(freqs, regs)"
   ]
  },
  {
   "cell_type": "code",
   "execution_count": 45,
   "metadata": {},
   "outputs": [
    {
     "name": "stdout",
     "output_type": "stream",
     "text": [
      "---------------------------------------------------\n",
      "Using Labels\n",
      "[0.87978822796636558, 0.87355963874182496, 0.86577390221114914, 0.87418249766427902, 0.86760124610591904]\n",
      "[0.50264715042042973, 0.51728433509810023, 0.51323575210214889, 0.50700716287760828, 0.51775700934579438]\n",
      "[0.41139831828090934, 0.5668016194331984, 0.573030208657739, 0.4254126440361258, 0.5710280373831775]\n",
      "---------------------------------------------------\n",
      "5 most influencial features\n",
      "16\n",
      "0.632241370445  8  digestive\n",
      "0.631119875118  9  muskoskeletal\n",
      "0.614115263827  15  genitourinary\n",
      "0.60925580001  0  infections\n",
      "0.588513414266  7  respiratory\n"
     ]
    }
   ],
   "source": [
    "# N=4\n",
    "freqs = abstractFreqFlyers(organised, 365, 4)\n",
    "regs = retrieveRegulars(organised, freqs)\n",
    "\n",
    "runCode(freqs, regs)\n"
   ]
  },
  {
   "cell_type": "code",
   "execution_count": 46,
   "metadata": {},
   "outputs": [
    {
     "name": "stdout",
     "output_type": "stream",
     "text": [
      "---------------------------------------------------\n",
      "Using Labels\n",
      "[0.8932584269662921, 0.88247317322432295, 0.88094021461420546, 0.8799182422074604, 0.89320388349514568]\n",
      "[0.49387129724208378, 0.510986203372509, 0.51711803781297905, 0.52529381706693923, 0.51251916198262648]\n",
      "[0.41113381001021454, 0.39039345937659686, 0.38681655595298925, 0.601430761369443, 0.6019417475728155]\n",
      "---------------------------------------------------\n",
      "5 most influencial features\n",
      "16\n",
      "0.654098876613  8  digestive\n",
      "0.648169662034  9  muskoskeletal\n",
      "0.634479616139  15  genitourinary\n",
      "0.631107107197  0  infections\n",
      "0.603004588437  14  injury/poisoning\n"
     ]
    }
   ],
   "source": [
    "# N=5\n",
    "freqs = abstractFreqFlyers(organised, 365, 5)\n",
    "regs = retrieveRegulars(organised, freqs)\n",
    "\n",
    "runCode(freqs, regs)\n"
   ]
  },
  {
   "cell_type": "code",
   "execution_count": 47,
   "metadata": {},
   "outputs": [
    {
     "name": "stdout",
     "output_type": "stream",
     "text": [
      "---------------------------------------------------\n",
      "Using Labels\n",
      "[0.90259230164964654, 0.90259230164964654, 0.90408805031446537, 0.90094339622641506, 0.89229559748427678]\n",
      "[0.53888452474469761, 0.54595443833464252, 0.52908805031446537, 0.51415094339622647, 0.6470125786163522]\n",
      "[0.1822466614296936, 0.821681068342498, 0.18003144654088055, 0.8262578616352201, 0.8066037735849056]\n",
      "---------------------------------------------------\n",
      "5 most influencial features\n",
      "16\n",
      "0.674633164861  8  digestive\n",
      "0.671175898067  9  muskoskeletal\n",
      "0.649322157831  15  genitourinary\n",
      "0.643347685604  0  infections\n",
      "0.618201569116  5  nervous\n"
     ]
    }
   ],
   "source": [
    "# N=6\n",
    "freqs = abstractFreqFlyers(organised, 365, 6)\n",
    "regs = retrieveRegulars(organised, freqs)\n",
    "\n",
    "runCode(freqs, regs)\n"
   ]
  },
  {
   "cell_type": "markdown",
   "metadata": {},
   "source": [
    "# Returned within 28 days ever\n",
    "\n",
    "Defines a frequent flyer to be anyone who has returned 28 days within their discharge period"
   ]
  },
  {
   "cell_type": "code",
   "execution_count": null,
   "metadata": {
    "collapsed": true
   },
   "outputs": [],
   "source": [
    "organised = organiseCohortData(cohort[1:])\n",
    "\n",
    "freqs28days = abstractFreqFlyers(organised, 28, 2)\n",
    "regs28days = retrieveRegulars(organised, freqs28days)\n",
    "\n",
    "runCode(freqs28days, regs28days)\n"
   ]
  },
  {
   "cell_type": "code",
   "execution_count": null,
   "metadata": {
    "collapsed": true
   },
   "outputs": [],
   "source": []
  },
  {
   "cell_type": "code",
   "execution_count": null,
   "metadata": {
    "collapsed": true
   },
   "outputs": [],
   "source": []
  },
  {
   "cell_type": "code",
   "execution_count": null,
   "metadata": {
    "collapsed": true
   },
   "outputs": [],
   "source": []
  }
 ],
 "metadata": {
  "kernelspec": {
   "display_name": "Python 3",
   "language": "python",
   "name": "python3"
  },
  "language_info": {
   "codemirror_mode": {
    "name": "ipython",
    "version": 3
   },
   "file_extension": ".py",
   "mimetype": "text/x-python",
   "name": "python",
   "nbconvert_exporter": "python",
   "pygments_lexer": "ipython3",
   "version": "3.6.3"
  }
 },
 "nbformat": 4,
 "nbformat_minor": 2
}
