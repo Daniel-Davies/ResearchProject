{
 "cells": [
  {
   "cell_type": "markdown",
   "metadata": {},
   "source": [
    "# Frequent Flyers By Depression"
   ]
  },
  {
   "cell_type": "code",
   "execution_count": null,
   "metadata": {
    "collapsed": true
   },
   "outputs": [],
   "source": [
    "%matplotlib inline\n",
    "# notebook\n",
    "import matplotlib.pylab as pylab\n",
    "import sklearn\n",
    "import matplotlib.pyplot as plt\n",
    "from sklearn.model_selection import KFold\n",
    "from sklearn.linear_model import LogisticRegression\n",
    "from sklearn.neighbors import KNeighborsClassifier\n",
    "from sklearn import svm\n",
    "from sklearn.cluster import KMeans\n",
    "from collections import Counter\n",
    "import numpy as np\n",
    "\n",
    "#make the graphs bigger\n",
    "pylab.rcParams['figure.figsize'] = (32.0, 24.0)\n",
    "pylab.rcParams['font.size'] = 24"
   ]
  },
  {
   "cell_type": "code",
   "execution_count": null,
   "metadata": {
    "collapsed": true
   },
   "outputs": [],
   "source": [
    "cohort = []\n",
    "ETOH = []\n",
    "hw = []\n",
    "labOrders = []\n",
    "medOrders = []\n",
    "prescriptions = []\n",
    "radiology = []\n",
    "tobacco = []\n",
    "vitals = []"
   ]
  },
  {
   "cell_type": "code",
   "execution_count": null,
   "metadata": {
    "collapsed": true
   },
   "outputs": [],
   "source": [
    "def fileToList(fname):\n",
    "    dataArray = []\n",
    "    with open(fname) as f:\n",
    "        for line in f:\n",
    "            new = line.strip()\n",
    "            new = new[1:len(new) - 1]\n",
    "            new = new.split('\",\"')\n",
    "            if (len(new) > 1):\n",
    "                dataArray.append(new)\n",
    "    return dataArray\n",
    "\n",
    "def abstractFreqFlyers(organised, gap, visits):\n",
    "    frequentFlyers = []\n",
    "    for p in organised.keys():\n",
    "        dates = [datetime.strptime(item[8][0:10], '%Y-%m-%d') for item in organised[p]]\n",
    "        try:\n",
    "            for i in range(len(dates)):\n",
    "                modified_date = dates[i] + timedelta(days=gap)\n",
    "                if dates[i+visits-1] <= modified_date:\n",
    "                    frequentFlyers.append(p)\n",
    "                    break\n",
    "        except:\n",
    "            pass\n",
    "    return frequentFlyers\n",
    "\n",
    "def organiseCohortData(myCohort):\n",
    "    organised = dict()\n",
    "    for admission in myCohort:\n",
    "        if admission[0] in organised:\n",
    "            organised[admission[0]].append(admission[1:])\n",
    "        else:\n",
    "            organised[admission[0]] = [admission[1:]]\n",
    "            \n",
    "    \n",
    "    for p in organised.keys():\n",
    "        organised[p] = sorted(organised[p], key = lambda x: datetime.strptime(x[8][0:10], '%Y-%m-%d'))\n",
    "    return organised\n",
    "\n",
    "def retrieveRegulars(org, frequents):\n",
    "    regularsBase = []\n",
    "    newOrder = Counter(frequents)\n",
    "    for k in org.keys():\n",
    "        if not(k in newOrder):\n",
    "            regularsBase.append(k)\n",
    "    \n",
    "    return list(np.random.choice(regularsBase, len(frequents)))\n",
    "\n",
    "def runCode(frequents, regs):\n",
    "    freqArray = mentalHealthIssues(frequents)\n",
    "    regsArray = mentalHealthIssues(regs)\n",
    "    \n",
    "    patientBase = [1]*len(frequents) + [0]*len(regs)\n",
    "\n",
    "    Xtr = list(map(list,zip(totalSmokes, ETOHTotal)))\n",
    "    print(\"Models on ETOH and Tobacco\")\n",
    "    runModels(Xtr, patientBase)\n",
    "\n",
    "def runModels(Xtr, patientBase):\n",
    "    kf = KFold(n_splits=5, shuffle=True)\n",
    "    Ytr = patientBase\n",
    "    differencesLR = []\n",
    "    differencesSVM = []\n",
    "    differencesKM = []\n",
    "\n",
    "    for train_index, test_index in kf.split(Xtr):\n",
    "        X_train, X_test = [Xtr[i] for i in train_index], [Xtr[i] for i in test_index]\n",
    "        y_train, y_test = [Ytr[i] for i in train_index], [Ytr[i] for i in test_index]\n",
    "    \n",
    "        if (1 in y_train and 0 in y_train):\n",
    "            lr = LogisticRegression()\n",
    "            lr.fit(X_train, y_train)\n",
    "            PredLR = lr.predict(X_test)\n",
    "            differencesLR.append(difference(PredLR, y_test)/len(y_test))\n",
    "    \n",
    "            km = KMeans(n_clusters=2)\n",
    "            km.fit(X_train, y_train)\n",
    "            PredKM = km.predict(X_test)\n",
    "            differencesKM.append(difference(PredKM, y_test)/len(y_test))\n",
    "    print((differencesLR))\n",
    "    print((differencesSVM))\n",
    "    print((differencesKM))"
   ]
  },
  {
   "cell_type": "code",
   "execution_count": null,
   "metadata": {
    "collapsed": true
   },
   "outputs": [],
   "source": [
    "fname = \"2018-4169_Cohort.txt\"\n",
    "cohort = fileToList(fname)"
   ]
  },
  {
   "cell_type": "code",
   "execution_count": null,
   "metadata": {
    "collapsed": true
   },
   "outputs": [],
   "source": []
  },
  {
   "cell_type": "code",
   "execution_count": null,
   "metadata": {
    "collapsed": true
   },
   "outputs": [],
   "source": [
    "organised = organiseCohortData(cohort[1:])\n",
    "\n",
    "freqs = abstractFreqFlyers(organised, 730, 10)\n",
    "regs = retrieveRegulars(organised, freqs)\n",
    "\n",
    "runCode(freqs, regs)"
   ]
  }
 ],
 "metadata": {
  "kernelspec": {
   "display_name": "Python 3",
   "language": "python",
   "name": "python3"
  },
  "language_info": {
   "codemirror_mode": {
    "name": "ipython",
    "version": 3
   },
   "file_extension": ".py",
   "mimetype": "text/x-python",
   "name": "python",
   "nbconvert_exporter": "python",
   "pygments_lexer": "ipython3",
   "version": "3.6.3"
  }
 },
 "nbformat": 4,
 "nbformat_minor": 2
}
