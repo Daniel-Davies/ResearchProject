{
 "cells": [
  {
   "cell_type": "markdown",
   "metadata": {},
   "source": [
    "# Seperating Frequent Flyers from Non Frequent Flyers\n",
    "\n",
    "This notebook contains an initial analysis of some basic data columns from our data files.\n",
    "\n",
    "We tried to see the accuracy of finding the seperation between our two classes by use of:\n",
    "\n",
    "- ETOH (alcohol consupmtion)\n",
    "- Patient Smoking Profile \n",
    "- Diabates profile\n",
    "- And finally, prescriptions (by mapping IS9/10 codes to related illnesses and conditions)\n",
    "\n",
    "Multiple routines will compute vectors from the data columns, which are fed into our ML models, and error rate is printed out."
   ]
  },
  {
   "cell_type": "markdown",
   "metadata": {},
   "source": [
    "## Initialisation & setup\n",
    "\n",
    "Reading our data from files and declaring data processing routines"
   ]
  },
  {
   "cell_type": "code",
   "execution_count": 1,
   "metadata": {
    "collapsed": true
   },
   "outputs": [],
   "source": [
    "%matplotlib inline\n",
    "# notebook\n",
    "import matplotlib.pylab as pylab\n",
    "import sklearn\n",
    "import matplotlib.pyplot as plt\n",
    "from sklearn.model_selection import KFold\n",
    "from sklearn.linear_model import LogisticRegression\n",
    "from sklearn.neighbors import KNeighborsClassifier\n",
    "from sklearn import svm\n",
    "from sklearn.cluster import KMeans\n",
    "from collections import Counter\n",
    "import numpy as np\n",
    "from sklearn.decomposition import PCA\n",
    "\n",
    "#make the graphs bigger\n",
    "pylab.rcParams['figure.figsize'] = (32.0, 24.0)\n",
    "pylab.rcParams['font.size'] = 24"
   ]
  },
  {
   "cell_type": "code",
   "execution_count": 2,
   "metadata": {
    "collapsed": true
   },
   "outputs": [],
   "source": [
    "cohort = []\n",
    "ETOH = []\n",
    "hw = []\n",
    "labOrders = []\n",
    "medOrders = []\n",
    "prescriptions = []\n",
    "radiology = []\n",
    "tobacco = []\n",
    "vitals = []"
   ]
  },
  {
   "cell_type": "code",
   "execution_count": 3,
   "metadata": {
    "collapsed": true
   },
   "outputs": [],
   "source": [
    "def fileToList(fname):\n",
    "    dataArray = []\n",
    "    with open(fname) as f:\n",
    "        for line in f:\n",
    "            new = line.strip()\n",
    "            new = new[1:len(new) - 1]\n",
    "            new = new.split('\",\"')\n",
    "            if (len(new) > 1):\n",
    "                dataArray.append(new)\n",
    "    return dataArray"
   ]
  },
  {
   "cell_type": "code",
   "execution_count": 4,
   "metadata": {
    "collapsed": true
   },
   "outputs": [],
   "source": [
    "def fileToDict(fname):\n",
    "    dataDict = dict()\n",
    "    with open(fname) as f:\n",
    "        for line in f:\n",
    "            new = line.strip()\n",
    "            new = new[1:len(new) - 1]\n",
    "            new = new.split('\",\"')\n",
    "            if (len(new) > 1):\n",
    "                if not(new[0] in dataDict):\n",
    "                    dataDict[new[0]] = [new]\n",
    "                else:\n",
    "                    dataDict[new[0]].append(new)\n",
    "    return dataDict"
   ]
  },
  {
   "cell_type": "code",
   "execution_count": 5,
   "metadata": {
    "collapsed": true
   },
   "outputs": [],
   "source": [
    "fname = \"2018-4169_Cohort.txt\"\n",
    "cohort = fileToList(fname)\n",
    "\n",
    "fname = \"2018-4169_ETOH_Use.txt\"\n",
    "ETOH = fileToDict(fname)\n",
    "\n",
    "fname = \"2018-4169_Height_Weight.txt\"\n",
    "hw = fileToDict(fname)\n",
    "\n",
    "fname = \"2018-4169_Lab_Orders_Performed.txt\"\n",
    "labOrders = fileToDict(fname)\n"
   ]
  },
  {
   "cell_type": "code",
   "execution_count": 6,
   "metadata": {
    "collapsed": true
   },
   "outputs": [],
   "source": [
    "fname = \"2018-4169_Med_Orders.txt\"\n",
    "medOrders = fileToDict(fname)\n",
    "\n",
    "fname = \"2018-4169_Prescriptions.txt\"\n",
    "prescriptions = fileToList(fname)"
   ]
  },
  {
   "cell_type": "code",
   "execution_count": 7,
   "metadata": {
    "collapsed": true
   },
   "outputs": [],
   "source": [
    "fname = \"2018-4169_Tobacco_Use.txt\"\n",
    "tobacco = fileToDict(fname)"
   ]
  },
  {
   "cell_type": "code",
   "execution_count": 8,
   "metadata": {
    "collapsed": true
   },
   "outputs": [],
   "source": [
    "fname = \"2018-4169_ETOH_Use.txt\"\n",
    "ETOHList = fileToList(fname)"
   ]
  },
  {
   "cell_type": "code",
   "execution_count": 9,
   "metadata": {
    "collapsed": true
   },
   "outputs": [],
   "source": [
    "tobList = fileToList(fname)"
   ]
  },
  {
   "cell_type": "code",
   "execution_count": 10,
   "metadata": {
    "collapsed": true
   },
   "outputs": [],
   "source": [
    "#organises data into a dict of dict of lists\n",
    "#dict of years\n",
    "    #dict of patients\n",
    "        #entry of admissions\n",
    "def organiseCohortDataIndex(myCohort):\n",
    "    organised = dict()\n",
    "    for admission in myCohort:\n",
    "        year = admission[8][0:4]\n",
    "        if year in organised:\n",
    "            entry = organised[year]\n",
    "            if admission[0] in entry:\n",
    "                organised[year][admission[0]].append(admission[1:])\n",
    "            else:\n",
    "                organised[year][admission[0]] = [admission[1:]]\n",
    "        else:\n",
    "            patientData = dict()\n",
    "            patientData[admission[0]] = [admission[1:]]\n",
    "            organised[year] = patientData\n",
    "    return organised\n",
    "\n",
    "#gets non frequent flyers from the organised cohort dict above\n",
    "def getNonFrequentFlyersBase(cohortDict, frequentFlyerDict):\n",
    "    regular = dict()\n",
    "    for year in cohortDict:\n",
    "        regular[year] = dict()\n",
    "        patList = cohortDict[year]\n",
    "        for pKey in patList:\n",
    "            if not(pKey in frequentFlyerDict[year]):\n",
    "                regular[year][pKey] = cohortDict[year][pKey]\n",
    "    return regular\n",
    "\n",
    "#gets frequent flyers from the organised cohort dict above (defined by greater than or equal to a specified visit num)\n",
    "def getFrequentFlyersExtended(dataDict, year=None, visits=10):\n",
    "    if (year == None):\n",
    "        freqDict = dict()\n",
    "        for key in dataDict:\n",
    "            freqDict[key] = []\n",
    "            patientDict = dataDict[key]\n",
    "            for pKey in patientDict:\n",
    "                if len(patientDict[pKey]) >= visits:\n",
    "                    freqDict[key].append(pKey)\n",
    "        return freqDict\n",
    "    else:\n",
    "        freqDict= dict()\n",
    "        if (year in dataDict):\n",
    "            patientDict = dataDict[year]\n",
    "            for pKey in patientDict:\n",
    "                if len(patientDict[pKey]) >= visits:\n",
    "                    freqDict[key].append(pKey)\n",
    "            return freqDict\n",
    "        else:\n",
    "            return dict()"
   ]
  },
  {
   "cell_type": "code",
   "execution_count": 11,
   "metadata": {
    "collapsed": true
   },
   "outputs": [],
   "source": [
    "import collections\n",
    "from datetime import datetime\n",
    "\n",
    "#returns a dict of lists\n",
    "    #dict of patients\n",
    "        #list of admissions\n",
    "def organiseCohortData(myCohort):\n",
    "    organised = dict()\n",
    "    for admission in myCohort:\n",
    "        if admission[0] in organised:\n",
    "            organised[admission[0]].append(admission[1:])\n",
    "        else:\n",
    "            organised[admission[0]] = [admission[1:]]\n",
    "            \n",
    "    \n",
    "    for p in organised.keys():\n",
    "        organised[p] = sorted(organised[p], key = lambda x: datetime.strptime(x[8][0:10], '%Y-%m-%d'))\n",
    "    return organised\n",
    "    "
   ]
  },
  {
   "cell_type": "code",
   "execution_count": 12,
   "metadata": {
    "collapsed": true
   },
   "outputs": [],
   "source": [
    "organised = organiseCohortData(cohort[1:])"
   ]
  },
  {
   "cell_type": "code",
   "execution_count": 13,
   "metadata": {
    "collapsed": true
   },
   "outputs": [],
   "source": [
    "from datetime import datetime, timedelta\n",
    "\n",
    "#method for finding frequent flyers where you specify a gap/time frame in days(e.g. 12 months, one month, one week etc)\n",
    "#and a number of visits, and this method will get frequent flyers for that definition\n",
    "#uses the organisation of the cohort data specified by the organiseCohortData method (aka dict of lists)\n",
    "def abstractFreqFlyers(organised, gap, visits):\n",
    "    frequentFlyers = []\n",
    "    for p in organised.keys():\n",
    "        dates = [datetime.strptime(item[8][0:10], '%Y-%m-%d') for item in organised[p]]\n",
    "        try:\n",
    "            for i in range(len(dates)):\n",
    "                modified_date = dates[i] + timedelta(days=gap)\n",
    "                if dates[i+visits-1] <= modified_date:\n",
    "                    frequentFlyers.append(p)\n",
    "                    break\n",
    "        except:\n",
    "            pass\n",
    "    return frequentFlyers"
   ]
  },
  {
   "cell_type": "code",
   "execution_count": 14,
   "metadata": {
    "collapsed": true
   },
   "outputs": [],
   "source": [
    "frequents = abstractFreqFlyers(organised, 365,20) #as a test, this calculates frequent flyers that, in the space of a year, have made 10 visits"
   ]
  },
  {
   "cell_type": "code",
   "execution_count": 15,
   "metadata": {},
   "outputs": [
    {
     "name": "stdout",
     "output_type": "stream",
     "text": [
      "126\n"
     ]
    }
   ],
   "source": [
    "# print how many frequent flyers we got\n",
    "print(len(frequents))"
   ]
  },
  {
   "cell_type": "code",
   "execution_count": 16,
   "metadata": {},
   "outputs": [
    {
     "name": "stdout",
     "output_type": "stream",
     "text": [
      "['0.54629537974305198', '0.18454035455437792', '0.49137990165585754', '0.31499293513474674', '7.0830591556572897E-2']\n"
     ]
    }
   ],
   "source": [
    "# the id's of the test frequent flyers \n",
    "print(frequents[0:5])"
   ]
  },
  {
   "cell_type": "code",
   "execution_count": 17,
   "metadata": {
    "collapsed": true
   },
   "outputs": [],
   "source": [
    "#def difference(l1,l2):\n",
    "    #precisionError = len([b for a,b in zip(l1,l2) if b != a and b == 0 and a == 1])\n",
    "    #recallError = len([b for a,b in zip(l1,l2) if b != a and b == 1 and a == 0])\n",
    "    #print(\"Precision Error is \" + str(precisionError))\n",
    "    #print(\"Recall Error is \" + str(recallError))\n",
    "    #return (precisionError) + (recallError)\n",
    "    \n",
    "def difference(l1,l2):\n",
    "    return len([b for a,b in zip(l1,l2) if b != a])  "
   ]
  },
  {
   "cell_type": "code",
   "execution_count": 18,
   "metadata": {
    "collapsed": true
   },
   "outputs": [],
   "source": [
    "#given a set of data training points (Xtr) and classes (patientBase), run a number of models \n",
    "#use a K-fold algorithm to get error across 4 runs overall\n",
    "def runModels(Xtr, patientBase):\n",
    "    kf = KFold(n_splits=5, shuffle=True)\n",
    "    Ytr = patientBase\n",
    "    differencesLR = []\n",
    "    differencesSVM = []\n",
    "    differencesKM = []\n",
    "\n",
    "    for train_index, test_index in kf.split(Xtr):\n",
    "        X_train, X_test = [Xtr[i] for i in train_index], [Xtr[i] for i in test_index]\n",
    "        y_train, y_test = [Ytr[i] for i in train_index], [Ytr[i] for i in test_index]\n",
    "    \n",
    "        if (1 in y_train and 0 in y_train):\n",
    "            lr = LogisticRegression()\n",
    "            lr.fit(X_train, y_train)\n",
    "            PredLR = lr.predict(X_test)\n",
    "            differencesLR.append(difference(PredLR, y_test)/len(y_test))\n",
    "    \n",
    "            km = KMeans(n_clusters=2)\n",
    "            km.fit(X_train, y_train)\n",
    "            PredKM = km.predict(X_test)\n",
    "            differencesKM.append(difference(PredKM, y_test)/len(y_test))\n",
    "\n",
    "            clf = svm.SVC()\n",
    "            clf.fit(X_train, y_train)\n",
    "            PredSVM = clf.predict(X_test)\n",
    "            differencesSVM.append(difference(PredSVM, y_test)/len(y_test))\n",
    "    print((differencesLR))\n",
    "    print((differencesSVM))\n",
    "    print((differencesKM))"
   ]
  },
  {
   "cell_type": "code",
   "execution_count": 19,
   "metadata": {
    "collapsed": true
   },
   "outputs": [],
   "source": [
    "# IS9 and IS10 codes\n",
    "# show the main reasons for entry to the hospital\n",
    "def getIndexIS9(code):\n",
    "    if code >= 0 and code < 140: return 0\n",
    "    if code >= 140 and code < 240: return 1\n",
    "    if code >= 240 and code < 280: return 3\n",
    "    if code >= 280 and code < 290: return 2\n",
    "    if code >= 290 and code < 320: return 4\n",
    "    if code >= 320 and code < 390: return 5\n",
    "    if code >= 390 and code < 460: return 6\n",
    "    if code >= 460 and code < 520: return 7\n",
    "    if code >= 520 and code < 580: return 8\n",
    "    if code >= 580 and code < 630: return 15\n",
    "    if code >= 630 and code < 680: return 10\n",
    "    if code >= 680 and code < 710: return 11\n",
    "    if code >= 710 and code < 740: return 9\n",
    "    if code >= 740 and code < 760: return 12\n",
    "    if code >= 760 and code < 780: return 13\n",
    "    if code >= 800 and code < 1000: return 14\n",
    "\n",
    "def getIndexIS10(code):\n",
    "    if ((code[0]).lower() == 'a' or (code[0]).lower() == 'b'): return 0\n",
    "    if ((code[0]).lower() == 'c' or ((code[0]).lower() == 'd' and int(code[1]) < 5)): return 1\n",
    "    if ((code[0]).lower() == 'd'): return 2\n",
    "    if ((code[0]).lower() == 'e'): return 3\n",
    "    if ((code[0]).lower() == 'f'): return 4\n",
    "    if ((code[0]).lower() == 'g'): return 5\n",
    "    if ((code[0]).lower() == 'i'): return 6\n",
    "    if ((code[0]).lower() == 'j'): return 7\n",
    "    if ((code[0]).lower() == 'k'): return 8\n",
    "    if ((code[0]).lower() == 'm'): return 9\n",
    "    if ((code[0]).lower() == 'o'): return 10\n",
    "    if ((code[0]).lower() == 'l'): return 11\n",
    "    if ((code[0]).lower() == 'q'): return 12\n",
    "    if ((code[0]).lower() == 'p'): return 13\n",
    "    if ((code[0]).lower() == 's' or (code[0]).lower() == 't'): return 14\n",
    "    if ((code[0]).lower() == 'n'): return 15\n",
    "\n",
    "def getFeatures(datalist):\n",
    "    datalist = organised[datalist]\n",
    "    codes = [item[10] for item in datalist]\n",
    "    #[infections,neoplasms,blood,metabolic,mental,nervous,circulatory,respiratory,digestive,muskoskeletal,pregnancy,skin,congenital,perinatal,poison, genitourinary]\n",
    "    features = [0] * 16\n",
    "    for code in codes:\n",
    "        if (len(code)>0):\n",
    "            try:\n",
    "                newcode = float(code)\n",
    "                features[getIndexIS9(newcode)] = 1\n",
    "            except:\n",
    "                if(getIndexIS10(code) is not None): features[getIndexIS10(code)] = 1\n",
    "    return features"
   ]
  },
  {
   "cell_type": "code",
   "execution_count": 20,
   "metadata": {
    "collapsed": true
   },
   "outputs": [],
   "source": [
    "#given a sentence, is the patient a serious smoker\n",
    "def isBadSmoking(res):\n",
    "    if (res == \"current every day smoker\" or res == \"current some day smoker\" or res == \"current every day\" or res==\"heavy tobacco smoker\"):\n",
    "        return 1\n",
    "    else:\n",
    "        return 0\n",
    "    \n",
    "#given a sentence, is the patient a big drinker\n",
    "def isBad(cat,res):\n",
    "    if (cat == \"Number of Standard Drinks on a Typical Day\"):\n",
    "        if (res == \"10 or more\" or res == \"7 to 9\"):\n",
    "            return 1\n",
    "        else:\n",
    "            return 0\n",
    "    elif (cat == \"Alcohol Treatment Offered\"):\n",
    "        if (res == \"yes\"):\n",
    "            return 1\n",
    "        else:\n",
    "            return 0\n",
    "    elif (cat == \"Excessive Alcohol and Drug Use\"):\n",
    "        if (res == \"yes\"):\n",
    "            return 1\n",
    "        else:\n",
    "            return 0\n",
    "    elif (cat == \"10.Has a Relative, Friend, Doctor, or Other Health Professional Expressed Concern About Your Drinking or Suggested You Cut Down\"):\n",
    "        if (res == \"(2) Yes, during the last year\"):\n",
    "            return 1\n",
    "        else:\n",
    "            return 0\n",
    "    \n",
    "    return 0\n",
    "\n",
    "#given a list of frequent flyer ids, return 3 lists: \n",
    "#first list = list of 1s the size of frequents (= list of classes for our model)\n",
    "#list of 1s and 0s corresponding to whether the patient drinks a lot of alcohol (ETOH results)\n",
    "#list of 1s and 0s corresponding to whether the patient smokes a lot (tobacco results)\n",
    "\n",
    "def frequentsArray(frequents, value):\n",
    "    smokesHeavyFreqs = []\n",
    "    ETOHHeavyFreqs = []\n",
    "    patientBase = []\n",
    "    \n",
    "    for p in frequents:\n",
    "        patientBase.append(value)\n",
    "        if p in ETOH:\n",
    "            entry = ETOH[p]\n",
    "            drinkFreq = isBad(entry[0][4], entry[0][5])\n",
    "            ETOHHeavyFreqs.append(drinkFreq)\n",
    "        else:\n",
    "            ETOHHeavyFreqs.append((value-1)*-1)\n",
    "        if p in tobacco:\n",
    "            entry = tobacco[p]\n",
    "            smokingFreq = isBadSmoking(entry[0][2])\n",
    "            smokesHeavyFreqs.append(smokingFreq)\n",
    "        else:\n",
    "            smokesHeavyFreqs.append(0)\n",
    "                \n",
    "    return (patientBase, ETOHHeavyFreqs, smokesHeavyFreqs)"
   ]
  },
  {
   "cell_type": "code",
   "execution_count": 21,
   "metadata": {
    "collapsed": true
   },
   "outputs": [],
   "source": [
    "#given a list of ids, returns a list where it is 1 if patient is diabetic, and 0 if not\n",
    "def getDiabetes(deIds):\n",
    "    diabetes = []\n",
    "    for patient in deIds:\n",
    "        if patient in organised:\n",
    "            entry = organised[patient][0]\n",
    "            if (entry[-1] == \"Diabetes\"):\n",
    "                diabetes.append(1)\n",
    "            else:\n",
    "                diabetes.append(0)\n",
    "    return diabetes"
   ]
  },
  {
   "cell_type": "code",
   "execution_count": 22,
   "metadata": {
    "collapsed": true
   },
   "outputs": [],
   "source": [
    "#calculates Xtr and Ytr and runs models \n",
    "def runCode(frequents, regs):\n",
    "    \n",
    "    freqFeatures = list(map(getFeatures, frequents))\n",
    "    regFeatures = list(map(getFeatures, regs))\n",
    "\n",
    "    Xtr = freqFeatures+regFeatures\n",
    "    Ytr = [1]*len(freqFeatures) + [0]*len(regFeatures)\n",
    "    print(\"---------------------------------------------------\")\n",
    "    print(\"Using Labels\")\n",
    "    runModels(Xtr,Ytr)\n",
    "    print(\"---------------------------------------------------\")\n",
    "    \n",
    "    patBase1, ETOHHeavyFreqs, smokesHeavyFreqs = frequentsArray(frequents, 1)\n",
    "    patBase2, ETOHHeavyRegs, smokesHeavyRegs = frequentsArray(regs, 0)\n",
    "\n",
    "    patientBase = patBase1 + patBase2\n",
    "    totalSmokes = smokesHeavyFreqs + smokesHeavyRegs\n",
    "    ETOHTotal = ETOHHeavyFreqs + ETOHHeavyRegs\n",
    "    DiabetesTotal = getDiabetes(frequents) + getDiabetes(regs)\n",
    "    PrescriptionsTotal = prescIndicators(frequents) + prescIndicators(regs)\n",
    "\n",
    "    Xtr = list(map(list,zip(totalSmokes, ETOHTotal)))\n",
    "    print(\"Models on ETOH and Tobacco\")\n",
    "    runModels(Xtr, patientBase)\n",
    "    print(\"----------------------\")\n",
    "    print(\"Models on ETOH, Tobacco and Diabetes\")\n",
    "    Xtr = list(map(list,zip(totalSmokes, ETOHTotal, DiabetesTotal)))\n",
    "    runModels(Xtr, patientBase)\n",
    "    print(\"----------------------\")\n",
    "    print(\"Models on ETOH, Tobacco, Diabetes and Prescriptions\")\n",
    "    Xtr = list(map(list,zip(totalSmokes, ETOHTotal, DiabetesTotal, PrescriptionsTotal)))\n",
    "    runModels(Xtr, patientBase)\n",
    "    print(\"----------------------\")\n",
    "    print(\"Models on Prescriptions\")\n",
    "    Xtr = list(map(list,zip(PrescriptionsTotal)))\n",
    "    runModels(Xtr, patientBase)"
   ]
  },
  {
   "cell_type": "code",
   "execution_count": 23,
   "metadata": {
    "collapsed": true
   },
   "outputs": [],
   "source": [
    "#same as above but this time, the frequents and regs parameters are dicts (extra dimension of year), not lists\n",
    "def runCodeDicts(frequents, regs):\n",
    "    patBase1, ETOHHeavyFreqs, smokesHeavyFreqs = frequentsArrayOrg(frequentsBase)\n",
    "    patBase2, ETOHHeavyRegs, smokesHeavyRegs = regsArrayOrg(regularsBase)\n",
    "\n",
    "    patientBase = patBase1 + patBase2\n",
    "    totalSmokes = smokesHeavyFreqs + smokesHeavyRegs\n",
    "    ETOHTotal = ETOHHeavyFreqs + ETOHHeavyRegs\n",
    "    \n",
    "    listFreqs = []\n",
    "    for f in frequents.keys():\n",
    "        listFreqs = listFreqs + frequents[f]\n",
    "\n",
    "    listFreqs = list(set(listFreqs))\n",
    "    DiabetesTotal = getDiabetes(listFreqs) + getDiabetes(regs)\n",
    "    PrescriptionsTotal = prescIndicators(listFreqs) + prescIndicators(regs)\n",
    "\n",
    "    Xtr = list(map(list,zip(totalSmokes, ETOHTotal)))\n",
    "    print(\"Models on ETOH and Tobacco\")\n",
    "    runModels(Xtr, patientBase)\n",
    "    print(\"----------------------\")\n",
    "    print(\"Models on ETOH, Tobacco and Diabetes\")\n",
    "    Xtr = list(map(list,zip(totalSmokes, ETOHTotal, DiabetesTotal)))\n",
    "    runModels(Xtr, patientBase)\n",
    "    print(\"----------------------\")\n",
    "    print(\"Models on ETOH, Tobacco, Diabetes and Prescriptions\")\n",
    "    Xtr = list(map(list,zip(totalSmokes, ETOHTotal, DiabetesTotal, PrescriptionsTotal)))\n",
    "    runModels(Xtr, patientBase)\n",
    "    print(\"----------------------\")\n",
    "    print(\"Models on ETOH, Tobacco, Diabetes and Prescriptions\")\n",
    "    Xtr = list(map(list,zip(PrescriptionsTotal)))\n",
    "    runModels(Xtr, patientBase)"
   ]
  },
  {
   "cell_type": "code",
   "execution_count": 24,
   "metadata": {
    "collapsed": true
   },
   "outputs": [],
   "source": [
    "from collections import Counter\n",
    "\n",
    "names = [item[3] for item in prescriptions]\n",
    "organisedPrescriptions = fileToDict(\"2018-4169_Prescriptions.txt\")\n",
    "ordered = Counter(names[1:])\n",
    "orderedPrescList = list(ordered.keys())"
   ]
  },
  {
   "cell_type": "code",
   "execution_count": 25,
   "metadata": {
    "collapsed": true
   },
   "outputs": [],
   "source": [
    "def retrieveRegulars(org, frequents):\n",
    "    regularsBase = []\n",
    "    newOrder = Counter(frequents)\n",
    "    for k in org.keys():\n",
    "        if not(k in newOrder):\n",
    "            regularsBase.append(k)\n",
    "    \n",
    "    return list(np.random.choice(regularsBase, len(frequents)))"
   ]
  },
  {
   "cell_type": "code",
   "execution_count": 26,
   "metadata": {},
   "outputs": [
    {
     "name": "stdout",
     "output_type": "stream",
     "text": [
      "[28.83555555555556, 3.078611111111111, 13.217777777777778, 5.9525, 9.353611111111112, 4.726388888888889, 6.105555555555555, 9.41111111111111, 45.94444444444444, 7.835277777777778, 5.109166666666667, 2.7308333333333334, 2.428611111111111, 1.2408333333333335, 4.418333333333334, 7.297777777777778, 35.82805555555556, 20.513055555555557, 10.508333333333333, 9.239444444444445, 3.523611111111111, 7.451944444444445, 1.383888888888889, 16.54888888888889, 6.224166666666666, 8.409444444444444, 6.086388888888889, 1.6197222222222223, 1.4372222222222222, 3.411388888888889, 16.42361111111111, 6.875555555555556, 46.95111111111111, 6.893888888888889, 4.148055555555556, 6.035277777777778, 7.266666666666667, 2.6191666666666666, 7.953888888888889, 7.304166666666666, 103.7, 8.956666666666667, 2.111666666666667, 21.265555555555558, 0.9713888888888889, 23.214722222222225, 3.631111111111111, 1.5080555555555555, 10.999722222222223, 4.703055555555555, 2.3405555555555555, 6.599444444444444, 3.8316666666666666, 4.9375, 1.1736111111111112, 8.327777777777778, 4.563888888888888, 8.150555555555556, 9.036666666666667, 1.9752777777777777, 5.6725, 2.592222222222222, 7.421111111111111, 9.578055555555554, 10.421944444444446, 24.30388888888889, 9.581111111111111, 10.481111111111112, 10.322777777777778, 8.796666666666665, 5.9766666666666675, 7.786944444444444, 4.194999999999999, 4.470277777777778, 1.3869444444444445, 2.3705555555555553, 7.78, 2.0216666666666665, 4.391944444444444, 1.6925, 2.5052777777777777, 7.377222222222222, 5.264722222222222, 102.3536111111111, 29.549444444444443, 4.547222222222222, 8.018888888888888, 30.924166666666668, 2.0194444444444444, 3.4099999999999997, 48.37833333333333, 3.230277777777778, 24.321388888888887, 6.960277777777778, 9.171111111111111, 2.864722222222222, 5.266388888888889, 21.20861111111111, 30.27638888888889, 18.273611111111112]\n"
     ]
    }
   ],
   "source": [
    "from datetime import datetime, timedelta\n",
    "import math\n",
    "\n",
    "def stayLength(entry):\n",
    "    enterTime = datetime.strptime(entry[8][:19], '%Y-%m-%d %H:%M:%S')\n",
    "    leaveTime = datetime.strptime(entry[9][:19], '%Y-%m-%d %H:%M:%S')\n",
    "    \n",
    "    return abs(((leaveTime - enterTime).total_seconds() / 60.0) / 60.0)\n",
    "\n",
    "hours = list(map(stayLength, cohort[1:]))\n",
    "print(hours[0:100])\n",
    "                      "
   ]
  },
  {
   "cell_type": "code",
   "execution_count": 27,
   "metadata": {},
   "outputs": [
    {
     "name": "stdout",
     "output_type": "stream",
     "text": [
      "264.68\n",
      "['0.74048663132949577', '0.12938483365496911', '54', 'Female', 'White', 'Hispanic or Latino', 'Spanish', 'ABDOMINAL PAIN', '2013-08-28 15:50:48.743000000', '2013-08-17 15:10:00', 'Home Routine', '590.80', 'Pyelonephritis, unspecified', 'SELF PAY', 'SELF PAY NOT SCREENED', '', '']\n"
     ]
    }
   ],
   "source": [
    "print(stayLength(cohort[112]))\n",
    "print(cohort[112])"
   ]
  },
  {
   "cell_type": "code",
   "execution_count": 28,
   "metadata": {},
   "outputs": [
    {
     "data": {
      "image/png": "[encoded data removed]",
      "text/plain": [
       "<matplotlib.figure.Figure at 0x1cbfd984e80>"
      ]
     },
     "metadata": {},
     "output_type": "display_data"
    }
   ],
   "source": [
    "plt.hist(hours, bins=1000)\n",
    "plt.show()"
   ]
  },
  {
   "cell_type": "code",
   "execution_count": 29,
   "metadata": {
    "collapsed": true
   },
   "outputs": [],
   "source": [
    "organised = organiseCohortData(cohort[1:])\n",
    "\n",
    "freqs = abstractFreqFlyers(organised, 365, 5)\n",
    "regs = retrieveRegulars(organised, freqs)\n",
    "\n",
    "frequentHoursAll = [stayLength(k) for k in cohort[1:] if k[0] in freqs]\n",
    "regsHoursAll = [stayLength(k) for k in cohort[1:] if k[0] not in freqs]"
   ]
  },
  {
   "cell_type": "code",
   "execution_count": 30,
   "metadata": {},
   "outputs": [
    {
     "name": "stdout",
     "output_type": "stream",
     "text": [
      "57103\n",
      "215973\n"
     ]
    }
   ],
   "source": [
    "\n",
    "print(len(frequentHoursAll))\n",
    "print(len(regsHoursAll))"
   ]
  },
  {
   "cell_type": "code",
   "execution_count": 31,
   "metadata": {},
   "outputs": [
    {
     "name": "stdout",
     "output_type": "stream",
     "text": [
      "40000\n",
      "40000\n"
     ]
    }
   ],
   "source": [
    "frequentHours = np.random.choice(frequentHoursAll, 40000)\n",
    "regsHours = np.random.choice(regsHoursAll, 40000)\n",
    "\n",
    "print(len(frequentHours))\n",
    "print(len(regsHours))"
   ]
  },
  {
   "cell_type": "code",
   "execution_count": 32,
   "metadata": {},
   "outputs": [
    {
     "name": "stdout",
     "output_type": "stream",
     "text": [
      "14.4012134097\n",
      "10.5872503333\n"
     ]
    }
   ],
   "source": [
    "print(np.mean(frequentHours))\n",
    "print(np.mean(regsHours))"
   ]
  },
  {
   "cell_type": "code",
   "execution_count": 33,
   "metadata": {},
   "outputs": [
    {
     "name": "stderr",
     "output_type": "stream",
     "text": [
      "C:\\Users\\davie\\Anaconda3\\lib\\site-packages\\sklearn\\utils\\validation.py:578: DataConversionWarning: A column-vector y was passed when a 1d array was expected. Please change the shape of y to (n_samples, ), for example using ravel().\n",
      "  y = column_or_1d(y, warn=True)\n"
     ]
    },
    {
     "name": "stdout",
     "output_type": "stream",
     "text": [
      "0.171549655885\n",
      "0.869844841716\n"
     ]
    }
   ],
   "source": [
    "Yte = [1]*len(frequentHours)+[0]*len(regsHours)\n",
    "Ytr = np.concatenate((frequentHours,regsHours))\n",
    "\n",
    "lr = LogisticRegression()\n",
    "lr.fit(np.reshape(Ytr, (-1,1)), np.reshape(Yte, (-1,1)))\n",
    "#print(lr.predict([[12]]))\n",
    "\n",
    "print(lr.score(np.reshape(frequentHoursAll, (-1,1)), [1]*len(frequentHoursAll)))\n",
    "print(lr.score(np.reshape(regsHoursAll, (-1,1)), [0]*len(regsHoursAll)))\n"
   ]
  },
  {
   "cell_type": "code",
   "execution_count": 34,
   "metadata": {
    "collapsed": true
   },
   "outputs": [],
   "source": [
    "def runPrescriptions(frequents, regs, top=orderedPrescList[0:20]):\n",
    "    \n",
    "    medList = []\n",
    "    for med in top:\n",
    "        counter = 0\n",
    "        for f in frequents:\n",
    "            if (f in organisedPrescriptions):\n",
    "                if (med in [item[3] for item in organisedPrescriptions[f]]):\n",
    "                    counter = counter + 1\n",
    "        medList.append(counter)\n",
    "    \n",
    "    medList2 = []\n",
    "    for med in top:\n",
    "        counter = 0\n",
    "        for f in regs:\n",
    "            if (f in organisedPrescriptions):\n",
    "                if (med in [item[3] for item in organisedPrescriptions[f]]):\n",
    "                    counter = counter + 1\n",
    "        medList2.append(counter)\n",
    "    \n",
    "    x = ([(item / len(frequents)) for item in medList])\n",
    "    y = ([(item / len(regs)) for item in medList2])\n",
    "\n",
    "    x1 = np.array(x)\n",
    "    y1 = np.array(y)\n",
    "\n",
    "    return(x1 > y1, x, y)"
   ]
  },
  {
   "cell_type": "code",
   "execution_count": 35,
   "metadata": {},
   "outputs": [
    {
     "name": "stdout",
     "output_type": "stream",
     "text": [
      "['citalopram', 'chlordiazePOXIDE', 'QUEtiapine', 'mirtazapine']\n"
     ]
    }
   ],
   "source": [
    "indicatorIndices = [2, 8, 16, 19]\n",
    "indicators = [orderedPrescList[k] for k in indicatorIndices]\n",
    "print(indicators)"
   ]
  },
  {
   "cell_type": "code",
   "execution_count": 36,
   "metadata": {
    "collapsed": true
   },
   "outputs": [],
   "source": [
    "def prescIndicators(deIds):\n",
    "    prescs = []\n",
    "    for patient in deIds:\n",
    "        if patient in organisedPrescriptions:\n",
    "            entry = organisedPrescriptions[patient]\n",
    "            data = [item[3] for item in entry]\n",
    "            if (not set(data).isdisjoint(indicators)):\n",
    "                prescs.append(1)\n",
    "            else:\n",
    "                prescs.append(0)\n",
    "    return prescs"
   ]
  },
  {
   "cell_type": "markdown",
   "metadata": {},
   "source": [
    "# Application of routines to our varying defintion of frequent flyers "
   ]
  },
  {
   "cell_type": "markdown",
   "metadata": {},
   "source": [
    "# N or more during indexed year\n",
    "\n",
    "Follwing code blocks deal with the case where the definion of a frequent flyer is N visits per index year (2018, 1017, 2016 etc)"
   ]
  },
  {
   "cell_type": "code",
   "execution_count": 37,
   "metadata": {
    "collapsed": true
   },
   "outputs": [],
   "source": [
    "#specialised routines that get the ETOH,tobacco, and patientBase lists for dict base data \n",
    "#(aka is same as frequentsAray above, but works on dicts)\n",
    "def frequentsArrayOrg(frequents):\n",
    "    patListFreqs = []\n",
    "    smokesHeavyFreqs = []\n",
    "    ETOHHeavyFreqs = []\n",
    "    patientBase = []\n",
    "    \n",
    "    for k in frequents.keys():\n",
    "        patListFreqs = patListFreqs + frequents[k]\n",
    "        for p in patListFreqs:\n",
    "            patientBase.append(1)\n",
    "            if p in ETOH:\n",
    "                entry = ETOH[p]\n",
    "                drinkFreq = isBad(entry[0][4], entry[0][5])\n",
    "                ETOHHeavyFreqs.append(drinkFreq)\n",
    "            else:\n",
    "                ETOHHeavyFreqs.append(0)\n",
    "            \n",
    "            if p in tobacco:\n",
    "                entry = tobacco[p]\n",
    "                smokingFreq = isBadSmoking(entry[0][2])\n",
    "                smokesHeavyFreqs.append(smokingFreq)\n",
    "            else:\n",
    "                smokesHeavyFreqs.append(0)\n",
    "    return (patientBase, ETOHHeavyFreqs, smokesHeavyFreqs)\n",
    "\n",
    "def regsArrayOrg(regulars):\n",
    "    patListRegs = []\n",
    "    smokesHeavyRegs = []\n",
    "    ETOHHeavyRegs = []\n",
    "    patientBase = []\n",
    "\n",
    "    for k in regulars.keys():\n",
    "        patListRegs = patListRegs + list(regulars[k].keys())\n",
    "\n",
    "    for p in patListRegs:\n",
    "        patientBase.append(0)\n",
    "\n",
    "        if p in ETOH:\n",
    "            entry = ETOH[p]\n",
    "            drinkFreq = isBad(entry[0][4], entry[0][5])\n",
    "            ETOHHeavyRegs.append(drinkFreq)\n",
    "        else:\n",
    "            ETOHHeavyRegs.append(0)\n",
    "        \n",
    "        if p in tobacco:\n",
    "            entry = tobacco[p]\n",
    "            smokingFreq = isBadSmoking(entry[0][2])\n",
    "            smokesHeavyRegs.append(smokingFreq)\n",
    "        else:\n",
    "            smokesHeavyRegs.append(0)\n",
    "    \n",
    "    return (patientBase, ETOHHeavyRegs, smokesHeavyRegs)"
   ]
  },
  {
   "cell_type": "code",
   "execution_count": 38,
   "metadata": {
    "collapsed": true
   },
   "outputs": [],
   "source": [
    "organisedIndex = organiseCohortDataIndex(cohort[1:])"
   ]
  },
  {
   "cell_type": "code",
   "execution_count": 39,
   "metadata": {},
   "outputs": [
    {
     "name": "stdout",
     "output_type": "stream",
     "text": [
      "Models on ETOH and Tobacco\n",
      "[0.14296593741345887, 0.14965845102926245, 0.14626941450693498, 0.14509242805381828, 0.1450231935565761]\n",
      "[0.14296593741345887, 0.14965845102926245, 0.14626941450693498, 0.14509242805381828, 0.1450231935565761]\n",
      "[0.7566002030831718, 0.24247669159051047, 0.24250536567353626, 0.24319771064595785, 0.24342849230343172]\n",
      "----------------------\n",
      "Models on ETOH, Tobacco and Diabetes\n",
      "[]\n",
      "[]\n",
      "[]\n",
      "----------------------\n",
      "Models on ETOH, Tobacco, Diabetes and Prescriptions\n",
      "[]\n",
      "[]\n",
      "[]\n",
      "----------------------\n",
      "Models on ETOH, Tobacco, Diabetes and Prescriptions\n",
      "[]\n",
      "[]\n",
      "[]\n"
     ]
    }
   ],
   "source": [
    "frequentsBase = getFrequentFlyersExtended(organisedIndex, visits=4)\n",
    "regularsBase = getNonFrequentFlyersBase(organisedIndex, frequentsBase)\n",
    "runCodeDicts(frequentsBase, regularsBase)"
   ]
  },
  {
   "cell_type": "code",
   "execution_count": 40,
   "metadata": {},
   "outputs": [
    {
     "name": "stdout",
     "output_type": "stream",
     "text": [
      "(array([False, False, False, False, False, False, False, False, False,\n",
      "       False, False, False, False, False, False, False, False, False,\n",
      "       False, False], dtype=bool), [0.0, 0.0, 0.0, 0.0, 0.0, 0.0, 0.0, 0.0, 0.0, 0.0, 0.0, 0.0, 0.0, 0.0, 0.0, 0.0, 0.0, 0.0, 0.0, 0.0], [0.0, 0.0, 0.0, 0.0, 0.0, 0.0, 0.0, 0.0, 0.0, 0.0, 0.0, 0.0, 0.0, 0.0, 0.0, 0.0, 0.0, 0.0, 0.0, 0.0])\n",
      "(array([False, False, False, False], dtype=bool), [0.0, 0.0, 0.0, 0.0], [0.0, 0.0, 0.0, 0.0])\n"
     ]
    }
   ],
   "source": [
    "listFreqs = []\n",
    "for f in frequentsBase.keys():\n",
    "    listFreqs = listFreqs + frequentsBase[f]\n",
    "print(runPrescriptions(frequentsBase, regularsBase))\n",
    "print(runPrescriptions(frequentsBase, regularsBase, indicators))"
   ]
  },
  {
   "cell_type": "markdown",
   "metadata": {},
   "source": [
    "# N visits 2 years after initial visit\n",
    "\n",
    "Deals with the definiton of frequent flyers that defines a frequent flyer as returning N times within a space of 2 years after a given visit"
   ]
  },
  {
   "cell_type": "code",
   "execution_count": 41,
   "metadata": {
    "collapsed": true
   },
   "outputs": [],
   "source": [
    "organised = organiseCohortData(cohort[1:])"
   ]
  },
  {
   "cell_type": "code",
   "execution_count": 42,
   "metadata": {},
   "outputs": [
    {
     "name": "stdout",
     "output_type": "stream",
     "text": [
      "---------------------------------------------------\n",
      "Using Labels\n",
      "[0.07705779334500876, 0.07705779334500876, 0.07543859649122807, 0.10350877192982456, 0.07192982456140351]\n",
      "[0.08056042031523643, 0.07180385288966724, 0.06666666666666667, 0.10701754385964912, 0.06491228070175438]\n",
      "[0.11733800350262696, 0.8651488616462347, 0.13333333333333333, 0.8473684210526315, 0.14035087719298245]\n",
      "---------------------------------------------------\n",
      "Models on ETOH and Tobacco\n",
      "[0.050788091068301226, 0.06129597197898424, 0.05087719298245614, 0.05964912280701754, 0.05964912280701754]\n",
      "[0.050788091068301226, 0.06129597197898424, 0.05087719298245614, 0.05964912280701754, 0.05964912280701754]\n",
      "[0.9492119089316988, 0.9387040280210157, 0.9491228070175438, 0.05964912280701754, 0.05964912280701754]\n",
      "----------------------\n",
      "Models on ETOH, Tobacco and Diabetes\n",
      "[0.06129597197898424, 0.0542907180385289, 0.056140350877192984, 0.04736842105263158, 0.06315789473684211]\n",
      "[0.06129597197898424, 0.0542907180385289, 0.056140350877192984, 0.04736842105263158, 0.06315789473684211]\n",
      "[0.9387040280210157, 0.9457092819614711, 0.056140350877192984, 0.9526315789473684, 0.06315789473684211]\n",
      "----------------------\n",
      "Models on ETOH, Tobacco, Diabetes and Prescriptions\n",
      "[0.07407407407407407, 0.017429193899782137, 0.05228758169934641, 0.05458515283842795, 0.04148471615720524]\n",
      "[0.07407407407407407, 0.017429193899782137, 0.05228758169934641, 0.05458515283842795, 0.04148471615720524]\n",
      "[0.07407407407407407, 0.9825708061002179, 0.9477124183006536, 0.05458515283842795, 0.9585152838427947]\n",
      "----------------------\n",
      "Models on Prescriptions\n",
      "[0.3747276688453159, 0.3681917211328976, 0.3877995642701525, 0.3646288209606987, 0.3951965065502183]\n",
      "[0.3747276688453159, 0.3681917211328976, 0.3877995642701525, 0.3646288209606987, 0.3951965065502183]\n",
      "[0.5010893246187363, 0.5381263616557734, 0.5206971677559913, 0.5480349344978166, 0.5414847161572053]\n",
      "(array([ True,  True,  True,  True,  True,  True,  True, False,  True,\n",
      "        True,  True,  True,  True,  True, False,  True,  True,  True,\n",
      "        True,  True], dtype=bool), [0.7335203366058906, 0.023842917251051893, 0.037868162692847124, 0.18302945301542778, 0.021037868162692847, 0.11430575035063113, 0.2776998597475456, 0.0, 0.029453015427769985, 0.11711079943899018, 0.04417952314165498, 0.16199158485273493, 0.046984572230014024, 0.061711079943899017, 0.0007012622720897616, 0.004908835904628331, 0.09607293127629733, 0.11079943899018233, 0.14305750350631136, 0.043478260869565216], [0.19214586255259467, 0.001402524544179523, 0.0035063113604488078, 0.03225806451612903, 0.004207573632538569, 0.020336605890603085, 0.0785413744740533, 0.0, 0.001402524544179523, 0.021037868162692847, 0.002805049088359046, 0.006311360448807854, 0.004908835904628331, 0.004207573632538569, 0.0007012622720897616, 0.002805049088359046, 0.014726507713884993, 0.004207573632538569, 0.03506311360448808, 0.0035063113604488078])\n",
      "(array([ True,  True,  True,  True], dtype=bool), [0.037868162692847124, 0.029453015427769985, 0.09607293127629733, 0.043478260869565216], [0.0035063113604488078, 0.001402524544179523, 0.014726507713884993, 0.0035063113604488078])\n"
     ]
    }
   ],
   "source": [
    "freqs = abstractFreqFlyers(organised, 730, 10)\n",
    "regs = retrieveRegulars(organised, freqs)\n",
    "\n",
    "runCode(freqs, regs)\n",
    "print(runPrescriptions(freqs, regs))\n",
    "print(runPrescriptions(freqs, regs, indicators))"
   ]
  },
  {
   "cell_type": "markdown",
   "metadata": {},
   "source": [
    "# N visits in 12 months\n",
    "\n",
    "Deals with the definition that specifies a frequent flyer as visiting N times in the space of 12 months"
   ]
  },
  {
   "cell_type": "code",
   "execution_count": 43,
   "metadata": {
    "collapsed": true
   },
   "outputs": [],
   "source": [
    "organised = organiseCohortData(cohort[1:])"
   ]
  },
  {
   "cell_type": "code",
   "execution_count": 44,
   "metadata": {},
   "outputs": [
    {
     "name": "stdout",
     "output_type": "stream",
     "text": [
      "---------------------------------------------------\n",
      "Using Labels\n",
      "[0.14607843137254903, 0.15656152966170944, 0.15509070109495016, 0.15018793920575257, 0.15312959633927112]\n",
      "[0.14607843137254903, 0.15656152966170944, 0.15509070109495016, 0.15018793920575257, 0.15312959633927112]\n",
      "[0.55, 0.5448602712861579, 0.44255597319823503, 0.5463310998529172, 0.44925641444680503]\n",
      "---------------------------------------------------\n",
      "Models on ETOH and Tobacco\n",
      "[0.04330065359477124, 0.048047066514136295, 0.04706651413629678, 0.04984474587350874, 0.04363458081385847]\n",
      "[0.04330065359477124, 0.048047066514136295, 0.04706651413629678, 0.04984474587350874, 0.04363458081385847]\n",
      "[0.9566993464052288, 0.048047066514136295, 0.04706651413629678, 0.04984474587350874, 0.9563654191861415]\n",
      "----------------------\n",
      "Models on ETOH, Tobacco and Diabetes\n",
      "[0.04477124183006536, 0.04870076809936264, 0.050498447458735087, 0.04183690145448603, 0.046085961758457264]\n",
      "[0.04477124183006536, 0.04870076809936264, 0.050498447458735087, 0.04183690145448603, 0.046085961758457264]\n",
      "[0.9552287581699347, 0.9512992319006374, 0.050498447458735087, 0.958163098545514, 0.9539140382415427]\n",
      "----------------------\n",
      "Models on ETOH, Tobacco, Diabetes and Prescriptions\n",
      "[0.03437301082113304, 0.036494801612561, 0.03479736897941863, 0.038616592403988965, 0.029068533842563124]\n",
      "[0.03437301082113304, 0.036494801612561, 0.03479736897941863, 0.038616592403988965, 0.029068533842563124]\n",
      "[0.03437301082113304, 0.963505198387439, 0.9652026310205813, 0.038616592403988965, 0.029068533842563124]\n",
      "----------------------\n",
      "Models on Prescriptions\n",
      "[0.34924676426904305, 0.3443666454487588, 0.3481858688733291, 0.3607044345427541, 0.3515807341396138]\n",
      "[0.34924676426904305, 0.3443666454487588, 0.3481858688733291, 0.3607044345427541, 0.3515807341396138]\n",
      "[0.614258434118396, 0.6195629110969658, 0.6201994483343942, 0.6042860173986845, 0.6083174199023976]\n",
      "(array([ True,  True,  True,  True,  True,  True,  True,  True,  True,\n",
      "        True,  True,  True,  True,  True,  True,  True,  True,  True,\n",
      "        True,  True], dtype=bool), [0.4620865472610799, 0.008824682965093476, 0.01738789384233233, 0.09256111910053602, 0.009216891096875408, 0.06360308537063668, 0.18113478886128906, 0.0003922081317819323, 0.010262779448293895, 0.060465420316381226, 0.014315596810040528, 0.0644528696561642, 0.01882599032553275, 0.023401751862988627, 0.0005883121976728985, 0.0035298731860373906, 0.04007059746372075, 0.0370636684533926, 0.08184076349849653, 0.015688325271277292], [0.17557850699437835, 0.0016995685710550399, 0.0071251143940384365, 0.029350241861681267, 0.001372728461236763, 0.01679958164465943, 0.06438750163420055, 0.00013073604392731077, 0.0015034645051640737, 0.02392469603869787, 0.002614720878546215, 0.013596548568440319, 0.005752385932801673, 0.004771865603346843, 0.00026147208785462153, 0.0009151523074911753, 0.012093084063276246, 0.005294809779056085, 0.03229180285004576, 0.0045103935154922215])\n",
      "(array([ True,  True,  True,  True], dtype=bool), [0.01738789384233233, 0.010262779448293895, 0.04007059746372075, 0.015688325271277292], [0.0071251143940384365, 0.0015034645051640737, 0.012093084063276246, 0.0045103935154922215])\n"
     ]
    }
   ],
   "source": [
    "# N=3\n",
    "freqs = abstractFreqFlyers(organised, 365, 3)\n",
    "regs = retrieveRegulars(organised, freqs)\n",
    "\n",
    "runCode(freqs, regs)\n",
    "print(runPrescriptions(freqs, regs))\n",
    "print(runPrescriptions(freqs, regs, indicators))"
   ]
  },
  {
   "cell_type": "code",
   "execution_count": 45,
   "metadata": {},
   "outputs": [
    {
     "name": "stdout",
     "output_type": "stream",
     "text": [
      "---------------------------------------------------\n",
      "Using Labels\n",
      "[0.1214574898785425, 0.1242603550295858, 0.11958891311118032, 0.13360323886639677, 0.1252336448598131]\n",
      "[0.11896605418872626, 0.11211460604173155, 0.11709747742136406, 0.12488321395203986, 0.12305295950155763]\n",
      "[0.4163811896605419, 0.4166926191217689, 0.573030208657739, 0.4238554967299907, 0.4264797507788162]\n",
      "---------------------------------------------------\n",
      "Models on ETOH and Tobacco\n",
      "[0.05418872625350358, 0.047337278106508875, 0.05636873248209281, 0.05076300218000623, 0.056074766355140186]\n",
      "[0.05418872625350358, 0.047337278106508875, 0.05636873248209281, 0.05076300218000623, 0.056074766355140186]\n",
      "[0.9458112737464964, 0.047337278106508875, 0.9436312675179072, 0.9492369978199938, 0.056074766355140186]\n",
      "----------------------\n",
      "Models on ETOH, Tobacco and Diabetes\n",
      "[0.050451572718779196, 0.05636873248209281, 0.052943008408595456, 0.04796013702896294, 0.05700934579439252]\n",
      "[0.050451572718779196, 0.05636873248209281, 0.052943008408595456, 0.04796013702896294, 0.05700934579439252]\n",
      "[0.9495484272812208, 0.9436312675179072, 0.9470569915914046, 0.952039862971037, 0.9429906542056075]\n",
      "----------------------\n",
      "Models on ETOH, Tobacco, Diabetes and Prescriptions\n",
      "[0.04036050156739812, 0.04075235109717868, 0.045454545454545456, 0.0384012539184953, 0.04584639498432602]\n",
      "[0.04036050156739812, 0.04075235109717868, 0.045454545454545456, 0.0384012539184953, 0.04584639498432602]\n",
      "[0.9596394984326019, 0.9592476489028213, 0.045454545454545456, 0.9615987460815048, 0.04584639498432602]\n",
      "----------------------\n",
      "Models on Prescriptions\n",
      "[0.3761755485893417, 0.37343260188087773, 0.3550156739811912, 0.36912225705329155, 0.38087774294670845]\n",
      "[0.3761755485893417, 0.37343260188087773, 0.3550156739811912, 0.36912225705329155, 0.38087774294670845]\n",
      "[0.5779780564263323, 0.414576802507837, 0.591692789968652, 0.5885579937304075, 0.57641065830721]\n",
      "(array([ True,  True,  True,  True,  True,  True,  True,  True,  True,\n",
      "        True,  True,  True,  True,  True,  True,  True,  True,  True,\n",
      "        True,  True], dtype=bool), [0.5354428802790582, 0.012084215771770275, 0.020929363398529962, 0.11286906689921515, 0.013330011212158963, 0.07636726049582658, 0.20468419085586148, 0.00037373863211660643, 0.012707113491964619, 0.07026286283792202, 0.018188613429674847, 0.08571072629874174, 0.02441759063161829, 0.033013579170300233, 0.00037373863211660643, 0.0037373863211660643, 0.04958265852746979, 0.053195465304596984, 0.09617540799800672, 0.020929363398529962], [0.19172791827581911, 0.0017441136165441634, 0.0063535567459823096, 0.030272829201445122, 0.0017441136165441634, 0.018686931605830324, 0.0758689423196711, 0.00012457954403886882, 0.0018686931605830322, 0.027532079232590007, 0.00423570449732154, 0.01171047713965367, 0.006727295378098916, 0.00423570449732154, 0.00012457954403886882, 0.0012457954403886883, 0.013579170300236702, 0.006104397657904572, 0.036377226859349694, 0.0032390681450105894])\n",
      "(array([ True,  True,  True,  True], dtype=bool), [0.020929363398529962, 0.012707113491964619, 0.04958265852746979, 0.020929363398529962], [0.0063535567459823096, 0.0018686931605830322, 0.013579170300236702, 0.0032390681450105894])\n"
     ]
    }
   ],
   "source": [
    "# N=4\n",
    "freqs = abstractFreqFlyers(organised, 365, 4)\n",
    "regs = retrieveRegulars(organised, freqs)\n",
    "\n",
    "runCode(freqs, regs)\n",
    "print(runPrescriptions(freqs, regs))\n",
    "print(runPrescriptions(freqs, regs, indicators))"
   ]
  },
  {
   "cell_type": "code",
   "execution_count": 46,
   "metadata": {},
   "outputs": [
    {
     "name": "stdout",
     "output_type": "stream",
     "text": [
      "---------------------------------------------------\n",
      "Using Labels\n",
      "[0.11491317671092952, 0.09964230965763925, 0.11854879918242207, 0.11497189575881452, 0.1195707715891671]\n",
      "[0.10674157303370786, 0.10219724067450178, 0.11599386816555952, 0.11241696474195197, 0.10679611650485436]\n",
      "[0.19816138917262513, 0.6131834440470108, 0.5794583546244252, 0.4113438937148697, 0.4128768523249872]\n",
      "---------------------------------------------------\n",
      "Models on ETOH and Tobacco\n",
      "[0.055669050051072526, 0.05825242718446602, 0.04803270311701584, 0.056719468574348494, 0.05620848237097598]\n",
      "[0.055669050051072526, 0.05825242718446602, 0.04803270311701584, 0.056719468574348494, 0.05620848237097598]\n",
      "[0.9443309499489275, 0.05825242718446602, 0.04803270311701584, 0.9432805314256515, 0.05620848237097598]\n",
      "----------------------\n",
      "Models on ETOH, Tobacco and Diabetes\n",
      "[0.05822267620020429, 0.05058763413387839, 0.05774144098109351, 0.056719468574348494, 0.0516096065406234]\n",
      "[0.05822267620020429, 0.05058763413387839, 0.05774144098109351, 0.056719468574348494, 0.0516096065406234]\n",
      "[0.9417773237997957, 0.05058763413387839, 0.9422585590189065, 0.9432805314256515, 0.9483903934593766]\n",
      "----------------------\n",
      "Models on ETOH, Tobacco, Diabetes and Prescriptions\n",
      "[0.039949270767279645, 0.04121750158528852, 0.04819277108433735, 0.048223350253807105, 0.05139593908629442]\n",
      "[0.039949270767279645, 0.04121750158528852, 0.04819277108433735, 0.048223350253807105, 0.05139593908629442]\n",
      "[0.9600507292327204, 0.04121750158528852, 0.04819277108433735, 0.9517766497461929, 0.9486040609137056]\n",
      "----------------------\n",
      "Models on Prescriptions\n",
      "[0.37476220672162336, 0.36905516804058336, 0.4083703233988586, 0.35596446700507617, 0.3883248730964467]\n",
      "[0.37476220672162336, 0.36905516804058336, 0.4083703233988586, 0.35596446700507617, 0.3883248730964467]\n",
      "[0.5561192136968929, 0.5783132530120482, 0.5459733671528219, 0.5805837563451777, 0.5628172588832487]\n",
      "(array([ True,  True,  True,  True,  True,  True,  True,  True,  True,\n",
      "        True,  True,  True,  True,  True, False,  True,  True,  True,\n",
      "        True,  True], dtype=bool), [0.5932965460862456, 0.015123646024933579, 0.0269773145309626, 0.1248722665031678, 0.016145513999591254, 0.0856325362763131, 0.21663601062742693, 0.00020437359493153485, 0.01696300837931739, 0.0774575924790517, 0.022481095442468832, 0.10361741263028816, 0.02779480891068874, 0.03740036787247088, 0.0004087471898630697, 0.005109339873288371, 0.06253832004904966, 0.06928264868179031, 0.11015736766809728, 0.02656856734109953], [0.19251992642550583, 0.0008174943797261394, 0.00674432863274065, 0.03269977518904558, 0.0016349887594522788, 0.022481095442468832, 0.07337012058042101, 0.0, 0.002248109544246883, 0.02411608420192111, 0.00715307582260372, 0.01307991007561823, 0.005313713468219906, 0.005722460658082976, 0.0004087471898630697, 0.0006131207847946045, 0.01307991007561823, 0.007357449417535254, 0.03740036787247088, 0.00592683425301451])\n",
      "(array([ True,  True,  True,  True], dtype=bool), [0.0269773145309626, 0.01696300837931739, 0.06253832004904966, 0.02656856734109953], [0.00674432863274065, 0.002248109544246883, 0.01307991007561823, 0.00592683425301451])\n"
     ]
    }
   ],
   "source": [
    "# N=5\n",
    "freqs = abstractFreqFlyers(organised, 365, 5)\n",
    "regs = retrieveRegulars(organised, freqs)\n",
    "\n",
    "runCode(freqs, regs)\n",
    "print(runPrescriptions(freqs, regs))\n",
    "print(runPrescriptions(freqs, regs, indicators))"
   ]
  },
  {
   "cell_type": "code",
   "execution_count": 47,
   "metadata": {},
   "outputs": [
    {
     "name": "stdout",
     "output_type": "stream",
     "text": [
      "---------------------------------------------------\n",
      "Using Labels\n",
      "[0.10997643362136685, 0.11076197957580518, 0.09827044025157233, 0.10455974842767296, 0.10770440251572327]\n",
      "[0.09033778476040849, 0.11076197957580518, 0.09748427672955975, 0.10062893081761007, 0.09276729559748427]\n",
      "[0.812254516889238, 0.8185388845247447, 0.8223270440251572, 0.18160377358490565, 0.8160377358490566]\n",
      "---------------------------------------------------\n",
      "Models on ETOH and Tobacco\n",
      "[0.05734485467399843, 0.05734485467399843, 0.05660377358490566, 0.050314465408805034, 0.05581761006289308]\n",
      "[0.05734485467399843, 0.05734485467399843, 0.05660377358490566, 0.050314465408805034, 0.05581761006289308]\n",
      "[0.9426551453260016, 0.9426551453260016, 0.9433962264150944, 0.949685534591195, 0.9441823899371069]\n",
      "----------------------\n",
      "Models on ETOH, Tobacco and Diabetes\n",
      "[0.06520031421838178, 0.05341712490180676, 0.049528301886792456, 0.05345911949685535, 0.05581761006289308]\n",
      "[0.06520031421838178, 0.05341712490180676, 0.049528301886792456, 0.05345911949685535, 0.05581761006289308]\n",
      "[0.9347996857816182, 0.9465828750981933, 0.9504716981132075, 0.05345911949685535, 0.9441823899371069]\n",
      "----------------------\n",
      "Models on ETOH, Tobacco, Diabetes and Prescriptions\n",
      "[0.035053554040895815, 0.06037000973709834, 0.037037037037037035, 0.03996101364522417, 0.04483430799220273]\n",
      "[0.035053554040895815, 0.06037000973709834, 0.037037037037037035, 0.03996101364522417, 0.04483430799220273]\n",
      "[0.9649464459591042, 0.9396299902629016, 0.9629629629629629, 0.03996101364522417, 0.9551656920077972]\n",
      "----------------------\n",
      "Models on Prescriptions\n",
      "[0.3807205452775073, 0.3924050632911392, 0.3645224171539961, 0.3742690058479532, 0.3888888888888889]\n",
      "[0.3807205452775073, 0.3924050632911392, 0.3645224171539961, 0.3742690058479532, 0.3888888888888889]\n",
      "[0.5511197663096398, 0.5355404089581305, 0.5653021442495126, 0.5584795321637427, 0.5516569200779727]\n",
      "(array([ True,  True,  True,  True,  True,  True,  True,  True,  True,\n",
      "        True,  True,  True,  True,  True, False,  True,  True,  True,\n",
      "        True,  True], dtype=bool), [0.6453945300220056, 0.018233259981138006, 0.028921722728701665, 0.14115058157812008, 0.01571832756994656, 0.09336686576548256, 0.22728701666142723, 0.00031436655139893113, 0.022005658597925182, 0.08707953473750393, 0.028921722728701665, 0.11788745677459918, 0.03237975479408991, 0.04275385099025464, 0.0006287331027978623, 0.0044011317195850365, 0.0707324740647595, 0.08330713612071676, 0.12228858849418422, 0.03237975479408991], [0.2018233259981138, 0.0012574662055957245, 0.006601697579377554, 0.031122288588494185, 0.0034580320653882428, 0.023577491354919836, 0.06947500785916379, 0.0, 0.0031436655139893115, 0.02734988997170701, 0.0028292989625903803, 0.015403961018547626, 0.00817353033637221, 0.004715498270983967, 0.0006287331027978623, 0.0015718327569946558, 0.011945928953159385, 0.0069160641307764855, 0.03237975479408991, 0.001886199308393587])\n",
      "(array([ True,  True,  True,  True], dtype=bool), [0.028921722728701665, 0.022005658597925182, 0.0707324740647595, 0.03237975479408991], [0.006601697579377554, 0.0031436655139893115, 0.011945928953159385, 0.001886199308393587])\n"
     ]
    }
   ],
   "source": [
    "# N=6\n",
    "freqs = abstractFreqFlyers(organised, 365, 6)\n",
    "regs = retrieveRegulars(organised, freqs)\n",
    "\n",
    "runCode(freqs, regs)\n",
    "print(runPrescriptions(freqs, regs))\n",
    "print(runPrescriptions(freqs, regs, indicators))"
   ]
  },
  {
   "cell_type": "markdown",
   "metadata": {},
   "source": [
    "# N visits every year consitently\n",
    "\n",
    "Deals with the definition of frequent flyer that specifies a frequent flyer to be someone who consistently comes in more than N times every year"
   ]
  },
  {
   "cell_type": "code",
   "execution_count": 48,
   "metadata": {
    "collapsed": true
   },
   "outputs": [],
   "source": [
    "organisedIndex = organiseCohortDataIndex(cohort[1:])\n",
    "standard = organiseCohortData(cohort[1:])"
   ]
  },
  {
   "cell_type": "code",
   "execution_count": 49,
   "metadata": {
    "collapsed": true
   },
   "outputs": [],
   "source": [
    "def getChronicFrequentFlyers(frequentFlyers):\n",
    "    exists = True\n",
    "    shortest = 300000\n",
    "    lowestYear = None\n",
    "    for key in frequentFlyers:\n",
    "        if len(frequentFlyers[key]) < shortest:\n",
    "            lowestYear = key\n",
    "    \n",
    "    patientDict = frequentFlyers[lowestYear]\n",
    "    chronic = []\n",
    "    for pKey in patientDict:\n",
    "        inAll = True\n",
    "        for year in frequentFlyers.keys():\n",
    "            inAll = inAll and (pKey in frequentFlyers[year])\n",
    "        if (inAll):\n",
    "            chronic.append(pKey)\n",
    "                \n",
    "    return chronic"
   ]
  },
  {
   "cell_type": "code",
   "execution_count": 50,
   "metadata": {},
   "outputs": [
    {
     "name": "stdout",
     "output_type": "stream",
     "text": [
      "---------------------------------------------------\n",
      "Using Labels\n",
      "[0.0, 0.0, 0.0, 0.0, 0.0]\n",
      "[0.25, 0.0, 0.0, 0.0, 0.0]\n",
      "[0.75, 0.0, 1.0, 1.0, 0.0]\n",
      "---------------------------------------------------\n",
      "Models on ETOH and Tobacco\n",
      "[0.0, 0.0, 0.0, 0.0, 0.0]\n",
      "[0.0, 0.0, 0.0, 0.0, 0.0]\n",
      "[1.0, 1.0, 0.0, 1.0, 1.0]\n",
      "----------------------\n",
      "Models on ETOH, Tobacco and Diabetes\n",
      "[0.0, 0.0, 0.0, 0.0, 0.0]\n",
      "[0.0, 0.0, 0.0, 0.0, 0.0]\n",
      "[1.0, 0.3333333333333333, 1.0, 0.0, 1.0]\n",
      "----------------------\n",
      "Models on ETOH, Tobacco, Diabetes and Prescriptions\n",
      "[0.0, 0.0, 0.0, 0.0, 0.0]\n",
      "[0.0, 0.0, 0.0, 0.0, 0.0]\n",
      "[1.0, 0.6666666666666666, 0.3333333333333333, 1.0, 1.0]\n",
      "----------------------\n",
      "Models on Prescriptions\n",
      "[0.6666666666666666, 0.3333333333333333, 0.6666666666666666, 1.0, 0.0]\n",
      "[0.6666666666666666, 0.3333333333333333, 0.6666666666666666, 1.0, 0.0]\n",
      "[0.6666666666666666, 0.6666666666666666, 0.3333333333333333, 0.0, 0.5]\n",
      "(array([ True,  True,  True,  True,  True,  True,  True, False, False,\n",
      "        True, False,  True, False,  True, False, False,  True,  True,\n",
      "       False,  True], dtype=bool), [0.875, 0.125, 0.125, 0.75, 0.125, 0.125, 0.25, 0.0, 0.0, 0.25, 0.0, 0.25, 0.0, 0.5, 0.0, 0.0, 0.125, 0.375, 0.125, 0.125], [0.125, 0.0, 0.0, 0.0, 0.0, 0.0, 0.0, 0.0, 0.0, 0.0, 0.0, 0.0, 0.0, 0.0, 0.0, 0.0, 0.0, 0.0, 0.25, 0.0])\n",
      "(array([ True, False,  True,  True], dtype=bool), [0.125, 0.0, 0.125, 0.125], [0.0, 0.0, 0.0, 0.0])\n"
     ]
    }
   ],
   "source": [
    "frequentsBase = getChronicFrequentFlyers(getFrequentFlyersExtended(organisedIndex, visits=3))\n",
    "regularsBase = retrieveRegulars(standard, frequentsBase)\n",
    "\n",
    "runCode(frequentsBase, regularsBase)\n",
    "print(runPrescriptions(frequentsBase, regularsBase))\n",
    "print(runPrescriptions(frequentsBase, regularsBase, indicators))"
   ]
  },
  {
   "cell_type": "code",
   "execution_count": 51,
   "metadata": {},
   "outputs": [
    {
     "name": "stdout",
     "output_type": "stream",
     "text": [
      "---------------------------------------------------\n",
      "Using Labels\n",
      "[0.0, 0.0, 0.0, 0.5, 0.0]\n",
      "[0.0, 0.0, 0.0, 0.0, 0.0]\n",
      "[0.0, 1.0, 0.0, 0.0, 1.0]\n",
      "---------------------------------------------------\n",
      "Models on ETOH and Tobacco\n",
      "[1.0, 0.0, 0.5, 0.5, 0.0]\n",
      "[0.0, 0.0, 0.5, 0.0, 0.0]\n",
      "[0.0, 0.0, 0.5, 1.0, 0.5]\n",
      "----------------------\n",
      "Models on ETOH, Tobacco and Diabetes\n",
      "[0.0, 0.0, 0.0, 0.5, 0.5]\n",
      "[0.0, 0.0, 0.0, 0.5, 0.5]\n",
      "[1.0, 1.0, 0.5, 0.5, 0.0]\n",
      "----------------------\n",
      "Models on ETOH, Tobacco, Diabetes and Prescriptions\n",
      "[0.0, 0.5, 0.0, 0.0, 1.0]\n",
      "[0.0, 0.5, 0.5, 0.0, 1.0]\n",
      "[0.5, 0.5, 0.0, 0.0, 0.0]\n",
      "----------------------\n",
      "Models on Prescriptions\n",
      "[0.5, 0.5, 0.5, 0.0, 1.0]\n",
      "[0.5, 0.5, 0.5, 1.0, 1.0]\n",
      "[0.0, 0.5, 0.5, 1.0, 0.0]\n",
      "(array([ True,  True,  True,  True,  True, False,  True, False, False,\n",
      "       False, False,  True, False,  True, False, False,  True,  True,\n",
      "        True,  True], dtype=bool), [0.8, 0.2, 0.2, 0.8, 0.2, 0.0, 0.4, 0.0, 0.0, 0.0, 0.0, 0.4, 0.0, 0.4, 0.0, 0.0, 0.2, 0.2, 0.2, 0.2], [0.0, 0.0, 0.0, 0.0, 0.0, 0.0, 0.0, 0.0, 0.0, 0.0, 0.0, 0.0, 0.0, 0.0, 0.0, 0.0, 0.0, 0.0, 0.0, 0.0])\n",
      "(array([ True, False,  True,  True], dtype=bool), [0.2, 0.0, 0.2, 0.2], [0.0, 0.0, 0.0, 0.0])\n"
     ]
    }
   ],
   "source": [
    "frequentsBase = getChronicFrequentFlyers(getFrequentFlyersExtended(organisedIndex, visits=4))\n",
    "regularsBase = retrieveRegulars(standard, frequentsBase)\n",
    "\n",
    "runCode(frequentsBase, regularsBase)\n",
    "print(runPrescriptions(frequentsBase, regularsBase))\n",
    "print(runPrescriptions(frequentsBase, regularsBase, indicators))"
   ]
  },
  {
   "cell_type": "code",
   "execution_count": 52,
   "metadata": {},
   "outputs": [
    {
     "name": "stdout",
     "output_type": "stream",
     "text": [
      "---------------------------------------------------\n",
      "Using Labels\n",
      "[0.0, 0.0, 0.0, 0.0, 0.0]\n",
      "[0.0, 0.0, 0.0, 0.0, 0.0]\n",
      "[1.0, 1.0, 0.0, 0.0, 1.0]\n",
      "---------------------------------------------------\n",
      "Models on ETOH and Tobacco\n",
      "[0.0, 0.0, 0.0, 0.0, 0.0]\n",
      "[0.0, 0.0, 0.0, 0.0, 0.0]\n",
      "[1.0, 1.0, 1.0, 0.0, 1.0]\n",
      "----------------------\n",
      "Models on ETOH, Tobacco and Diabetes\n",
      "[0.0, 0.0, 0.0, 0.0, 0.0]\n",
      "[0.0, 0.0, 0.0, 0.0, 0.0]\n",
      "[1.0, 1.0, 1.0, 0.0, 1.0]\n",
      "----------------------\n",
      "Models on ETOH, Tobacco, Diabetes and Prescriptions\n"
     ]
    },
    {
     "ename": "ValueError",
     "evalue": "Cannot have number of splits n_splits=5 greater than the number of samples: 4.",
     "output_type": "error",
     "traceback": [
      "\u001b[1;31m---------------------------------------------------------------------------\u001b[0m",
      "\u001b[1;31mValueError\u001b[0m                                Traceback (most recent call last)",
      "\u001b[1;32m<ipython-input-52-08dc1987fdf1>\u001b[0m in \u001b[0;36m<module>\u001b[1;34m()\u001b[0m\n\u001b[0;32m      4\u001b[0m \u001b[0mregularsBase\u001b[0m \u001b[1;33m=\u001b[0m \u001b[0mretrieveRegulars\u001b[0m\u001b[1;33m(\u001b[0m\u001b[0mstandard\u001b[0m\u001b[1;33m,\u001b[0m \u001b[0mfrequentsBase\u001b[0m\u001b[1;33m)\u001b[0m\u001b[1;33m\u001b[0m\u001b[0m\n\u001b[0;32m      5\u001b[0m \u001b[1;33m\u001b[0m\u001b[0m\n\u001b[1;32m----> 6\u001b[1;33m \u001b[0mrunCode\u001b[0m\u001b[1;33m(\u001b[0m\u001b[0mfrequentsBase\u001b[0m\u001b[1;33m,\u001b[0m \u001b[0mregularsBase\u001b[0m\u001b[1;33m)\u001b[0m\u001b[1;33m\u001b[0m\u001b[0m\n\u001b[0m\u001b[0;32m      7\u001b[0m \u001b[0mprint\u001b[0m\u001b[1;33m(\u001b[0m\u001b[0mrunPrescriptions\u001b[0m\u001b[1;33m(\u001b[0m\u001b[0mfrequentsBase\u001b[0m\u001b[1;33m,\u001b[0m \u001b[0mregularsBase\u001b[0m\u001b[1;33m)\u001b[0m\u001b[1;33m)\u001b[0m\u001b[1;33m\u001b[0m\u001b[0m\n\u001b[0;32m      8\u001b[0m \u001b[0mprint\u001b[0m\u001b[1;33m(\u001b[0m\u001b[0mrunPrescriptions\u001b[0m\u001b[1;33m(\u001b[0m\u001b[0mfrequentsBase\u001b[0m\u001b[1;33m,\u001b[0m \u001b[0mregularsBase\u001b[0m\u001b[1;33m,\u001b[0m \u001b[0mindicators\u001b[0m\u001b[1;33m)\u001b[0m\u001b[1;33m)\u001b[0m\u001b[1;33m\u001b[0m\u001b[0m\n",
      "\u001b[1;32m<ipython-input-22-b0c0d55eb82a>\u001b[0m in \u001b[0;36mrunCode\u001b[1;34m(frequents, regs)\u001b[0m\n\u001b[0;32m     31\u001b[0m     \u001b[0mprint\u001b[0m\u001b[1;33m(\u001b[0m\u001b[1;34m\"Models on ETOH, Tobacco, Diabetes and Prescriptions\"\u001b[0m\u001b[1;33m)\u001b[0m\u001b[1;33m\u001b[0m\u001b[0m\n\u001b[0;32m     32\u001b[0m     \u001b[0mXtr\u001b[0m \u001b[1;33m=\u001b[0m \u001b[0mlist\u001b[0m\u001b[1;33m(\u001b[0m\u001b[0mmap\u001b[0m\u001b[1;33m(\u001b[0m\u001b[0mlist\u001b[0m\u001b[1;33m,\u001b[0m\u001b[0mzip\u001b[0m\u001b[1;33m(\u001b[0m\u001b[0mtotalSmokes\u001b[0m\u001b[1;33m,\u001b[0m \u001b[0mETOHTotal\u001b[0m\u001b[1;33m,\u001b[0m \u001b[0mDiabetesTotal\u001b[0m\u001b[1;33m,\u001b[0m \u001b[0mPrescriptionsTotal\u001b[0m\u001b[1;33m)\u001b[0m\u001b[1;33m)\u001b[0m\u001b[1;33m)\u001b[0m\u001b[1;33m\u001b[0m\u001b[0m\n\u001b[1;32m---> 33\u001b[1;33m     \u001b[0mrunModels\u001b[0m\u001b[1;33m(\u001b[0m\u001b[0mXtr\u001b[0m\u001b[1;33m,\u001b[0m \u001b[0mpatientBase\u001b[0m\u001b[1;33m)\u001b[0m\u001b[1;33m\u001b[0m\u001b[0m\n\u001b[0m\u001b[0;32m     34\u001b[0m     \u001b[0mprint\u001b[0m\u001b[1;33m(\u001b[0m\u001b[1;34m\"----------------------\"\u001b[0m\u001b[1;33m)\u001b[0m\u001b[1;33m\u001b[0m\u001b[0m\n\u001b[0;32m     35\u001b[0m     \u001b[0mprint\u001b[0m\u001b[1;33m(\u001b[0m\u001b[1;34m\"Models on Prescriptions\"\u001b[0m\u001b[1;33m)\u001b[0m\u001b[1;33m\u001b[0m\u001b[0m\n",
      "\u001b[1;32m<ipython-input-18-9320288a4412>\u001b[0m in \u001b[0;36mrunModels\u001b[1;34m(Xtr, patientBase)\u001b[0m\n\u001b[0;32m      8\u001b[0m     \u001b[0mdifferencesKM\u001b[0m \u001b[1;33m=\u001b[0m \u001b[1;33m[\u001b[0m\u001b[1;33m]\u001b[0m\u001b[1;33m\u001b[0m\u001b[0m\n\u001b[0;32m      9\u001b[0m \u001b[1;33m\u001b[0m\u001b[0m\n\u001b[1;32m---> 10\u001b[1;33m     \u001b[1;32mfor\u001b[0m \u001b[0mtrain_index\u001b[0m\u001b[1;33m,\u001b[0m \u001b[0mtest_index\u001b[0m \u001b[1;32min\u001b[0m \u001b[0mkf\u001b[0m\u001b[1;33m.\u001b[0m\u001b[0msplit\u001b[0m\u001b[1;33m(\u001b[0m\u001b[0mXtr\u001b[0m\u001b[1;33m)\u001b[0m\u001b[1;33m:\u001b[0m\u001b[1;33m\u001b[0m\u001b[0m\n\u001b[0m\u001b[0;32m     11\u001b[0m         \u001b[0mX_train\u001b[0m\u001b[1;33m,\u001b[0m \u001b[0mX_test\u001b[0m \u001b[1;33m=\u001b[0m \u001b[1;33m[\u001b[0m\u001b[0mXtr\u001b[0m\u001b[1;33m[\u001b[0m\u001b[0mi\u001b[0m\u001b[1;33m]\u001b[0m \u001b[1;32mfor\u001b[0m \u001b[0mi\u001b[0m \u001b[1;32min\u001b[0m \u001b[0mtrain_index\u001b[0m\u001b[1;33m]\u001b[0m\u001b[1;33m,\u001b[0m \u001b[1;33m[\u001b[0m\u001b[0mXtr\u001b[0m\u001b[1;33m[\u001b[0m\u001b[0mi\u001b[0m\u001b[1;33m]\u001b[0m \u001b[1;32mfor\u001b[0m \u001b[0mi\u001b[0m \u001b[1;32min\u001b[0m \u001b[0mtest_index\u001b[0m\u001b[1;33m]\u001b[0m\u001b[1;33m\u001b[0m\u001b[0m\n\u001b[0;32m     12\u001b[0m         \u001b[0my_train\u001b[0m\u001b[1;33m,\u001b[0m \u001b[0my_test\u001b[0m \u001b[1;33m=\u001b[0m \u001b[1;33m[\u001b[0m\u001b[0mYtr\u001b[0m\u001b[1;33m[\u001b[0m\u001b[0mi\u001b[0m\u001b[1;33m]\u001b[0m \u001b[1;32mfor\u001b[0m \u001b[0mi\u001b[0m \u001b[1;32min\u001b[0m \u001b[0mtrain_index\u001b[0m\u001b[1;33m]\u001b[0m\u001b[1;33m,\u001b[0m \u001b[1;33m[\u001b[0m\u001b[0mYtr\u001b[0m\u001b[1;33m[\u001b[0m\u001b[0mi\u001b[0m\u001b[1;33m]\u001b[0m \u001b[1;32mfor\u001b[0m \u001b[0mi\u001b[0m \u001b[1;32min\u001b[0m \u001b[0mtest_index\u001b[0m\u001b[1;33m]\u001b[0m\u001b[1;33m\u001b[0m\u001b[0m\n",
      "\u001b[1;32m~\\Anaconda3\\lib\\site-packages\\sklearn\\model_selection\\_split.py\u001b[0m in \u001b[0;36msplit\u001b[1;34m(self, X, y, groups)\u001b[0m\n\u001b[0;32m    328\u001b[0m                 (\"Cannot have number of splits n_splits={0} greater\"\n\u001b[0;32m    329\u001b[0m                  \u001b[1;34m\" than the number of samples: {1}.\"\u001b[0m\u001b[1;33m)\u001b[0m\u001b[1;33m.\u001b[0m\u001b[0mformat\u001b[0m\u001b[1;33m(\u001b[0m\u001b[0mself\u001b[0m\u001b[1;33m.\u001b[0m\u001b[0mn_splits\u001b[0m\u001b[1;33m,\u001b[0m\u001b[1;33m\u001b[0m\u001b[0m\n\u001b[1;32m--> 330\u001b[1;33m                                                              n_samples))\n\u001b[0m\u001b[0;32m    331\u001b[0m \u001b[1;33m\u001b[0m\u001b[0m\n\u001b[0;32m    332\u001b[0m         \u001b[1;32mfor\u001b[0m \u001b[0mtrain\u001b[0m\u001b[1;33m,\u001b[0m \u001b[0mtest\u001b[0m \u001b[1;32min\u001b[0m \u001b[0msuper\u001b[0m\u001b[1;33m(\u001b[0m\u001b[0m_BaseKFold\u001b[0m\u001b[1;33m,\u001b[0m \u001b[0mself\u001b[0m\u001b[1;33m)\u001b[0m\u001b[1;33m.\u001b[0m\u001b[0msplit\u001b[0m\u001b[1;33m(\u001b[0m\u001b[0mX\u001b[0m\u001b[1;33m,\u001b[0m \u001b[0my\u001b[0m\u001b[1;33m,\u001b[0m \u001b[0mgroups\u001b[0m\u001b[1;33m)\u001b[0m\u001b[1;33m:\u001b[0m\u001b[1;33m\u001b[0m\u001b[0m\n",
      "\u001b[1;31mValueError\u001b[0m: Cannot have number of splits n_splits=5 greater than the number of samples: 4."
     ]
    }
   ],
   "source": [
    "frequentsBase = getChronicFrequentFlyers(getFrequentFlyersExtended(organisedIndex, visits=5))\n",
    "frequentsBase = frequentsBase+frequentsBase\n",
    "\n",
    "regularsBase = retrieveRegulars(standard, frequentsBase)\n",
    "\n",
    "runCode(frequentsBase, regularsBase)\n",
    "print(runPrescriptions(frequentsBase, regularsBase))\n",
    "print(runPrescriptions(frequentsBase, regularsBase, indicators))"
   ]
  },
  {
   "cell_type": "markdown",
   "metadata": {},
   "source": [
    "# Returned within 28 days ever\n",
    "\n",
    "Defines a frequent flyer to be anyone who has returned 28 days within their discharge period"
   ]
  },
  {
   "cell_type": "code",
   "execution_count": 40,
   "metadata": {},
   "outputs": [
    {
     "name": "stdout",
     "output_type": "stream",
     "text": [
      "---------------------------------------------------\n",
      "Using Labels\n",
      "[0.2373028684962126, 0.23854464174841675, 0.24230004967709887, 0.2297565822155986, 0.24018877297565822]\n",
      "[0.23779957779709426, 0.2381721097727555, 0.24465971187282662, 0.2316194734227521, 0.24080973671137607]\n",
      "[0.5307338879920527, 0.47510244629330683, 0.5279433681073026, 0.46609538002980627, 0.4704421261798311]\n",
      "---------------------------------------------------\n",
      "Models on ETOH and Tobacco\n",
      "[0.04743573823419844, 0.04582143300633305, 0.05141579731743666, 0.04818678589170392, 0.04595131644311972]\n",
      "[0.04743573823419844, 0.04582143300633305, 0.05141579731743666, 0.04818678589170392, 0.04595131644311972]\n",
      "[0.9525642617658016, 0.954178566993667, 0.9485842026825634, 0.9518132141082961, 0.04595131644311972]\n",
      "----------------------\n",
      "Models on ETOH, Tobacco and Diabetes\n",
      "[0.04755991555941885, 0.04755991555941885, 0.04607550919026329, 0.050919026328862395, 0.04669647292598112]\n",
      "[0.04755991555941885, 0.04755991555941885, 0.04607550919026329, 0.050919026328862395, 0.04669647292598112]\n",
      "[0.04755991555941885, 0.9524400844405811, 0.04607550919026329, 0.9490809736711376, 0.9533035270740189]\n",
      "----------------------\n",
      "Models on ETOH, Tobacco, Diabetes and Prescriptions\n",
      "[0.029495558907323614, 0.031506619741913856, 0.035528741411094356, 0.04022121669180493, 0.030170968823332214]\n",
      "[0.029495558907323614, 0.031506619741913856, 0.035528741411094356, 0.04022121669180493, 0.030170968823332214]\n",
      "[0.029495558907323614, 0.9684933802580862, 0.9644712585889057, 0.04022121669180493, 0.030170968823332214]\n",
      "----------------------\n",
      "Models on Prescriptions\n",
      "[0.33031674208144796, 0.32931121166415284, 0.31825037707390647, 0.32646220881515, 0.32182366744887697]\n",
      "[0.33031674208144796, 0.32931121166415284, 0.31825037707390647, 0.32646220881515, 0.32182366744887697]\n",
      "[0.6410256410256411, 0.6378414613708732, 0.6443774090832914, 0.6443774090832914, 0.643144485417365]\n",
      "(array([ True,  True,  True,  True,  True,  True,  True, False,  True,\n",
      "        True,  True,  True,  True,  True, False,  True,  True,  True,\n",
      "        True,  True], dtype=bool), [0.40450052158362726, 0.006408027420396404, 0.014753365456261488, 0.07227658834633152, 0.006855099100889176, 0.05230738661765436, 0.15170632358054742, 9.934926233172718e-05, 0.007401520043713675, 0.049823655059361184, 0.011226466643485172, 0.05310218071630818, 0.015001738612090806, 0.020217574884506484, 0.00039739704932690873, 0.00317917639461527, 0.03338135214346034, 0.030500223535840247, 0.06532213998311062, 0.013362475783617307], [0.17932541850876757, 0.0018876359843028165, 0.006060305002235359, 0.029705429437186428, 0.00124186577914659, 0.017336446276886394, 0.06621628334409617, 0.00014902389349759077, 0.0014902389349759077, 0.024688291689434205, 0.0029804778699518155, 0.012667030947295215, 0.006805424469723312, 0.003973970493269087, 0.00039739704932690873, 0.00124186577914659, 0.011425165168148626, 0.005364860165913268, 0.03263623267597238, 0.0034772241816104516])\n",
      "(array([ True,  True,  True,  True], dtype=bool), [0.014753365456261488, 0.007401520043713675, 0.03338135214346034, 0.013362475783617307], [0.006060305002235359, 0.0014902389349759077, 0.011425165168148626, 0.0034772241816104516])\n"
     ]
    }
   ],
   "source": [
    "organised = organiseCohortData(cohort[1:])\n",
    "\n",
    "freqs28days = abstractFreqFlyers(organised, 28, 2)\n",
    "regs28days = retrieveRegulars(organised, freqs28days)\n",
    "\n",
    "runCode(freqs28days, regs28days)\n",
    "print(runPrescriptions(freqs28days, regs28days))\n",
    "print(runPrescriptions(freqs28days, regs28days, indicators))"
   ]
  },
  {
   "cell_type": "markdown",
   "metadata": {
    "collapsed": true
   },
   "source": [
    "# PCA"
   ]
  },
  {
   "cell_type": "code",
   "execution_count": 45,
   "metadata": {},
   "outputs": [
    {
     "name": "stdout",
     "output_type": "stream",
     "text": [
      "---------------------------------------------------\n",
      "Using Labels\n",
      "[0.27132745560660626, 0.2668570718986713, 0.2629160457029309, 0.2739692001987084, 0.26254346746150026]\n",
      "[0.2793989817459332, 0.2795231590711536, 0.27148534525583706, 0.2819175360158967, 0.2698708395429707]\n",
      "[0.5282503414876444, 0.4717496585123556, 0.524093392945852, 0.4678340784898162, 0.46572280178837555]\n",
      "---------------------------------------------------\n"
     ]
    }
   ],
   "source": [
    "freqFeatures = list(map(getFeatures, freqs28days))\n",
    "regFeatures = list(map(getFeatures, regs28days))\n",
    "\n",
    "Xtr = freqFeatures+regFeatures\n",
    "\n",
    "pca = PCA(n_components=10)\n",
    "pca.fit(Xtr)\n",
    "Xtr = pca.transform(Xtr)\n",
    "Ytr = [1]*len(freqFeatures) + [0]*len(regFeatures)\n",
    "print(\"---------------------------------------------------\")\n",
    "print(\"Using Labels\")\n",
    "runModels(Xtr,Ytr)\n",
    "print(\"---------------------------------------------------\")"
   ]
  },
  {
   "cell_type": "code",
   "execution_count": null,
   "metadata": {
    "collapsed": true
   },
   "outputs": [],
   "source": []
  }
 ],
 "metadata": {
  "kernelspec": {
   "display_name": "Python 3",
   "language": "python",
   "name": "python3"
  },
  "language_info": {
   "codemirror_mode": {
    "name": "ipython",
    "version": 3
   },
   "file_extension": ".py",
   "mimetype": "text/x-python",
   "name": "python",
   "nbconvert_exporter": "python",
   "pygments_lexer": "ipython3",
   "version": "3.6.3"
  }
 },
 "nbformat": 4,
 "nbformat_minor": 2
}
