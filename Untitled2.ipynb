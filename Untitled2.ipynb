{
 "cells": [
  {
   "cell_type": "code",
   "execution_count": 1,
   "metadata": {
    "collapsed": true
   },
   "outputs": [],
   "source": [
    "%matplotlib inline\n",
    "# notebook\n",
    "import matplotlib.pylab as pylab\n",
    "import sklearn\n",
    "import matplotlib.pyplot as plt\n",
    "from sklearn.model_selection import KFold\n",
    "from sklearn.linear_model import LogisticRegression\n",
    "from sklearn.neighbors import KNeighborsClassifier\n",
    "from sklearn import svm\n",
    "from sklearn.cluster import KMeans\n",
    "from collections import Counter\n",
    "import numpy as np\n",
    "\n",
    "#make the graphs bigger\n",
    "pylab.rcParams['figure.figsize'] = (32.0, 24.0)\n",
    "pylab.rcParams['font.size'] = 24"
   ]
  },
  {
   "cell_type": "code",
   "execution_count": 2,
   "metadata": {
    "collapsed": true
   },
   "outputs": [],
   "source": [
    "cohort = []\n",
    "ETOH = []\n",
    "hw = []\n",
    "labOrders = []\n",
    "medOrders = []\n",
    "prescriptions = []\n",
    "radiology = []\n",
    "tobacco = []\n",
    "vitals = []"
   ]
  },
  {
   "cell_type": "code",
   "execution_count": 3,
   "metadata": {
    "collapsed": true
   },
   "outputs": [],
   "source": [
    "def fileToList(fname):\n",
    "    dataArray = []\n",
    "    with open(fname) as f:\n",
    "        for line in f:\n",
    "            new = line.strip()\n",
    "            new = new[1:len(new) - 1]\n",
    "            new = new.split('\",\"')\n",
    "            if (len(new) > 1):\n",
    "                dataArray.append(new)\n",
    "    return dataArray"
   ]
  },
  {
   "cell_type": "code",
   "execution_count": 4,
   "metadata": {
    "collapsed": true
   },
   "outputs": [],
   "source": [
    "def fileToDict(fname):\n",
    "    dataDict = dict()\n",
    "    with open(fname) as f:\n",
    "        for line in f:\n",
    "            new = line.strip()\n",
    "            new = new[1:len(new) - 1]\n",
    "            new = new.split('\",\"')\n",
    "            if (len(new) > 1):\n",
    "                if not(new[0] in dataDict):\n",
    "                    dataDict[new[0]] = [new]\n",
    "                else:\n",
    "                    dataDict[new[0]].append(new)\n",
    "    return dataDict"
   ]
  },
  {
   "cell_type": "code",
   "execution_count": 5,
   "metadata": {
    "collapsed": true
   },
   "outputs": [],
   "source": [
    "fname = \"2018-4169_Cohort.txt\"\n",
    "cohort = fileToList(fname)\n",
    "\n",
    "fname = \"2018-4169_ETOH_Use.txt\"\n",
    "ETOH = fileToDict(fname)\n",
    "\n",
    "fname = \"2018-4169_Height_Weight.txt\"\n",
    "hw = fileToDict(fname)\n",
    "\n",
    "fname = \"2018-4169_Lab_Orders_Performed.txt\"\n",
    "labOrders = fileToDict(fname)\n"
   ]
  },
  {
   "cell_type": "code",
   "execution_count": 6,
   "metadata": {
    "collapsed": true
   },
   "outputs": [],
   "source": [
    "fname = \"2018-4169_Med_Orders.txt\"\n",
    "medOrders = fileToDict(fname)\n",
    "\n",
    "fname = \"2018-4169_Prescriptions.txt\"\n",
    "prescriptions = fileToList(fname)"
   ]
  },
  {
   "cell_type": "code",
   "execution_count": 7,
   "metadata": {
    "collapsed": true
   },
   "outputs": [],
   "source": [
    "fname = \"2018-4169_Tobacco_Use.txt\"\n",
    "tobacco = fileToDict(fname)"
   ]
  },
  {
   "cell_type": "code",
   "execution_count": 8,
   "metadata": {
    "collapsed": true
   },
   "outputs": [],
   "source": [
    "fname = \"2018-4169_ETOH_Use.txt\"\n",
    "ETOHList = fileToList(fname)"
   ]
  },
  {
   "cell_type": "code",
   "execution_count": 9,
   "metadata": {
    "collapsed": true
   },
   "outputs": [],
   "source": [
    "tobList = fileToList(fname)"
   ]
  },
  {
   "cell_type": "code",
   "execution_count": 10,
   "metadata": {
    "collapsed": true
   },
   "outputs": [],
   "source": [
    "#organises data into a dict of dict of lists\n",
    "#dict of years\n",
    "    #dict of patients\n",
    "        #entry of admissions\n",
    "def organiseCohortDataIndex(myCohort):\n",
    "    organised = dict()\n",
    "    for admission in myCohort:\n",
    "        year = admission[8][0:4]\n",
    "        if year in organised:\n",
    "            entry = organised[year]\n",
    "            if admission[0] in entry:\n",
    "                organised[year][admission[0]].append(admission[1:])\n",
    "            else:\n",
    "                organised[year][admission[0]] = [admission[1:]]\n",
    "        else:\n",
    "            patientData = dict()\n",
    "            patientData[admission[0]] = [admission[1:]]\n",
    "            organised[year] = patientData\n",
    "    return organised\n",
    "\n",
    "#gets non frequent flyers from the organised cohort dict above\n",
    "def getNonFrequentFlyersBase(cohortDict, frequentFlyerDict):\n",
    "    regular = dict()\n",
    "    for year in cohortDict:\n",
    "        regular[year] = dict()\n",
    "        patList = cohortDict[year]\n",
    "        for pKey in patList:\n",
    "            if not(pKey in frequentFlyerDict[year]):\n",
    "                regular[year][pKey] = cohortDict[year][pKey]\n",
    "    return regular\n",
    "\n",
    "#gets frequent flyers from the organised cohort dict above (defined by greater than or equal to a specified visit num)\n",
    "def getFrequentFlyersExtended(dataDict, year=None, visits=10):\n",
    "    if (year == None):\n",
    "        freqDict = dict()\n",
    "        for key in dataDict:\n",
    "            freqDict[key] = []\n",
    "            patientDict = dataDict[key]\n",
    "            for pKey in patientDict:\n",
    "                if len(patientDict[pKey]) >= visits:\n",
    "                    freqDict[key].append(pKey)\n",
    "        return freqDict\n",
    "    else:\n",
    "        freqDict= dict()\n",
    "        if (year in dataDict):\n",
    "            patientDict = dataDict[year]\n",
    "            for pKey in patientDict:\n",
    "                if len(patientDict[pKey]) >= visits:\n",
    "                    freqDict[key].append(pKey)\n",
    "            return freqDict\n",
    "        else:\n",
    "            return dict()"
   ]
  },
  {
   "cell_type": "code",
   "execution_count": 11,
   "metadata": {
    "collapsed": true
   },
   "outputs": [],
   "source": [
    "import collections\n",
    "from datetime import datetime\n",
    "\n",
    "#returns a dict of lists\n",
    "    #dict of patients\n",
    "        #list of admissions\n",
    "def organiseCohortData(myCohort):\n",
    "    organised = dict()\n",
    "    for admission in myCohort:\n",
    "        if admission[0] in organised:\n",
    "            organised[admission[0]].append(admission[1:])\n",
    "        else:\n",
    "            organised[admission[0]] = [admission[1:]]\n",
    "            \n",
    "    \n",
    "    for p in organised.keys():\n",
    "        organised[p] = sorted(organised[p], key = lambda x: datetime.strptime(x[8][0:10], '%Y-%m-%d'))\n",
    "    return organised\n",
    "    "
   ]
  },
  {
   "cell_type": "code",
   "execution_count": 12,
   "metadata": {
    "collapsed": true
   },
   "outputs": [],
   "source": [
    "organised = organiseCohortData(cohort[1:])"
   ]
  },
  {
   "cell_type": "code",
   "execution_count": 13,
   "metadata": {
    "collapsed": true
   },
   "outputs": [],
   "source": [
    "from datetime import datetime, timedelta\n",
    "\n",
    "#method for finding frequent flyers where you specify a gap/time frame in days(e.g. 12 months, one month, one week etc)\n",
    "#and a number of visits, and this method will get frequent flyers for that definition\n",
    "#uses the organisation of the cohort data specified by the organiseCohortData method (aka dict of lists)\n",
    "def abstractFreqFlyers(organised, gap, visits):\n",
    "    frequentFlyers = []\n",
    "    for p in organised.keys():\n",
    "        dates = [datetime.strptime(item[8][0:10], '%Y-%m-%d') for item in organised[p]]\n",
    "        try:\n",
    "            for i in range(len(dates)):\n",
    "                modified_date = dates[i] + timedelta(days=gap)\n",
    "                if dates[i+visits-1] <= modified_date:\n",
    "                    frequentFlyers.append(p)\n",
    "                    break\n",
    "        except:\n",
    "            pass\n",
    "    return frequentFlyers"
   ]
  },
  {
   "cell_type": "code",
   "execution_count": 14,
   "metadata": {
    "collapsed": true
   },
   "outputs": [],
   "source": [
    "frequents = abstractFreqFlyers(organised, 365,20) #as a test, this calculates frequent flyers that, in the space of a year, have made 10 visits"
   ]
  },
  {
   "cell_type": "code",
   "execution_count": 15,
   "metadata": {},
   "outputs": [
    {
     "name": "stdout",
     "output_type": "stream",
     "text": [
      "126\n"
     ]
    }
   ],
   "source": [
    "print(len(frequents))"
   ]
  },
  {
   "cell_type": "code",
   "execution_count": 16,
   "metadata": {},
   "outputs": [
    {
     "name": "stdout",
     "output_type": "stream",
     "text": [
      "['0.54629537974305198', '0.18454035455437792', '0.49137990165585754', '0.31499293513474674', '7.0830591556572897E-2']\n"
     ]
    }
   ],
   "source": [
    "print(frequents[0:5])"
   ]
  },
  {
   "cell_type": "code",
   "execution_count": 17,
   "metadata": {
    "collapsed": true
   },
   "outputs": [],
   "source": [
    "#def difference(l1,l2):\n",
    "    #precisionError = len([b for a,b in zip(l1,l2) if b != a and b == 0 and a == 1])\n",
    "    #recallError = len([b for a,b in zip(l1,l2) if b != a and b == 1 and a == 0])\n",
    "    #print(\"Precision Error is \" + str(precisionError))\n",
    "    #print(\"Recall Error is \" + str(recallError))\n",
    "    #return (precisionError) + (recallError)\n",
    "    \n",
    "def difference(l1,l2):\n",
    "    return len([b for a,b in zip(l1,l2) if b != a])  "
   ]
  },
  {
   "cell_type": "code",
   "execution_count": 18,
   "metadata": {
    "collapsed": true
   },
   "outputs": [],
   "source": [
    "#given a set of data training points (Xtr) and classes (patientBase), run a number of models \n",
    "#use a K-fold algorithm to get error across 4 runs overall\n",
    "def runModels(Xtr, patientBase):\n",
    "    kf = KFold(n_splits=5)\n",
    "    Ytr = patientBase\n",
    "    differencesLR = []\n",
    "    differencesSVM = []\n",
    "    differencesKM = []\n",
    "\n",
    "    for train_index, test_index in kf.split(Xtr):\n",
    "        X_train, X_test = [Xtr[i] for i in train_index], [Xtr[i] for i in test_index]\n",
    "        y_train, y_test = [Ytr[i] for i in train_index], [Ytr[i] for i in test_index]\n",
    "    \n",
    "        if (1 in y_train and 0 in y_train):\n",
    "            lr = LogisticRegression()\n",
    "            lr.fit(X_train, y_train)\n",
    "            PredLR = lr.predict(X_test)\n",
    "            differencesLR.append(difference(PredLR, y_test)/len(y_test))\n",
    "    \n",
    "            km = KMeans(n_clusters=2)\n",
    "            km.fit(X_train, y_train)\n",
    "            PredKM = km.predict(X_test)\n",
    "            differencesKM.append(difference(PredKM, y_test)/len(y_test))\n",
    "\n",
    "            clf = svm.SVC()\n",
    "            clf.fit(X_train, y_train)\n",
    "            PredSVM = clf.predict(X_test)\n",
    "            differencesSVM.append(difference(PredSVM, y_test)/len(y_test))\n",
    "    print((differencesLR))\n",
    "    print((differencesSVM))\n",
    "    print((differencesKM))"
   ]
  },
  {
   "cell_type": "code",
   "execution_count": 19,
   "metadata": {
    "collapsed": true
   },
   "outputs": [],
   "source": [
    "#given a sentence, is the patient a serious smoker\n",
    "def isBadSmoking(res):\n",
    "    if (res == \"current every day smoker\" or res == \"current some day smoker\" or res == \"current every day\" or res==\"heavy tobacco smoker\"):\n",
    "        return 1\n",
    "    else:\n",
    "        return 0\n",
    "    \n",
    "#given a sentence, is the patient a big drinker\n",
    "def isBad(cat,res):\n",
    "    if (cat == \"Number of Standard Drinks on a Typical Day\"):\n",
    "        if (res == \"10 or more\" or res == \"7 to 9\"):\n",
    "            return 1\n",
    "        else:\n",
    "            return 0\n",
    "    elif (cat == \"Alcohol Treatment Offered\"):\n",
    "        if (res == \"yes\"):\n",
    "            return 1\n",
    "        else:\n",
    "            return 0\n",
    "    elif (cat == \"Excessive Alcohol and Drug Use\"):\n",
    "        if (res == \"yes\"):\n",
    "            return 1\n",
    "        else:\n",
    "            return 0\n",
    "    elif (cat == \"10.Has a Relative, Friend, Doctor, or Other Health Professional Expressed Concern About Your Drinking or Suggested You Cut Down\"):\n",
    "        if (res == \"(2) Yes, during the last year\"):\n",
    "            return 1\n",
    "        else:\n",
    "            return 0\n",
    "    \n",
    "    return 0\n",
    "\n",
    "#given a list of frequent flyer ids, return 3 lists: \n",
    "#first list = list of 1s the size of frequents (= list of classes for our model)\n",
    "#list of 1s and 0s corresponding to whether the patient drinks a lot of alcohol (ETOH results)\n",
    "#list of 1s and 0s corresponding to whether the patient smokes a lot (tobacco results)\n",
    "\n",
    "def frequentsArray(frequents, value):\n",
    "    smokesHeavyFreqs = []\n",
    "    ETOHHeavyFreqs = []\n",
    "    patientBase = []\n",
    "    \n",
    "    for p in frequents:\n",
    "        patientBase.append(value)\n",
    "        if p in ETOH:\n",
    "            entry = ETOH[p]\n",
    "            drinkFreq = isBad(entry[0][4], entry[0][5])\n",
    "            ETOHHeavyFreqs.append(drinkFreq)\n",
    "        else:\n",
    "            ETOHHeavyFreqs.append((value-1)*-1)\n",
    "        if p in tobacco:\n",
    "            entry = tobacco[p]\n",
    "            smokingFreq = isBadSmoking(entry[0][2])\n",
    "            smokesHeavyFreqs.append(smokingFreq)\n",
    "        else:\n",
    "            smokesHeavyFreqs.append(0)\n",
    "                \n",
    "    return (patientBase, ETOHHeavyFreqs, smokesHeavyFreqs)"
   ]
  },
  {
   "cell_type": "code",
   "execution_count": 20,
   "metadata": {
    "collapsed": true
   },
   "outputs": [],
   "source": [
    "#given a list of ids, returns a list where it is 1 if patient is diabetic, and 0 if not\n",
    "def getDiabetes(deIds):\n",
    "    diabetes = []\n",
    "    for patient in deIds:\n",
    "        if patient in organised:\n",
    "            entry = organised[patient][0]\n",
    "            if (entry[-1] == \"Diabetes\"):\n",
    "                diabetes.append(1)\n",
    "            else:\n",
    "                diabetes.append(0)\n",
    "    return diabetes"
   ]
  },
  {
   "cell_type": "code",
   "execution_count": 21,
   "metadata": {
    "collapsed": true
   },
   "outputs": [],
   "source": [
    "#calculates Xtr and Ytr and runs models \n",
    "def runCode(frequents, regs):\n",
    "    patBase1, ETOHHeavyFreqs, smokesHeavyFreqs = frequentsArray(frequents, 1)\n",
    "    patBase2, ETOHHeavyRegs, smokesHeavyRegs = frequentsArray(regs, 0)\n",
    "\n",
    "    patientBase = patBase1 + patBase2\n",
    "    totalSmokes = smokesHeavyFreqs + smokesHeavyRegs\n",
    "    ETOHTotal = ETOHHeavyFreqs + ETOHHeavyRegs\n",
    "    DiabetesTotal = getDiabetes(frequents) + getDiabetes(regs)\n",
    "    PrescriptionsTotal = prescIndicators(frequents) + prescIndicators(regs)\n",
    "\n",
    "    Xtr = list(map(list,zip(totalSmokes, ETOHTotal)))\n",
    "    print(\"Models on ETOH and Tobacco\")\n",
    "    runModels(Xtr, patientBase)\n",
    "    print(\"----------------------\")\n",
    "    print(\"Models on ETOH, Tobacco and Diabetes\")\n",
    "    Xtr = list(map(list,zip(totalSmokes, ETOHTotal, DiabetesTotal)))\n",
    "    runModels(Xtr, patientBase)\n",
    "    print(\"----------------------\")\n",
    "    print(\"Models on ETOH, Tobacco, Diabetes and Prescriptions\")\n",
    "    Xtr = list(map(list,zip(totalSmokes, ETOHTotal, DiabetesTotal, PrescriptionsTotal)))\n",
    "    runModels(Xtr, patientBase)\n",
    "    print(\"----------------------\")\n",
    "    print(\"Models on Prescriptions\")\n",
    "    Xtr = list(map(list,zip(PrescriptionsTotal)))\n",
    "    runModels(Xtr, patientBase)"
   ]
  },
  {
   "cell_type": "code",
   "execution_count": 22,
   "metadata": {
    "collapsed": true
   },
   "outputs": [],
   "source": [
    "#same as above but this time, the frequents and regs parameters are dicts (extra dimension of year), not lists\n",
    "def runCodeDicts(frequents, regs):\n",
    "    patBase1, ETOHHeavyFreqs, smokesHeavyFreqs = frequentsArrayOrg(frequentsBase)\n",
    "    patBase2, ETOHHeavyRegs, smokesHeavyRegs = regsArrayOrg(regularsBase)\n",
    "\n",
    "    patientBase = patBase1 + patBase2\n",
    "    totalSmokes = smokesHeavyFreqs + smokesHeavyRegs\n",
    "    ETOHTotal = ETOHHeavyFreqs + ETOHHeavyRegs\n",
    "    \n",
    "    listFreqs = []\n",
    "    for f in frequents.keys():\n",
    "        listFreqs = listFreqs + frequents[f]\n",
    "\n",
    "    listFreqs = list(set(listFreqs))\n",
    "    DiabetesTotal = getDiabetes(listFreqs) + getDiabetes(regs)\n",
    "    PrescriptionsTotal = prescIndicators(listFreqs) + prescIndicators(regs)\n",
    "\n",
    "    Xtr = list(map(list,zip(totalSmokes, ETOHTotal)))\n",
    "    print(\"Models on ETOH and Tobacco\")\n",
    "    runModels(Xtr, patientBase)\n",
    "    print(\"----------------------\")\n",
    "    print(\"Models on ETOH, Tobacco and Diabetes\")\n",
    "    Xtr = list(map(list,zip(totalSmokes, ETOHTotal, DiabetesTotal)))\n",
    "    runModels(Xtr, patientBase)\n",
    "    print(\"----------------------\")\n",
    "    print(\"Models on ETOH, Tobacco, Diabetes and Prescriptions\")\n",
    "    Xtr = list(map(list,zip(totalSmokes, ETOHTotal, DiabetesTotal, PrescriptionsTotal)))\n",
    "    runModels(Xtr, patientBase)\n",
    "    print(\"----------------------\")\n",
    "    print(\"Models on ETOH, Tobacco, Diabetes and Prescriptions\")\n",
    "    Xtr = list(map(list,zip(PrescriptionsTotal)))\n",
    "    runModels(Xtr, patientBase)"
   ]
  },
  {
   "cell_type": "code",
   "execution_count": 23,
   "metadata": {
    "collapsed": true
   },
   "outputs": [],
   "source": [
    "from collections import Counter\n",
    "\n",
    "names = [item[3] for item in prescriptions]\n",
    "organisedPrescriptions = fileToDict(\"2018-4169_Prescriptions.txt\")\n",
    "ordered = Counter(names[1:])\n",
    "orderedPrescList = list(ordered.keys())"
   ]
  },
  {
   "cell_type": "code",
   "execution_count": 24,
   "metadata": {
    "collapsed": true
   },
   "outputs": [],
   "source": [
    "def retrieveRegulars(org, frequents):\n",
    "    regularsBase = []\n",
    "    newOrder = Counter(frequents)\n",
    "    for k in org.keys():\n",
    "        if not(k in newOrder):\n",
    "            regularsBase.append(k)\n",
    "    return regularsBase"
   ]
  },
  {
   "cell_type": "code",
   "execution_count": 25,
   "metadata": {
    "collapsed": true
   },
   "outputs": [],
   "source": [
    "def runPrescriptions(frequents, regs, top=orderedPrescList[0:20]):\n",
    "    \n",
    "    medList = []\n",
    "    for med in top:\n",
    "        counter = 0\n",
    "        for f in frequents:\n",
    "            if (f in organisedPrescriptions):\n",
    "                if (med in [item[3] for item in organisedPrescriptions[f]]):\n",
    "                    counter = counter + 1\n",
    "        medList.append(counter)\n",
    "    \n",
    "    medList2 = []\n",
    "    for med in top:\n",
    "        counter = 0\n",
    "        for f in regs28days:\n",
    "            if (f in organisedPrescriptions):\n",
    "                if (med in [item[3] for item in organisedPrescriptions[f]]):\n",
    "                    counter = counter + 1\n",
    "        medList2.append(counter)\n",
    "    \n",
    "    x = ([(item / len(freqs28days)) for item in medList])\n",
    "    y = ([(item / len(regs28days)) for item in medList2])\n",
    "\n",
    "    x1 = np.array(x)\n",
    "    y1 = np.array(y)\n",
    "\n",
    "    return(x1 > y1, x, y)"
   ]
  },
  {
   "cell_type": "code",
   "execution_count": 26,
   "metadata": {},
   "outputs": [
    {
     "name": "stdout",
     "output_type": "stream",
     "text": [
      "['citalopram', 'chlordiazePOXIDE', 'QUEtiapine', 'mirtazapine']\n"
     ]
    }
   ],
   "source": [
    "indicatorIndices = [2, 8, 16, 19]\n",
    "indicators = [orderedPrescList[k] for k in indicatorIndices]\n",
    "print(indicators)"
   ]
  },
  {
   "cell_type": "code",
   "execution_count": 27,
   "metadata": {
    "collapsed": true
   },
   "outputs": [],
   "source": [
    "def prescIndicators(deIds):\n",
    "    prescs = []\n",
    "    for patient in deIds:\n",
    "        if patient in organisedPrescriptions:\n",
    "            entry = organisedPrescriptions[patient]\n",
    "            data = [item[3] for item in entry]\n",
    "            if (not set(data).isdisjoint(indicators)):\n",
    "                prescs.append(1)\n",
    "            else:\n",
    "                prescs.append(0)\n",
    "    return prescs"
   ]
  },
  {
   "cell_type": "markdown",
   "metadata": {},
   "source": [
    "# N or more during indexed year\n",
    "\n",
    "Follwing code blocks deal with the case where the definion of a frequent flyer is N visits per index year (2018, 1017, 2016 etc)"
   ]
  },
  {
   "cell_type": "code",
   "execution_count": 46,
   "metadata": {
    "collapsed": true
   },
   "outputs": [],
   "source": [
    "#specialised routines that get the ETOH,tobacco, and patientBase lists for dict base data \n",
    "#(aka is same as frequentsAray above, but works on dicts)\n",
    "def frequentsArrayOrg(frequents):\n",
    "    patListFreqs = []\n",
    "    smokesHeavyFreqs = []\n",
    "    ETOHHeavyFreqs = []\n",
    "    patientBase = []\n",
    "    \n",
    "    for k in frequents.keys():\n",
    "        patListFreqs = patListFreqs + frequents[k]\n",
    "        for p in patListFreqs:\n",
    "            patientBase.append(1)\n",
    "            if p in ETOH:\n",
    "                entry = ETOH[p]\n",
    "                drinkFreq = isBad(entry[0][4], entry[0][5])\n",
    "                ETOHHeavyFreqs.append(drinkFreq)\n",
    "            else:\n",
    "                ETOHHeavyFreqs.append(0)\n",
    "            \n",
    "            if p in tobacco:\n",
    "                entry = tobacco[p]\n",
    "                smokingFreq = isBadSmoking(entry[0][2])\n",
    "                smokesHeavyFreqs.append(smokingFreq)\n",
    "            else:\n",
    "                smokesHeavyFreqs.append(0)\n",
    "    return (patientBase, ETOHHeavyFreqs, smokesHeavyFreqs)\n",
    "\n",
    "def regsArrayOrg(regulars):\n",
    "    patListRegs = []\n",
    "    smokesHeavyRegs = []\n",
    "    ETOHHeavyRegs = []\n",
    "    patientBase = []\n",
    "\n",
    "    for k in regulars.keys():\n",
    "        patListRegs = patListRegs + list(regulars[k].keys())\n",
    "\n",
    "    for p in patListRegs:\n",
    "        patientBase.append(0)\n",
    "\n",
    "        if p in ETOH:\n",
    "            entry = ETOH[p]\n",
    "            drinkFreq = isBad(entry[0][4], entry[0][5])\n",
    "            ETOHHeavyRegs.append(drinkFreq)\n",
    "        else:\n",
    "            ETOHHeavyRegs.append(0)\n",
    "        \n",
    "        if p in tobacco:\n",
    "            entry = tobacco[p]\n",
    "            smokingFreq = isBadSmoking(entry[0][2])\n",
    "            smokesHeavyRegs.append(smokingFreq)\n",
    "        else:\n",
    "            smokesHeavyRegs.append(0)\n",
    "    \n",
    "    return (patientBase, ETOHHeavyRegs, smokesHeavyRegs)"
   ]
  },
  {
   "cell_type": "code",
   "execution_count": 47,
   "metadata": {
    "collapsed": true
   },
   "outputs": [],
   "source": [
    "organisedIndex = organiseCohortDataIndex(cohort[1:])"
   ]
  },
  {
   "cell_type": "code",
   "execution_count": 48,
   "metadata": {},
   "outputs": [
    {
     "name": "stdout",
     "output_type": "stream",
     "text": [
      "Models on ETOH and Tobacco\n",
      "[0.0, 0.0, 0.0, 0.0]\n",
      "[0.0, 0.0, 0.0, 0.0]\n",
      "[0.8001246192190529, 0.1637626641434539, 0.8054049064180379, 0.15889317117075535]\n",
      "----------------------\n",
      "Models on ETOH, Tobacco and Diabetes\n",
      "[]\n",
      "[]\n",
      "[]\n",
      "----------------------\n",
      "Models on ETOH, Tobacco, Diabetes and Prescriptions\n",
      "[]\n",
      "[]\n",
      "[]\n",
      "----------------------\n",
      "Models on ETOH, Tobacco, Diabetes and Prescriptions\n",
      "[]\n",
      "[]\n",
      "[]\n"
     ]
    }
   ],
   "source": [
    "frequentsBase = getFrequentFlyersExtended(organisedIndex, visits=4)\n",
    "regularsBase = getNonFrequentFlyersBase(organisedIndex, frequentsBase)\n",
    "runCodeDicts(frequentsBase, regularsBase)"
   ]
  },
  {
   "cell_type": "code",
   "execution_count": 49,
   "metadata": {},
   "outputs": [
    {
     "name": "stdout",
     "output_type": "stream",
     "text": [
      "(array([False, False, False, False, False, False, False, False, False,\n",
      "       False, False, False, False, False, False, False, False, False,\n",
      "       False, False], dtype=bool), [0.0, 0.0, 0.0, 0.0, 0.0, 0.0, 0.0, 0.0, 0.0, 0.0, 0.0, 0.0, 0.0, 0.0, 0.0, 0.0, 0.0, 0.0, 0.0, 0.0], [0.176199660546212, 0.0016355500694337293, 0.006557629995371085, 0.02901558401481253, 0.0014889677518901403, 0.01679524764696806, 0.0665869464588798, 0.00022373090572442523, 0.0017204135164326493, 0.025034716864681377, 0.0031476623977781206, 0.011657151674124363, 0.0053772565962042895, 0.004297176361672581, 0.00031630921154142877, 0.0010106465051689553, 0.011340842462582934, 0.005361826878568122, 0.03372164789384354, 0.0036491282209535564])\n",
      "(array([False, False, False, False], dtype=bool), [0.0, 0.0, 0.0, 0.0], [0.006557629995371085, 0.0017204135164326493, 0.011340842462582934, 0.0036491282209535564])\n"
     ]
    }
   ],
   "source": [
    "listFreqs = []\n",
    "for f in frequentsBase.keys():\n",
    "    listFreqs = listFreqs + frequentsBase[f]\n",
    "print(runPrescriptions(frequentsBase, regularsBase))\n",
    "print(runPrescriptions(frequentsBase, regularsBase, indicators))"
   ]
  },
  {
   "cell_type": "markdown",
   "metadata": {},
   "source": [
    "# N visits 2 years after initial visit\n",
    "\n",
    "Deals with the definiton of frequent flyers that defines a frequent flyer as returning N times within a space of 2 years after a given visit"
   ]
  },
  {
   "cell_type": "code",
   "execution_count": 40,
   "metadata": {
    "collapsed": true
   },
   "outputs": [],
   "source": [
    "organised = organiseCohortData(cohort[1:])"
   ]
  },
  {
   "cell_type": "code",
   "execution_count": 41,
   "metadata": {},
   "outputs": [
    {
     "name": "stdout",
     "output_type": "stream",
     "text": [
      "Models on ETOH and Tobacco\n",
      "[0.0, 0.0, 0.0, 0.0]\n",
      "[0.0, 0.0, 0.0, 0.0]\n",
      "[0.15398998330550917, 0.14998330550918196, 0.1419365609348915, 0.14647746243739565]\n",
      "----------------------\n",
      "Models on ETOH, Tobacco and Diabetes\n",
      "[0.0, 0.0, 0.0, 0.0]\n",
      "[0.0, 0.0, 0.0, 0.0]\n",
      "[0.8460100166944908, 0.14998330550918196, 0.1419365609348915, 0.14647746243739565]\n",
      "----------------------\n",
      "Models on ETOH, Tobacco, Diabetes and Prescriptions\n",
      "[0.00010430791697089809, 0.0005215395848544905, 0.0003129237509126943, 0.00020861583394179617]\n",
      "[0.0013038489621362262, 0.002138312297903411, 0.0018775425054761655, 0.00020861583394179617]\n",
      "[0.1564097214978617, 0.15374986961510378, 0.8497444456034213, 0.14509231250651924]\n",
      "----------------------\n",
      "Models on Prescriptions\n",
      "[0.0, 0.0, 0.0, 0.0]\n",
      "[0.0, 0.0, 0.0, 0.0]\n",
      "[0.03937623865651403, 0.04208824449775738, 0.03911546886408678, 0.039741316365912174]\n",
      "(array([False,  True, False, False,  True, False, False, False,  True,\n",
      "       False, False, False, False,  True, False, False, False,  True,\n",
      "       False, False], dtype=bool), [0.05195966419949332, 0.0016889374596393621, 0.002682430082956634, 0.012965078734290397, 0.0014902389349759077, 0.008096964880035766, 0.019671153941681983, 0.0, 0.002086334508966271, 0.00829566340469922, 0.0031295017634494064, 0.01147483979931449, 0.0033282002881128607, 0.004371367542595996, 4.967463116586359e-05, 0.00034772241816104514, 0.006805424469723312, 0.007848591724206449, 0.010133624757836173, 0.003079827132283543], [0.176199660546212, 0.0016355500694337293, 0.006557629995371085, 0.02901558401481253, 0.0014889677518901403, 0.01679524764696806, 0.0665869464588798, 0.00022373090572442523, 0.0017204135164326493, 0.025034716864681377, 0.0031476623977781206, 0.011657151674124363, 0.0053772565962042895, 0.004297176361672581, 0.00031630921154142877, 0.0010106465051689553, 0.011340842462582934, 0.005361826878568122, 0.03372164789384354, 0.0036491282209535564])\n",
      "(array([False,  True, False, False], dtype=bool), [0.002682430082956634, 0.002086334508966271, 0.006805424469723312, 0.003079827132283543], [0.006557629995371085, 0.0017204135164326493, 0.011340842462582934, 0.0036491282209535564])\n"
     ]
    }
   ],
   "source": [
    "freqs = abstractFreqFlyers(organised, 730, 10)\n",
    "regs = retrieveRegulars(organised, freqs)\n",
    "\n",
    "runCode(freqs, regs)\n",
    "print(runPrescriptions(freqs, regs))\n",
    "print(runPrescriptions(freqs, regs, indicators))"
   ]
  },
  {
   "cell_type": "markdown",
   "metadata": {},
   "source": [
    "# N visits in 12 months\n",
    "\n",
    "Deals with the definition that specifies a frequent flyer as visiting N times in the space of 12 months"
   ]
  },
  {
   "cell_type": "code",
   "execution_count": 35,
   "metadata": {
    "collapsed": true
   },
   "outputs": [],
   "source": [
    "organised = organiseCohortData(cohort[1:])"
   ]
  },
  {
   "cell_type": "code",
   "execution_count": 36,
   "metadata": {},
   "outputs": [
    {
     "name": "stdout",
     "output_type": "stream",
     "text": [
      "Models on ETOH and Tobacco\n",
      "[0.08637729549248747, 0.08470784641068448, 0.08641068447412353, 0.08297161936560934]\n",
      "[0.08637729549248747, 0.08470784641068448, 0.08641068447412353, 0.08297161936560934]\n",
      "[0.08637729549248747, 0.08470784641068448, 0.9135893155258764, 0.08297161936560934]\n",
      "----------------------\n",
      "Models on ETOH, Tobacco and Diabetes\n",
      "[0.08637729549248747, 0.08470784641068448, 0.08641068447412353, 0.08297161936560934]\n",
      "[0.08637729549248747, 0.08470784641068448, 0.08641068447412353, 0.08297161936560934]\n",
      "[0.08637729549248747, 0.08470784641068448, 0.08641068447412353, 0.08297161936560934]\n",
      "----------------------\n",
      "Models on ETOH, Tobacco, Diabetes and Prescriptions\n",
      "[0.09080004172316679, 0.08542818399916553, 0.08787942004798165, 0.08224679253155315]\n",
      "[0.09080004172316679, 0.08542818399916553, 0.08787942004798165, 0.08224679253155315]\n",
      "[0.09080004172316679, 0.08542818399916553, 0.08787942004798165, 0.08224679253155315]\n",
      "----------------------\n",
      "Models on Prescriptions\n",
      "[0.0, 0.0, 0.0, 0.0]\n",
      "[0.0, 0.0, 0.0, 0.0]\n",
      "[0.9644831542714092, 0.03645561698132888, 0.03624700114738709, 0.0356211536455617]\n",
      "(array([ True,  True,  True,  True,  True,  True,  True,  True,  True,\n",
      "        True,  True,  True,  True,  True,  True,  True,  True,  True,\n",
      "        True,  True], dtype=bool), [0.35114996771148976, 0.006706075207391585, 0.013213451890119715, 0.07033927773086285, 0.007004122994386766, 0.04833341612438528, 0.137648402960608, 0.00029804778699518155, 0.007798917093040584, 0.04594903382842382, 0.010878744225324127, 0.048979186329541506, 0.014306293775768714, 0.017783517957379168, 0.0004470716804927723, 0.002682430082956634, 0.03045054890467438, 0.02816551587104466, 0.06219263821966122, 0.011921911479807262], [0.176199660546212, 0.0016355500694337293, 0.006557629995371085, 0.02901558401481253, 0.0014889677518901403, 0.01679524764696806, 0.0665869464588798, 0.00022373090572442523, 0.0017204135164326493, 0.025034716864681377, 0.0031476623977781206, 0.011657151674124363, 0.0053772565962042895, 0.004297176361672581, 0.00031630921154142877, 0.0010106465051689553, 0.011340842462582934, 0.005361826878568122, 0.03372164789384354, 0.0036491282209535564])\n",
      "(array([ True,  True,  True,  True], dtype=bool), [0.013213451890119715, 0.007798917093040584, 0.03045054890467438, 0.011921911479807262], [0.006557629995371085, 0.0017204135164326493, 0.011340842462582934, 0.0036491282209535564])\n"
     ]
    }
   ],
   "source": [
    "# N=3\n",
    "freqs = abstractFreqFlyers(organised, 365, 3)\n",
    "regs = retrieveRegulars(organised, freqs)\n",
    "\n",
    "runCode(freqs, regs)\n",
    "print(runPrescriptions(freqs, regs))\n",
    "print(runPrescriptions(freqs, regs, indicators))"
   ]
  },
  {
   "cell_type": "code",
   "execution_count": 37,
   "metadata": {},
   "outputs": [
    {
     "name": "stdout",
     "output_type": "stream",
     "text": [
      "Models on ETOH and Tobacco\n",
      "[0.0, 0.0, 0.0, 0.0]\n",
      "[0.0, 0.0, 0.0, 0.0]\n",
      "[0.7933889816360601, 0.14447412353923206, 0.8642404006677796, 0.13996661101836394]\n",
      "----------------------\n",
      "Models on ETOH, Tobacco and Diabetes\n",
      "[0.007779632721202003, 0.008380634390651086, 0.008180300500834724, 0.007212020033388981]\n",
      "[0.007779632721202003, 0.008380634390651086, 0.008180300500834724, 0.007212020033388981]\n",
      "[0.7933889816360601, 0.7966611018363939, 0.13575959933222037, 0.13996661101836394]\n",
      "----------------------\n",
      "Models on ETOH, Tobacco, Diabetes and Prescriptions\n",
      "[0.09664128507353709, 0.09121727339105037, 0.09492020444351726, 0.08871388338374883]\n",
      "[0.09664128507353709, 0.09121727339105037, 0.09492020444351726, 0.06216751851465526]\n",
      "[0.8520392197767811, 0.9087827266089497, 0.09492020444351726, 0.08871388338374883]\n",
      "----------------------\n",
      "Models on Prescriptions\n",
      "[0.0, 0.0, 0.0, 0.0]\n",
      "[0.0, 0.0, 0.0, 0.0]\n",
      "[0.03708146448315427, 0.039480546573484925, 0.03655992489829978, 0.03765515802649421]\n",
      "(array([ True,  True,  True,  True,  True,  True,  True, False,  True,\n",
      "        True,  True,  True,  True,  True, False,  True,  True,  True,\n",
      "        True,  True], dtype=bool), [0.21350156475088172, 0.004818439223088769, 0.008345338035865084, 0.045005215836272414, 0.005315185534747404, 0.03045054890467438, 0.08161541900551389, 0.00014902389349759077, 0.0050668123789180865, 0.028016491977547065, 0.007252496150216085, 0.03417614624211415, 0.009736227708509263, 0.013163777258953853, 0.00014902389349759077, 0.0014902389349759077, 0.01977050320401371, 0.021211067507823755, 0.038348815260046694, 0.008345338035865084], [0.176199660546212, 0.0016355500694337293, 0.006557629995371085, 0.02901558401481253, 0.0014889677518901403, 0.01679524764696806, 0.0665869464588798, 0.00022373090572442523, 0.0017204135164326493, 0.025034716864681377, 0.0031476623977781206, 0.011657151674124363, 0.0053772565962042895, 0.004297176361672581, 0.00031630921154142877, 0.0010106465051689553, 0.011340842462582934, 0.005361826878568122, 0.03372164789384354, 0.0036491282209535564])\n",
      "(array([ True,  True,  True,  True], dtype=bool), [0.008345338035865084, 0.0050668123789180865, 0.01977050320401371, 0.008345338035865084], [0.006557629995371085, 0.0017204135164326493, 0.011340842462582934, 0.0036491282209535564])\n"
     ]
    }
   ],
   "source": [
    "# N=4\n",
    "freqs = abstractFreqFlyers(organised, 365, 4)\n",
    "regs = retrieveRegulars(organised, freqs)\n",
    "\n",
    "runCode(freqs, regs)\n",
    "print(runPrescriptions(freqs, regs))\n",
    "print(runPrescriptions(freqs, regs, indicators))"
   ]
  },
  {
   "cell_type": "code",
   "execution_count": 38,
   "metadata": {},
   "outputs": [
    {
     "name": "stdout",
     "output_type": "stream",
     "text": [
      "Models on ETOH and Tobacco\n",
      "[0.0, 0.0, 0.0, 0.0]\n",
      "[0.0, 0.0, 0.0, 0.0]\n",
      "[0.15041736227045074, 0.14664440734557596, 0.1383973288814691, 0.14263772954924875]\n",
      "----------------------\n",
      "Models on ETOH, Tobacco and Diabetes\n",
      "[0.0, 0.0, 0.0, 0.0]\n",
      "[0.0, 0.0, 0.0, 0.0]\n",
      "[0.15041736227045074, 0.8533555926544241, 0.1383973288814691, 0.8573622704507513]\n",
      "----------------------\n",
      "Models on ETOH, Tobacco, Diabetes and Prescriptions\n",
      "[0.01199541045165328, 0.011786794617711484, 0.013455721289245853, 0.010535099614060708]\n",
      "[0.01199541045165328, 0.011786794617711484, 0.013455721289245853, 0.010535099614060708]\n",
      "[0.15135078752477313, 0.14848231980807344, 0.1472827787629081, 0.14415354125378116]\n",
      "----------------------\n",
      "Models on Prescriptions\n",
      "[0.0, 0.0, 0.0, 0.0]\n",
      "[0.0, 0.0, 0.0, 0.0]\n",
      "[0.03744654219255242, 0.04031500990925211, 0.03749869615103786, 0.03775946594346511]\n",
      "(array([False,  True, False,  True,  True,  True, False, False,  True,\n",
      "       False,  True,  True,  True,  True, False,  True,  True,  True,\n",
      "       False,  True], dtype=bool), [0.14420545427450202, 0.003675922706273906, 0.0065570513138939945, 0.030351199642342657, 0.003924295862103224, 0.020813670458496844, 0.05265510903581541, 4.967463116586359e-05, 0.004122994386766678, 0.0188266852118623, 0.005464209428244995, 0.02518503800109284, 0.0067557498385574484, 0.009090457503353038, 9.934926233172718e-05, 0.00124186577914659, 0.01520043713675426, 0.01683969996522776, 0.026774626198400476, 0.0064577020515622675], [0.176199660546212, 0.0016355500694337293, 0.006557629995371085, 0.02901558401481253, 0.0014889677518901403, 0.01679524764696806, 0.0665869464588798, 0.00022373090572442523, 0.0017204135164326493, 0.025034716864681377, 0.0031476623977781206, 0.011657151674124363, 0.0053772565962042895, 0.004297176361672581, 0.00031630921154142877, 0.0010106465051689553, 0.011340842462582934, 0.005361826878568122, 0.03372164789384354, 0.0036491282209535564])\n",
      "(array([False,  True,  True,  True], dtype=bool), [0.0065570513138939945, 0.004122994386766678, 0.01520043713675426, 0.0064577020515622675], [0.006557629995371085, 0.0017204135164326493, 0.011340842462582934, 0.0036491282209535564])\n"
     ]
    }
   ],
   "source": [
    "# N=5\n",
    "freqs = abstractFreqFlyers(organised, 365, 5)\n",
    "regs = retrieveRegulars(organised, freqs)\n",
    "\n",
    "runCode(freqs, regs)\n",
    "print(runPrescriptions(freqs, regs))\n",
    "print(runPrescriptions(freqs, regs, indicators))"
   ]
  },
  {
   "cell_type": "code",
   "execution_count": 39,
   "metadata": {},
   "outputs": [
    {
     "name": "stdout",
     "output_type": "stream",
     "text": [
      "Models on ETOH and Tobacco\n",
      "[0.0, 0.0, 0.0, 0.0]\n",
      "[0.0, 0.0, 0.0, 0.0]\n",
      "[0.15198664440734558, 0.14797996661101837, 0.13913188647746244, 0.1447078464106845]\n",
      "----------------------\n",
      "Models on ETOH, Tobacco and Diabetes\n",
      "[0.0, 0.0, 0.0, 0.0]\n",
      "[0.0, 0.0, 0.0, 0.0]\n",
      "[0.8480133555926544, 0.14797996661101837, 0.8608681135225376, 0.1447078464106845]\n",
      "----------------------\n",
      "Models on ETOH, Tobacco, Diabetes and Prescriptions\n",
      "[0.0038593929279232293, 0.004328778554292271, 0.004746010222175863, 0.003494315218525086]\n",
      "[0.0038593929279232293, 0.004328778554292271, 0.004746010222175863, 0.003494315218525086]\n",
      "[0.8477104412224888, 0.15119432564931679, 0.14853447376655887, 0.1447272347971211]\n",
      "----------------------\n",
      "Models on Prescriptions\n",
      "[0.0, 0.0, 0.0, 0.0]\n",
      "[0.0, 0.0, 0.0, 0.0]\n",
      "[0.038489621362261396, 0.041097319286533845, 0.03812454365286325, 0.9613539167622822]\n",
      "(array([False,  True, False, False,  True, False, False, False,  True,\n",
      "       False,  True,  True, False,  True, False, False, False,  True,\n",
      "       False,  True], dtype=bool), [0.10198201778351795, 0.0028811286076200885, 0.004570066067259451, 0.022303909393472755, 0.00248373155829318, 0.014753365456261488, 0.03591475833291938, 4.967463116586359e-05, 0.0034772241816104516, 0.013759872832944215, 0.004570066067259451, 0.01862798668719885, 0.0051164870100839505, 0.0067557498385574484, 9.934926233172718e-05, 0.0006954448363220903, 0.011176792012319308, 0.013163777258953853, 0.019323431523520937, 0.0051164870100839505], [0.176199660546212, 0.0016355500694337293, 0.006557629995371085, 0.02901558401481253, 0.0014889677518901403, 0.01679524764696806, 0.0665869464588798, 0.00022373090572442523, 0.0017204135164326493, 0.025034716864681377, 0.0031476623977781206, 0.011657151674124363, 0.0053772565962042895, 0.004297176361672581, 0.00031630921154142877, 0.0010106465051689553, 0.011340842462582934, 0.005361826878568122, 0.03372164789384354, 0.0036491282209535564])\n",
      "(array([False,  True, False,  True], dtype=bool), [0.004570066067259451, 0.0034772241816104516, 0.011176792012319308, 0.0051164870100839505], [0.006557629995371085, 0.0017204135164326493, 0.011340842462582934, 0.0036491282209535564])\n"
     ]
    }
   ],
   "source": [
    "# N=6\n",
    "freqs = abstractFreqFlyers(organised, 365, 6)\n",
    "regs = retrieveRegulars(organised, freqs)\n",
    "\n",
    "runCode(freqs, regs)\n",
    "print(runPrescriptions(freqs, regs))\n",
    "print(runPrescriptions(freqs, regs, indicators))"
   ]
  },
  {
   "cell_type": "markdown",
   "metadata": {},
   "source": [
    "# N visits every year consitently\n",
    "\n",
    "Deals with the definition of frequent flyer that specifies a frequent flyer to be someone who consistently comes in more than N times every year"
   ]
  },
  {
   "cell_type": "code",
   "execution_count": 30,
   "metadata": {
    "collapsed": true
   },
   "outputs": [],
   "source": [
    "organisedIndex = organiseCohortDataIndex(cohort[1:])\n",
    "standard = organiseCohortData(cohort[1:])"
   ]
  },
  {
   "cell_type": "code",
   "execution_count": 31,
   "metadata": {
    "collapsed": true
   },
   "outputs": [],
   "source": [
    "def getChronicFrequentFlyers(frequentFlyers):\n",
    "    exists = True\n",
    "    shortest = 300000\n",
    "    lowestYear = None\n",
    "    for key in frequentFlyers:\n",
    "        if len(frequentFlyers[key]) < shortest:\n",
    "            lowestYear = key\n",
    "    \n",
    "    patientDict = frequentFlyers[lowestYear]\n",
    "    chronic = []\n",
    "    for pKey in patientDict:\n",
    "        inAll = True\n",
    "        for year in frequentFlyers.keys():\n",
    "            inAll = inAll and (pKey in frequentFlyers[year])\n",
    "        if (inAll):\n",
    "            chronic.append(pKey)\n",
    "                \n",
    "    return chronic"
   ]
  },
  {
   "cell_type": "code",
   "execution_count": 32,
   "metadata": {},
   "outputs": [
    {
     "name": "stdout",
     "output_type": "stream",
     "text": [
      "Models on ETOH and Tobacco\n",
      "[0.0, 0.0, 0.0, 0.0]\n",
      "[0.0, 0.0, 0.0, 0.0]\n",
      "[0.15736227045075124, 0.1530550918196995, 0.14360601001669449, 0.1485475792988314]\n",
      "----------------------\n",
      "Models on ETOH, Tobacco and Diabetes\n",
      "[0.0, 0.0, 0.0, 0.0]\n",
      "[0.0, 0.0, 0.0, 0.0]\n",
      "[0.15736227045075124, 0.1530550918196995, 0.14360601001669449, 0.8514524207011687]\n",
      "----------------------\n",
      "Models on ETOH, Tobacco, Diabetes and Prescriptions\n",
      "[0.0, 0.0, 0.0, 0.0]\n",
      "[0.0, 0.0, 0.0, 0.0]\n",
      "[0.15922603525607593, 0.8433816626681965, 0.8469281318452071, 0.1477000104307917]\n",
      "----------------------\n",
      "Models on Prescriptions\n",
      "[0.0, 0.0, 0.0, 0.0]\n",
      "[0.0, 0.0, 0.0, 0.0]\n",
      "[0.041410243037446545, 0.04427871075414624, 0.04031500990925211, 0.041097319286533845]\n",
      "(array([False, False, False, False, False, False, False, False, False,\n",
      "       False, False, False, False, False, False, False, False, False,\n",
      "       False, False], dtype=bool), [0.00034772241816104514, 4.967463116586359e-05, 4.967463116586359e-05, 0.00029804778699518155, 4.967463116586359e-05, 4.967463116586359e-05, 9.934926233172718e-05, 0.0, 0.0, 9.934926233172718e-05, 0.0, 9.934926233172718e-05, 0.0, 0.00019869852466345437, 0.0, 0.0, 4.967463116586359e-05, 0.00014902389349759077, 4.967463116586359e-05, 4.967463116586359e-05], [0.176199660546212, 0.0016355500694337293, 0.006557629995371085, 0.02901558401481253, 0.0014889677518901403, 0.01679524764696806, 0.0665869464588798, 0.00022373090572442523, 0.0017204135164326493, 0.025034716864681377, 0.0031476623977781206, 0.011657151674124363, 0.0053772565962042895, 0.004297176361672581, 0.00031630921154142877, 0.0010106465051689553, 0.011340842462582934, 0.005361826878568122, 0.03372164789384354, 0.0036491282209535564])\n",
      "(array([False, False, False, False], dtype=bool), [4.967463116586359e-05, 0.0, 4.967463116586359e-05, 4.967463116586359e-05], [0.006557629995371085, 0.0017204135164326493, 0.011340842462582934, 0.0036491282209535564])\n"
     ]
    }
   ],
   "source": [
    "frequentsBase = getChronicFrequentFlyers(getFrequentFlyersExtended(organisedIndex, visits=3))\n",
    "regularsBase = retrieveRegulars(standard, frequentsBase)\n",
    "\n",
    "runCode(frequentsBase, regularsBase)\n",
    "print(runPrescriptions(frequentsBase, regularsBase))\n",
    "print(runPrescriptions(frequentsBase, regularsBase, indicators))"
   ]
  },
  {
   "cell_type": "code",
   "execution_count": 33,
   "metadata": {},
   "outputs": [
    {
     "name": "stdout",
     "output_type": "stream",
     "text": [
      "Models on ETOH and Tobacco\n",
      "[0.0, 0.0, 0.0, 0.0]\n",
      "[0.0, 0.0, 0.0, 0.0]\n",
      "[0.1573288814691152, 0.1530550918196995, 0.14360601001669449, 0.1485475792988314]\n",
      "----------------------\n",
      "Models on ETOH, Tobacco and Diabetes\n",
      "[0.0, 0.0, 0.0, 0.0]\n",
      "[0.0, 0.0, 0.0, 0.0]\n",
      "[0.1573288814691152, 0.8469449081803005, 0.14360601001669449, 0.1485475792988314]\n",
      "----------------------\n",
      "Models on ETOH, Tobacco, Diabetes and Prescriptions\n",
      "[0.0, 0.0, 0.0, 0.0]\n",
      "[0.0, 0.0, 0.0, 0.0]\n",
      "[0.1591738812975905, 0.1566183373318035, 0.15307186815479296, 0.14775216438927716]\n",
      "----------------------\n",
      "Models on Prescriptions\n",
      "[0.0, 0.0, 0.0, 0.0]\n",
      "[0.0, 0.0, 0.0, 0.0]\n",
      "[0.041410243037446545, 0.04427871075414624, 0.04031500990925211, 0.041097319286533845]\n",
      "(array([False, False, False, False, False, False, False, False, False,\n",
      "       False, False, False, False, False, False, False, False, False,\n",
      "       False, False], dtype=bool), [0.00019869852466345437, 4.967463116586359e-05, 4.967463116586359e-05, 0.00019869852466345437, 4.967463116586359e-05, 0.0, 9.934926233172718e-05, 0.0, 0.0, 0.0, 0.0, 9.934926233172718e-05, 0.0, 9.934926233172718e-05, 0.0, 0.0, 4.967463116586359e-05, 4.967463116586359e-05, 4.967463116586359e-05, 4.967463116586359e-05], [0.176199660546212, 0.0016355500694337293, 0.006557629995371085, 0.02901558401481253, 0.0014889677518901403, 0.01679524764696806, 0.0665869464588798, 0.00022373090572442523, 0.0017204135164326493, 0.025034716864681377, 0.0031476623977781206, 0.011657151674124363, 0.0053772565962042895, 0.004297176361672581, 0.00031630921154142877, 0.0010106465051689553, 0.011340842462582934, 0.005361826878568122, 0.03372164789384354, 0.0036491282209535564])\n",
      "(array([False, False, False, False], dtype=bool), [4.967463116586359e-05, 0.0, 4.967463116586359e-05, 4.967463116586359e-05], [0.006557629995371085, 0.0017204135164326493, 0.011340842462582934, 0.0036491282209535564])\n"
     ]
    }
   ],
   "source": [
    "frequentsBase = getChronicFrequentFlyers(getFrequentFlyersExtended(organisedIndex, visits=4))\n",
    "regularsBase = retrieveRegulars(standard, frequentsBase)\n",
    "\n",
    "runCode(frequentsBase, regularsBase)\n",
    "print(runPrescriptions(frequentsBase, regularsBase))\n",
    "print(runPrescriptions(frequentsBase, regularsBase, indicators))"
   ]
  },
  {
   "cell_type": "code",
   "execution_count": 34,
   "metadata": {},
   "outputs": [
    {
     "name": "stdout",
     "output_type": "stream",
     "text": [
      "Models on ETOH and Tobacco\n",
      "[0.0, 0.0, 0.0, 0.0]\n",
      "[0.0, 0.0, 0.0, 0.0]\n",
      "[0.15736227045075124, 0.15302170283806343, 0.14360601001669449, 0.14858096828046743]\n",
      "----------------------\n",
      "Models on ETOH, Tobacco and Diabetes\n",
      "[0.0, 0.0, 0.0, 0.0]\n",
      "[0.0, 0.0, 0.0, 0.0]\n",
      "[0.15736227045075124, 0.15302170283806343, 0.8563939899833055, 0.14858096828046743]\n",
      "----------------------\n",
      "Models on ETOH, Tobacco, Diabetes and Prescriptions\n",
      "[0.0, 0.0, 0.0, 0.0]\n",
      "[0.0, 0.0, 0.0, 0.0]\n",
      "[0.1591738812975905, 0.1566183373318035, 0.15307186815479296, 0.8522478356107228]\n",
      "----------------------\n",
      "Models on Prescriptions\n",
      "[0.0, 0.0, 0.0, 0.0]\n",
      "[0.0, 0.0, 0.0, 0.0]\n",
      "[0.041410243037446545, 0.04427871075414624, 0.04031500990925211, 0.041149473245019295]\n",
      "(array([False, False, False, False, False, False, False, False, False,\n",
      "       False, False, False, False, False, False, False, False, False,\n",
      "       False, False], dtype=bool), [9.934926233172718e-05, 0.0, 0.0, 9.934926233172718e-05, 4.967463116586359e-05, 0.0, 4.967463116586359e-05, 0.0, 0.0, 0.0, 0.0, 9.934926233172718e-05, 0.0, 0.0, 0.0, 0.0, 0.0, 0.0, 4.967463116586359e-05, 0.0], [0.176199660546212, 0.0016355500694337293, 0.006557629995371085, 0.02901558401481253, 0.0014889677518901403, 0.01679524764696806, 0.0665869464588798, 0.00022373090572442523, 0.0017204135164326493, 0.025034716864681377, 0.0031476623977781206, 0.011657151674124363, 0.0053772565962042895, 0.004297176361672581, 0.00031630921154142877, 0.0010106465051689553, 0.011340842462582934, 0.005361826878568122, 0.03372164789384354, 0.0036491282209535564])\n",
      "(array([False, False, False, False], dtype=bool), [0.0, 0.0, 0.0, 0.0], [0.006557629995371085, 0.0017204135164326493, 0.011340842462582934, 0.0036491282209535564])\n"
     ]
    }
   ],
   "source": [
    "frequentsBase = getChronicFrequentFlyers(getFrequentFlyersExtended(organisedIndex, visits=5))\n",
    "\n",
    "regularsBase = retrieveRegulars(standard, frequentsBase)\n",
    "\n",
    "runCode(frequentsBase, regularsBase)\n",
    "print(runPrescriptions(frequentsBase, regularsBase))\n",
    "print(runPrescriptions(frequentsBase, regularsBase, indicators))"
   ]
  },
  {
   "cell_type": "markdown",
   "metadata": {},
   "source": [
    "# Returned within 28 days ever\n",
    "\n",
    "Defines a frequent flyer to be anyone who has returned 28 days within their discharge period"
   ]
  },
  {
   "cell_type": "code",
   "execution_count": 29,
   "metadata": {},
   "outputs": [
    {
     "name": "stdout",
     "output_type": "stream",
     "text": [
      "Models on ETOH and Tobacco\n",
      "[0.08814691151919866, 0.08457429048414024, 0.08517529215358932, 0.08330550918196995]\n",
      "[0.08814691151919866, 0.08457429048414024, 0.08517529215358932, 0.08330550918196995]\n",
      "[0.08814691151919866, 0.08457429048414024, 0.08517529215358932, 0.91669449081803]\n",
      "----------------------\n",
      "Models on ETOH, Tobacco and Diabetes\n",
      "[0.08814691151919866, 0.08457429048414024, 0.08517529215358932, 0.08330550918196995]\n",
      "[0.08814691151919866, 0.08457429048414024, 0.08517529215358932, 0.08330550918196995]\n",
      "[0.08814691151919866, 0.08457429048414024, 0.08517529215358932, 0.08330550918196995]\n",
      "----------------------\n",
      "Models on ETOH, Tobacco, Diabetes and Prescriptions\n",
      "[1.0, 0.08855742150829247, 0.08772295817252529, 0.08579326170856368, 0.08318556378429123]\n",
      "[1.0, 0.08855742150829247, 0.08772295817252529, 0.08579326170856368, 0.08318556378429123]\n",
      "[0.7331803483884427, 0.08855742150829247, 0.08772295817252529, 0.9142067382914363, 0.08318556378429123]\n",
      "----------------------\n",
      "Models on Prescriptions\n",
      "[1.0, 0.049911338270574736, 0.0, 0.0, 0.0]\n",
      "[1.0, 0.049911338270574736, 0.0, 0.0, 0.0]\n",
      "[0.9323563158443726, 0.08276833211640763, 0.03645561698132888, 0.036872848649212475, 0.035203921977678104]\n",
      "(array([ True,  True,  True,  True,  True,  True,  True, False,  True,\n",
      "        True,  True,  True,  True,  True,  True,  True,  True,  True,\n",
      "        True,  True], dtype=bool), [0.40450052158362726, 0.006408027420396404, 0.014753365456261488, 0.07227658834633152, 0.006855099100889176, 0.05230738661765436, 0.15170632358054742, 9.934926233172718e-05, 0.007401520043713675, 0.049823655059361184, 0.011226466643485172, 0.05310218071630818, 0.015001738612090806, 0.020217574884506484, 0.00039739704932690873, 0.00317917639461527, 0.03338135214346034, 0.030500223535840247, 0.06532213998311062, 0.013362475783617307], [0.176199660546212, 0.0016355500694337293, 0.006557629995371085, 0.02901558401481253, 0.0014889677518901403, 0.01679524764696806, 0.0665869464588798, 0.00022373090572442523, 0.0017204135164326493, 0.025034716864681377, 0.0031476623977781206, 0.011657151674124363, 0.0053772565962042895, 0.004297176361672581, 0.00031630921154142877, 0.0010106465051689553, 0.011340842462582934, 0.005361826878568122, 0.03372164789384354, 0.0036491282209535564])\n",
      "(array([ True,  True,  True,  True], dtype=bool), [0.014753365456261488, 0.007401520043713675, 0.03338135214346034, 0.013362475783617307], [0.006557629995371085, 0.0017204135164326493, 0.011340842462582934, 0.0036491282209535564])\n"
     ]
    }
   ],
   "source": [
    "organised = organiseCohortData(cohort[1:])\n",
    "\n",
    "freqs28days = abstractFreqFlyers(organised, 28, 2)\n",
    "regs28days = retrieveRegulars(organised, freqs28days)\n",
    "\n",
    "runCode(freqs28days, regs28days)\n",
    "print(runPrescriptions(freqs28days, regs28days))\n",
    "print(runPrescriptions(freqs28days, regs28days, indicators))"
   ]
  },
  {
   "cell_type": "code",
   "execution_count": null,
   "metadata": {
    "collapsed": true
   },
   "outputs": [],
   "source": []
  }
 ],
 "metadata": {
  "kernelspec": {
   "display_name": "Python 3",
   "language": "python",
   "name": "python3"
  },
  "language_info": {
   "codemirror_mode": {
    "name": "ipython",
    "version": 3
   },
   "file_extension": ".py",
   "mimetype": "text/x-python",
   "name": "python",
   "nbconvert_exporter": "python",
   "pygments_lexer": "ipython3",
   "version": "3.6.3"
  }
 },
 "nbformat": 4,
 "nbformat_minor": 2
}
