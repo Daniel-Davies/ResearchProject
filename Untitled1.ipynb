{
 "cells": [
  {
   "cell_type": "code",
   "execution_count": 21,
   "metadata": {
    "collapsed": true
   },
   "outputs": [],
   "source": [
    "%matplotlib inline\n",
    "# notebook\n",
    "import matplotlib.pylab as pylab\n",
    "import sklearn\n",
    "import matplotlib.pyplot as plt\n",
    "from sklearn.model_selection import KFold\n",
    "from sklearn.linear_model import LogisticRegression\n",
    "from sklearn.neighbors import KNeighborsClassifier\n",
    "from sklearn import svm\n",
    "from sklearn.cluster import KMeans\n",
    "\n",
    "\n",
    "#make the graphs bigger\n",
    "pylab.rcParams['figure.figsize'] = (32.0, 24.0)\n",
    "pylab.rcParams['font.size'] = 24"
   ]
  },
  {
   "cell_type": "code",
   "execution_count": 2,
   "metadata": {
    "collapsed": true
   },
   "outputs": [],
   "source": [
    "cohort = []\n",
    "ETOH = []\n",
    "hw = []\n",
    "labOrders = []\n",
    "medOrders = []\n",
    "prescriptions = []\n",
    "radiology = []\n",
    "tobacco = []\n",
    "vitals = []"
   ]
  },
  {
   "cell_type": "code",
   "execution_count": 3,
   "metadata": {
    "collapsed": true
   },
   "outputs": [],
   "source": [
    "def fileToList(fname):\n",
    "    dataArray = []\n",
    "    with open(fname) as f:\n",
    "        for line in f:\n",
    "            new = line.strip()\n",
    "            new = new[1:len(new) - 1]\n",
    "            new = new.split('\",\"')\n",
    "            if (len(new) > 1):\n",
    "                dataArray.append(new)\n",
    "    return dataArray"
   ]
  },
  {
   "cell_type": "code",
   "execution_count": 4,
   "metadata": {
    "collapsed": true
   },
   "outputs": [],
   "source": [
    "def fileToDict(fname):\n",
    "    dataDict = dict()\n",
    "    with open(fname) as f:\n",
    "        for line in f:\n",
    "            new = line.strip()\n",
    "            new = new[1:len(new) - 1]\n",
    "            new = new.split('\",\"')\n",
    "            if (len(new) > 1):\n",
    "                if not(new[0] in dataDict):\n",
    "                    dataDict[new[0]] = [new]\n",
    "                else:\n",
    "                    dataDict[new[0]].append(new)\n",
    "    return dataDict"
   ]
  },
  {
   "cell_type": "code",
   "execution_count": 5,
   "metadata": {
    "collapsed": true
   },
   "outputs": [],
   "source": [
    "fname = \"2018-4169_Cohort.txt\"\n",
    "cohort = fileToList(fname)\n",
    "\n",
    "fname = \"2018-4169_ETOH_Use.txt\"\n",
    "ETOH = fileToDict(fname)\n",
    "\n",
    "fname = \"2018-4169_Height_Weight.txt\"\n",
    "hw = fileToDict(fname)\n",
    "\n",
    "fname = \"2018-4169_Lab_Orders_Performed.txt\"\n",
    "labOrders = fileToDict(fname)\n"
   ]
  },
  {
   "cell_type": "code",
   "execution_count": 6,
   "metadata": {
    "collapsed": true
   },
   "outputs": [],
   "source": [
    "fname = \"2018-4169_Med_Orders.txt\"\n",
    "medOrders = fileToDict(fname)\n",
    "\n",
    "fname = \"2018-4169_Prescriptions.txt\"\n",
    "prescriptions = fileToList(fname)"
   ]
  },
  {
   "cell_type": "code",
   "execution_count": 7,
   "metadata": {
    "collapsed": true
   },
   "outputs": [],
   "source": [
    "fname = \"2018-4169_Tobacco_Use.txt\"\n",
    "tobacco = fileToDict(fname)"
   ]
  },
  {
   "cell_type": "code",
   "execution_count": 8,
   "metadata": {
    "collapsed": true
   },
   "outputs": [],
   "source": [
    "fname = \"2018-4169_ETOH_Use.txt\"\n",
    "ETOHList = fileToList(fname)"
   ]
  },
  {
   "cell_type": "code",
   "execution_count": 9,
   "metadata": {
    "collapsed": true
   },
   "outputs": [],
   "source": [
    "tobList = fileToList(fname)"
   ]
  },
  {
   "cell_type": "code",
   "execution_count": 10,
   "metadata": {
    "collapsed": true
   },
   "outputs": [],
   "source": [
    "import collections\n",
    "\n",
    "#returns a dict of dicts of lists\n",
    "#dict of years\n",
    " #dict of patients\n",
    "  #list of admissions\n",
    "def organiseCohortData(myCohort):\n",
    "    organised = dict()\n",
    "    for admission in myCohort:\n",
    "        year = admission[8][0:4]\n",
    "        if year in organised:\n",
    "            entry = organised[year]\n",
    "            if admission[0] in entry:\n",
    "                organised[year][admission[0]].append(admission[1:])\n",
    "            else:\n",
    "                organised[year][admission[0]] = [admission[1:]]\n",
    "        else:\n",
    "            patientData = dict()\n",
    "            patientData[admission[0]] = [admission[1:]]\n",
    "            organised[year] = patientData\n",
    "    return organised\n",
    "    "
   ]
  },
  {
   "cell_type": "code",
   "execution_count": 11,
   "metadata": {
    "collapsed": true
   },
   "outputs": [],
   "source": [
    "def getFrequentFlyersBase(dataDict, year=None):\n",
    "    if (year == None):\n",
    "        freqDict = dict()\n",
    "        for key in dataDict:\n",
    "            freqDict[key] = []\n",
    "            patientDict = dataDict[key]\n",
    "            for pKey in patientDict:\n",
    "                if len(patientDict[pKey]) > 4:\n",
    "                    freqDict[key].append(pKey)\n",
    "        return freqDict\n",
    "    else:\n",
    "        freqDict= dict()\n",
    "        if (year in dataDict):\n",
    "            patientDict = dataDict[year]\n",
    "            for pKey in patientDict:\n",
    "                if len(patientDict[pKey]) > 4:\n",
    "                    freqDict[key].append(pKey)\n",
    "            return freqDict\n",
    "        else:\n",
    "            return dict()"
   ]
  },
  {
   "cell_type": "code",
   "execution_count": 12,
   "metadata": {
    "collapsed": true
   },
   "outputs": [],
   "source": [
    "from copy import copy,deepcopy\n",
    "\n",
    "def getNonFrequentFlyersBase(cohortDict, frequentFlyerDict):\n",
    "    regular = dict()\n",
    "    for year in cohortDict:\n",
    "        regular[year] = dict()\n",
    "        patList = cohortDict[year]\n",
    "        for pKey in patList:\n",
    "            if not(pKey in frequentFlyerDict[year]):\n",
    "                regular[year][pKey] = cohortDict[year][pKey]\n",
    "    return regular"
   ]
  },
  {
   "cell_type": "code",
   "execution_count": 13,
   "metadata": {
    "collapsed": true
   },
   "outputs": [],
   "source": [
    "organised = organiseCohortData(cohort[1:])\n",
    "frequentsBase = getFrequentFlyersBase(organised)\n",
    "regularsBase = getNonFrequentFlyersBase(organised, frequentsBase)"
   ]
  },
  {
   "cell_type": "code",
   "execution_count": 14,
   "metadata": {
    "collapsed": true
   },
   "outputs": [],
   "source": [
    "def isBadSmoking(res):\n",
    "    if (res == \"current every day smoker\" or res == \"current some day smoker\" or res == \"current every day\" or res==\"heavy tobacco smoker\"):\n",
    "        return 1\n",
    "    else:\n",
    "        return 0\n",
    "    \n",
    "def isBad(cat,res):\n",
    "    if (cat == \"Number of Standard Drinks on a Typical Day\"):\n",
    "        if (res == \"10 or more\" or res == \"7 to 9\"):\n",
    "            return 1\n",
    "        else:\n",
    "            return 0\n",
    "    elif (cat == \"Alcohol Treatment Offered\"):\n",
    "        if (res == \"yes\"):\n",
    "            return 1\n",
    "        else:\n",
    "            return 0\n",
    "    elif (cat == \"Excessive Alcohol and Drug Use\"):\n",
    "        if (res == \"yes\"):\n",
    "            return 1\n",
    "        else:\n",
    "            return 0\n",
    "    elif (cat == \"10.Has a Relative, Friend, Doctor, or Other Health Professional Expressed Concern About Your Drinking or Suggested You Cut Down\"):\n",
    "        if (res == \"(2) Yes, during the last year\"):\n",
    "            return 1\n",
    "        else:\n",
    "            return 0\n",
    "    \n",
    "    return 0\n",
    "\n",
    "def frequentsArray(frequents):\n",
    "    patListFreqs = []\n",
    "    smokesHeavyFreqs = []\n",
    "    ETOHHeavyFreqs = []\n",
    "    patientBase = []\n",
    "    \n",
    "    for k in frequents.keys():\n",
    "        patListFreqs = patListFreqs + frequents[k]\n",
    "        for p in patListFreqs:\n",
    "            patientBase.append(1)\n",
    "            if p in ETOH:\n",
    "                entry = ETOH[p]\n",
    "                drinkFreq = isBad(entry[0][4], entry[0][5])\n",
    "                ETOHHeavyFreqs.append(drinkFreq)\n",
    "            else:\n",
    "                ETOHHeavyFreqs.append(0)\n",
    "            \n",
    "            if p in tobacco:\n",
    "                entry = tobacco[p]\n",
    "                smokingFreq = isBadSmoking(entry[0][2])\n",
    "                smokesHeavyFreqs.append(smokingFreq)\n",
    "            else:\n",
    "                smokesHeavyFreqs.append(0)\n",
    "    return (patientBase, ETOHHeavyFreqs, smokesHeavyFreqs)"
   ]
  },
  {
   "cell_type": "code",
   "execution_count": 15,
   "metadata": {
    "collapsed": true
   },
   "outputs": [],
   "source": [
    "def regsArray(regulars):\n",
    "    patListRegs = []\n",
    "    smokesHeavyRegs = []\n",
    "    ETOHHeavyRegs = []\n",
    "    patientBase = []\n",
    "\n",
    "    for k in regulars.keys():\n",
    "        patListRegs = patListRegs + list(regulars[k].keys())\n",
    "\n",
    "    for p in patListRegs:\n",
    "        patientBase.append(0)\n",
    "\n",
    "        if p in ETOH:\n",
    "            entry = ETOH[p]\n",
    "            drinkFreq = isBad(entry[0][4], entry[0][5])\n",
    "            ETOHHeavyRegs.append(drinkFreq)\n",
    "        else:\n",
    "            ETOHHeavyRegs.append(0)\n",
    "        \n",
    "        if p in tobacco:\n",
    "            entry = tobacco[p]\n",
    "            smokingFreq = isBadSmoking(entry[0][2])\n",
    "            smokesHeavyRegs.append(smokingFreq)\n",
    "        else:\n",
    "            smokesHeavyRegs.append(0)\n",
    "    \n",
    "    return (patientBase, ETOHHeavyRegs, smokesHeavyRegs)"
   ]
  },
  {
   "cell_type": "code",
   "execution_count": 22,
   "metadata": {},
   "outputs": [
    {
     "name": "stdout",
     "output_type": "stream",
     "text": [
      "198728\n",
      "198728\n",
      "198728\n"
     ]
    }
   ],
   "source": [
    "patBase1, ETOHHeavyFreqs, smokesHeavyFreqs = frequentsArray(frequentsBase)\n",
    "patBase2, ETOHHeavyRegs, smokesHeavyRegs = regsArray(regularsBase)\n",
    "\n",
    "patientBase = patBase1 + patBase2\n",
    "totalSmokes = smokesHeavyFreqs + smokesHeavyRegs\n",
    "ETOHTotal = ETOHHeavyFreqs + ETOHHeavyRegs\n",
    "\n",
    "print(len(patientBase))\n",
    "print(len(totalSmokes))\n",
    "print(len(ETOHTotal))"
   ]
  },
  {
   "cell_type": "code",
   "execution_count": 17,
   "metadata": {},
   "outputs": [
    {
     "name": "stdout",
     "output_type": "stream",
     "text": [
      "Counter({'ED Primary Assessment': 18591, 'Emergency Physician Treatment Record': 16961, 'Patient Profile': 4410, 'Consultation, Initial-Psychiatry': 1330, 'CSW Psychosocial Assessment Note-Initial': 852, 'H&P-Primary-Med: General': 693, 'CSW Psychosocial Assessment Note-Initial, Verbal/Paged Consu': 691, 'H&P Note-Primary: Med: General': 631, 'Consultation, Initial-Orthopaedics': 328, 'Consultation, Initial-Neurology': 277, 'H&P Note-Primary: Psychiatry': 236, 'H&P Note-Consulting: Psychiatry': 209, 'Consultation, Initial-Neurosurgery': 199, 'Consultation, Initial-Surg: General/Acute': 182, 'H&P-Primary-Family Medicine': 169, 'Consultation, Initial-Ophthalmology': 157, 'Consultation, Initial-Med: Palliative Care': 128, 'CSW Psychosocial Assessment Note-Progress, Verbal/Paged Cons': 118, 'Consultation, Initial-Med: Gastroenterology': 114, 'H&P Note-Consulting: Neurology': 108, 'Consultation, Initial-Med: Cardiology': 104, 'H&P Note-Consulting: Orthopaedics': 98, 'Consultation, Initial-Surg: Trauma/Burn': 98, 'Consultation, Initial-OB/GYN: General': 92, 'Consultation, Initial-Surg: Plastic': 92, 'Student H&P-Primary: Med: General': 90, 'Consultation, Initial-ENT: General': 82, 'Patient Profile-Psych': 74, 'H&P Note-Primary: Family Medicine': 70, 'Medical Student H&P-Primary: Med: General': 69, 'H&P Note-Consulting: Neurosurgery': 65, 'Consultation, Initial-Surg: Colorectal': 55, 'H&P-Primary-Psychiatry': 54, 'CSW Psychosocial Assessment Note-Verbal/Paged Consult': 54, 'CSW Psychosocial Assessment Note-Progress': 50, 'H&P Note-Consulting: Med: Cardiology': 49, 'H&P Note-Consulting: Surg: General/Acute': 49, 'H&P Note-Consulting: ENT: General': 49, 'H&P-Primary-Med: Cardiology': 47, 'H&P Note-Consulting: Med: Gastroenterology': 45, 'Consultation, Initial-Surg: Vascular': 45, 'Consultation, Initial-Surg: Emergency General': 45, 'Consultation, Initial-Med: Hematology Oncology': 40, 'H&P Note-Consulting: Med: Infectious Disease': 38, 'H&P Note-Consulting: Med: Palliative Care': 37, 'H&P Note-Consulting: OB/GYN: General': 35, 'Emergency Physician Treatment Record.-Emergency Physician Tr': 32, 'H&P-Primary-Neurology': 32, 'H&P Note-Primary: Med: Cardiology': 32, 'Consultation, Initial-Surg: Cardiothoracic': 31, 'H&P Note-Primary: Neurology': 31, 'Consultation, Initial-Med: Nephrology': 31, 'Consultation, Initial-Physical Med/Rehabilitation': 31, 'Medical Student H&P-Primary: Emergency Medicine': 30, 'Consultation, Initial-Surg: Hepatobiliary/Pancreas': 29, 'Consultation, Initial-Surg: Bariatric/GI': 29, 'Consultation, Initial-Med: Infectious Disease': 28, 'H&P Note-Consulting: Med: Hematology Oncology': 26, 'Medical Student H&P-Consulting: Psychiatry': 26, 'Consultation, Initial-Urology': 25, 'H&P Note-Hospital Medicine': 24, 'H&P Note-Consulting: Surg: Trauma/Burn': 24, 'H&P Note-Consulting: Surg: Vascular': 23, 'Consultation, Initial-Med: Rheumatology': 21, 'H&P Note-Consulting: Med: Rheumatology': 20, 'Student H&P-Primary: Family Medicine': 20, 'H&P Note-Consulting: Dermatology': 20, 'H&P Note-Primary: Med: Pulmonology/Critical Care': 19, 'H&P Note-Consulting: Physical Med/Rehabilitation': 19, 'Consultation, Initial-Anesthesiology: PainManagement': 18, 'H&P-Primary-Hospital Medicine': 18, 'CSW Psychosocial Assessment Note-Initial, Progress': 18, 'H&P-Primary-OB/GYN: General': 17, 'Consultation, Initial-Hospital Medicine': 16, 'Medical Student H&P-Primary: Family Medicine': 15, 'H&P Note-Primary: Hospital Medicine': 15, 'H&P-Primary-Surg: Trauma/Burn': 14, 'Consultation, Initial-Dermatology': 14, 'H&P-Primary-Med: Pulmonology/Critical Care': 14, 'H&P Note-Consulting: Hospital Medicine': 14, 'H&P Note-Consulting: Surg: Cardiothoracic': 13, 'H&P Note-Primary: Orthopaedics': 13, 'CSW Psychosocial Assessment Note-Initial, Progress, Verbal/P': 13, 'Patient Profile-OB': 12, 'H&P Note-Primary: Med: Primary Care': 11, 'Medical Student H&P-Consulting: Med: Palliative Care': 11, 'H&P Note-Primary: Surg: General/Acute': 11, 'H&P Note-Primary: Surg: Colorectal': 11, 'H&P Note-Consulting: Surg: Hepatobiliary/Pancreas': 10, 'Consultation, Initial-Radiation Oncology': 9, 'H&P Note-Consulting: Surg: Colorectal': 9, 'H&P Note-Primary: OB/GYN: General': 8, 'Consultation, Initial-OB/GYN: Oncology': 8, 'H&P-Primary-Surg: General/Acute': 8, 'H&P Note-Consulting: Urology': 8, 'Consultation, Initial-Med: Basic/Clinical Immunology': 8, 'Consultation, Initial-Med: General': 8, 'H&P Note-Consulting: Surg: Transplantation': 7, 'Consultation, Initial-Surg: Transplantation': 7, 'H&P-Primary-Med: Primary Care': 7, 'H&P Note-Consulting: OB/GYN: Oncology': 7, 'Consultation, Initial-Med: Endocrinology': 7, 'H&P-Primary-Surg: Vascular': 7, 'H&P-Primary-Urology': 7, 'ATS Evaluation and Assessment-PSYCH': 7, 'Social Work Psychosocial Assessment-PSYCH': 7, 'Consultation, Initial-Surg: Oncology': 7, 'Emergency Student Treatment Record': 6, 'Consultation, Initial-Hepatology': 6, 'H&P-Primary-Anesthesiology': 6, 'H&P-Primary-Surg: Colorectal': 6, 'H&P-Primary-Dermatology': 6, 'Consultation, Initial.-Consultation, Initial-Neurology': 5, 'Consultation, Initial-Med: Pulmonology/Critical Care': 5, 'Consultation, Initial.-Consultation, Initial-Ophthalmology': 5, 'Medical Student H&P-Consulting: Neurology': 5, 'H&P Note-Consulting: Med: Endocrinology': 5, 'Consultation, Initial-Radiology': 4, 'H&P Note-Primary: Surg: Vascular': 4, 'Student H&P-Primary: Neurology': 4, 'H&P Note-Consulting: Med: Nephrology': 4, 'H&P-Primary-Peds: Neurology': 4, 'H&P Note-Consulting: Surg: Oncology': 4, 'H&P Note-Primary: Surg: Trauma/Burn': 4, 'Consultation, Initial-Med: Hematology': 4, 'Consultation, Initial-OB/GYN: Reproductive Endocrin': 4, 'H&P Note-Primary: Surg: Hepatobiliary/Pancreas': 4, 'Consultation, Initial-Anesthesiology': 4, 'H&P-Primary-Orthopaedics': 4, 'H&P Note-Primary: Surg: Cardiothoracic': 4, 'H&P Note-Primary: Neurosurgery': 3, 'Student H&P-Consulting: Med: Gastroenterology': 3, 'H&P Note-Primary: ENT: General': 3, 'H&P-Primary-Neurosurgery': 3, 'H&P-Primary-Surg: Plastic': 3, 'H&P Note-Consulting: Peds: Neurology': 3, 'H&P-Primary-Surg: Bariatric/GI': 3, 'Student H&P-Consulting: Orthopaedics': 3, 'H&P-Primary-ENT: General': 3, 'Medical Student H&P-Primary: Med: Primary Care': 3, 'Consultation, Initial.-Consultation, Initial-Surg: General/A': 3, 'Consultation, Initial-Pathology': 3, 'Consultation, Initial-Med: Geriatrics': 3, 'Student H&P-Consulting: Psychiatry': 3, 'H&P Note-Primary: Surg: Bariatric/GI': 3, 'Consultation, Initial.-Med: Palliative Care': 2, 'Medical Student H&P-Consulting: Med: Nephrology': 2, 'H&P Note-Primary: Nuclear Cardiology': 2, 'H&P Note-Consulting: Surg: Bariatric/GI': 2, 'Consultation, Initial.-Consultation, Initial-Surg: Plastic': 2, 'OB Nursing Triage': 2, 'H&P Note-ENT: General': 2, 'H&P-Primary-Surg: Emergency General': 2, 'Consultation, Initial-Interventional Radiology': 2, 'Student H&P-Consulting: Surg: Trauma/Burn': 2, 'Consultation, Initial-Surg: Urology': 2, 'H&P-Primary-Pre-OP: Surg: Trauma/Burn': 2, 'H&P Note-Primary: Med: Hematology Oncology': 2, 'Consultation, Initial.-Consultation, Initial-Surg: Vascular': 2, 'Student H&P-Primary: Emergency Medicine': 2, 'Consultation, Initial.-Consultation, Initial-Urology': 2, 'Consultation, Initial.-Consultation, Initial-ENT: General': 2, 'H&P Note-Consulting: Med: General': 2, 'Medical Student H&P-Consulting: Surg: Colorectal': 2, 'Consultation, Initial': 2, 'Medical Student H&P-Primary: Neurology': 2, 'H&P Note-Consulting: Med: Geriatrics': 2, 'H&P-Primary-Med: Hematology Oncology': 2, 'Consultation, Initial-Path: Transfusion/Apheresis': 2, 'Consultation, Initial.-Consultation, Initial-Surg: Trauma/Bu': 2, 'H&P Note-Med: Palliative Care': 2, 'Student H&P-Primary: Hospital Medicine': 2, 'Consultation, Initial-Med: Oncology': 2, 'Consultation, Initial-Med: Primary Care': 2, 'H&P Note-Psychiatry': 2, 'Student H&P-Consulting: Neurology': 2, 'DocumentName': 1, 'Consultation, Initial-OB/GYN: Primary': 1, 'H&P Note-Consulting: Anesthesiology: PainManagement': 1, 'Consultation, Initial-Family Medicine': 1, 'Consultation, Initial-Peds: Ophthalmology': 1, 'Consultation, Initial.-Neurology': 1, 'H&P Note-Consulting: Family Medicine': 1, 'H&P Note-Consulting: Surg: Plastic': 1, 'Medical Student H&P-Consulting: OB/GYN: General': 1, 'H&P-Primary-Ophthalmology': 1, 'Student H&P-Primary: Surg: Vascular': 1, 'Consultation, Initial.-Consultation, Initial-Psychiatry': 1, 'Consultation, Initial.-Consultation, Initial-Med: Gastroente': 1, 'H&P Note-Primary: Urology': 1})\n"
     ]
    }
   ],
   "source": [
    "from collections import Counter\n",
    "justCol3 = [item[2] for item in tobList]\n",
    "\n",
    "print(Counter(justCol3))"
   ]
  },
  {
   "cell_type": "code",
   "execution_count": 19,
   "metadata": {},
   "outputs": [
    {
     "name": "stdout",
     "output_type": "stream",
     "text": [
      "Counter({'Number of Standard Drinks on a Typical Day': 27411, 'Frequency of 6 or More Drinks on One Occasion': 17654, 'Alcohol Last Used': 1798, 'Past Alcohol Use': 1206, 'Alcohol Treatment Offered': 794, 'Excessive Alcohol and Drug Use': 339, '10.Has a Relative, Friend, Doctor, or Other Health Professional Expressed Concern About Your Drinking or Suggested You Cut Down': 8, '9.Have You or Someone Else Been Injured as a Result of Your Drinking': 8, '1.How Often Do You Have a Drink': 8, '6.How Often During The Last Year Have You Been Unable to Remember What Happened The Night Before Because You Had Been Drinking': 4, '8.How Often During The last Year Have You Had a Feeling of Guilt or Remorse After Drinking': 4, '2.How Many Drinks Containing Alcohol Do You Have On a Typical Day When You Are Drinking': 4, '3.How Often Do You Have Six or More Drinks On One Occasion': 4, '4.How Often During The Last year Have You Found That You Were Not Able to Stop Drinking Once You Had Started': 4, '5.How Often During The Last Year Have You Failed to Do What Was Normally Expected From You Because of Drinking': 4, '7.How Often During The last Year Have You Needed an Alcoholic Drink First Thing In The Morning To Get Yourself Going After a Night of Heavy Drinking': 4, 'LeftJustifiedLabel': 1})\n"
     ]
    }
   ],
   "source": [
    "from collections import Counter\n",
    "\n",
    "justCol4 = [item[4] for item in ETOHList]\n",
    "print(Counter(justCol4))"
   ]
  },
  {
   "cell_type": "code",
   "execution_count": 20,
   "metadata": {},
   "outputs": [
    {
     "name": "stdout",
     "output_type": "stream",
     "text": [
      "Counter({'(0) No': 6, '(2) Yes, during the last year': 2})\n"
     ]
    }
   ],
   "source": [
    "x = [item for item in ETOHList if item[4]==\"10.Has a Relative, Friend, Doctor, or Other Health Professional Expressed Concern About Your Drinking or Suggested You Cut Down\"]\n",
    "use = [item[5] for item in x]\n",
    "print(Counter(use))"
   ]
  },
  {
   "cell_type": "code",
   "execution_count": 38,
   "metadata": {
    "collapsed": true
   },
   "outputs": [],
   "source": [
    "def difference(l1,l2):\n",
    "    precisionError = len([b for a,b in zip(l1,l2) if b != a and b == 0 and a == 1])\n",
    "    recallError = len([b for a,b in zip(l1,l2) if b != a and b == 1 and a == 0])\n",
    "    print(\"Precision Error is \" + str(precisionError))\n",
    "    print(\"Recall Error is \" + str(recallError))\n",
    "\n",
    "    return (precisionError) + (recallError)"
   ]
  },
  {
   "cell_type": "code",
   "execution_count": 27,
   "metadata": {},
   "outputs": [
    {
     "name": "stdout",
     "output_type": "stream",
     "text": [
      "198728\n",
      "198728\n",
      "198728\n",
      "[]\n",
      "[0.0, 0.0, 0.0, 0.0]\n",
      "[0.0, 0.0, 0.0, 0.0]\n",
      "[0.8279323705530116, 0.18190509736828864, 0.2035727764498679, 0.16120266700213864]\n"
     ]
    }
   ],
   "source": [
    "runModels(ETOHTotal, totalSmokes, patientBase)"
   ]
  },
  {
   "cell_type": "code",
   "execution_count": 28,
   "metadata": {
    "collapsed": true
   },
   "outputs": [],
   "source": [
    "def getFrequentFlyersExtended(dataDict, year=None, visits=10):\n",
    "    if (year == None):\n",
    "        freqDict = dict()\n",
    "        for key in dataDict:\n",
    "            freqDict[key] = []\n",
    "            patientDict = dataDict[key]\n",
    "            for pKey in patientDict:\n",
    "                if len(patientDict[pKey]) > visits:\n",
    "                    freqDict[key].append(pKey)\n",
    "        return freqDict\n",
    "    else:\n",
    "        freqDict= dict()\n",
    "        if (year in dataDict):\n",
    "            patientDict = dataDict[year]\n",
    "            for pKey in patientDict:\n",
    "                if len(patientDict[pKey]) > visits:\n",
    "                    freqDict[key].append(pKey)\n",
    "            return freqDict\n",
    "        else:\n",
    "            return dict()"
   ]
  },
  {
   "cell_type": "code",
   "execution_count": 29,
   "metadata": {
    "collapsed": true
   },
   "outputs": [],
   "source": [
    "frequentsExtended = getFrequentFlyersExtended(organised)\n",
    "regularsExtended = getNonFrequentFlyersBase(organised, frequentsBase)"
   ]
  },
  {
   "cell_type": "code",
   "execution_count": 34,
   "metadata": {},
   "outputs": [
    {
     "name": "stdout",
     "output_type": "stream",
     "text": [
      "193243\n",
      "193243\n",
      "193243\n"
     ]
    }
   ],
   "source": [
    "patBase1, ETOHHeavyFreqs, smokesHeavyFreqs = frequentsArray(frequentsExtended)\n",
    "patBase2, ETOHHeavyRegs, smokesHeavyRegs = regsArray(regularsExtended)\n",
    "\n",
    "patientBase = patBase1 + patBase2\n",
    "totalSmokes = smokesHeavyFreqs + smokesHeavyRegs\n",
    "ETOHTotal = ETOHHeavyFreqs + ETOHHeavyRegs\n",
    "\n",
    "print(len(patientBase))\n",
    "print(len(totalSmokes))\n",
    "print(len(ETOHTotal))"
   ]
  },
  {
   "cell_type": "code",
   "execution_count": 31,
   "metadata": {
    "collapsed": true
   },
   "outputs": [],
   "source": [
    "def runModels(ETOHTotal, totalSmokes, patientBase):\n",
    "    kf = KFold(n_splits=5)\n",
    "    print(len(patientBase))\n",
    "    print(len(totalSmokes))\n",
    "    print(len(ETOHTotal))\n",
    "    Xtr = list(map(list,zip(totalSmokes, ETOHTotal)))\n",
    "    Ytr = patientBase\n",
    "    differencesKNN = []\n",
    "    differencesLR = []\n",
    "    differencesSVM = []\n",
    "    differencesKM = []\n",
    "\n",
    "    for train_index, test_index in kf.split(Xtr):\n",
    "        X_train, X_test = [Xtr[i] for i in train_index], [Xtr[i] for i in test_index]\n",
    "        y_train, y_test = [Ytr[i] for i in train_index], [Ytr[i] for i in test_index]\n",
    "    \n",
    "        if (1 in y_train and 0 in y_train):\n",
    "            lr = LogisticRegression()\n",
    "            lr.fit(X_train, y_train)\n",
    "            PredLR = lr.predict(X_test)\n",
    "            differencesLR.append(difference(PredLR, y_test)/len(y_test))\n",
    "    \n",
    "            km = KMeans(n_clusters=2)\n",
    "            km.fit(X_train, y_train)\n",
    "            PredKM = km.predict(X_test)\n",
    "            differencesKM.append(difference(PredKM, y_test)/len(y_test))\n",
    "    \n",
    "            clf = svm.SVC()\n",
    "            clf.fit(X_train, y_train)\n",
    "            PredSVM = clf.predict(X_test)\n",
    "            differencesSVM.append(difference(PredSVM, y_test)/len(y_test))\n",
    "    print((differencesKNN))\n",
    "    print((differencesLR))\n",
    "    print((differencesSVM))\n",
    "    print((differencesKM))"
   ]
  },
  {
   "cell_type": "code",
   "execution_count": 35,
   "metadata": {},
   "outputs": [
    {
     "name": "stdout",
     "output_type": "stream",
     "text": [
      "193243\n",
      "193243\n",
      "193243\n",
      "[]\n",
      "[0.0, 0.0, 0.0, 0.0]\n",
      "[0.0, 0.0, 0.0, 0.0]\n",
      "[0.16670547750265208, 0.8153380423814329, 0.7961084661560753, 0.1596460360173877]\n"
     ]
    }
   ],
   "source": [
    "runModels(ETOHTotal, totalSmokes, patientBase)"
   ]
  },
  {
   "cell_type": "code",
   "execution_count": 32,
   "metadata": {
    "collapsed": true
   },
   "outputs": [],
   "source": [
    "def getFrequentFlyersMultiYears(organised):\n",
    "    keys = list(organised.keys())\n",
    "    keys = sorted(keys)\n",
    "    orgYears = dict()\n",
    "    for l in range(len(keys)-2):\n",
    "        newKey = (keys[l]+keys[l+1]+keys[l+2])\n",
    "        orgYears[newKey] = dict()\n",
    "        patKeys = list(organised[keys[l]].keys())+list(organised[keys[l+1]].keys())+list(organised[keys[l+2]].keys())\n",
    "        for p in patKeys:\n",
    "            try:\n",
    "                key1 = organised[keys[l]][p]\n",
    "            except:\n",
    "                key1 = []\n",
    "                \n",
    "            try:\n",
    "                key2 = organised[keys[l+1]][p]\n",
    "            except:\n",
    "                key2 = []\n",
    "                \n",
    "            try:\n",
    "                key3 = organised[keys[l+2]][p]\n",
    "            except:\n",
    "                key3 = []\n",
    "            orgYears[newKey][p] = key1 + key2 + key3\n",
    "    frequentFs = getFrequentFlyersExtended(orgYears)\n",
    "    regs = getNonFrequentFlyersBase(orgYears, frequentFs)\n",
    "    return (frequentFs, regs)"
   ]
  },
  {
   "cell_type": "code",
   "execution_count": 33,
   "metadata": {
    "collapsed": true
   },
   "outputs": [],
   "source": [
    "frequentsYears, regsYears = getFrequentFlyersMultiYears(organised)"
   ]
  },
  {
   "cell_type": "code",
   "execution_count": 37,
   "metadata": {},
   "outputs": [
    {
     "name": "stdout",
     "output_type": "stream",
     "text": [
      "399318\n",
      "399318\n",
      "399318\n",
      "399318\n",
      "399318\n",
      "399318\n",
      "[]\n",
      "[0.0, 0.0, 0.0, 0.0]\n",
      "[0.0, 0.0, 0.0, 0.0]\n",
      "[0.19087448662726636, 0.19004808173895624, 0.16957790215744462, 0.14790328437449132]\n"
     ]
    }
   ],
   "source": [
    "patBase1, ETOHHeavyFreqs, smokesHeavyFreqs = frequentsArray(frequentsYears)\n",
    "patBase2, ETOHHeavyRegs, smokesHeavyRegs = regsArray(regsYears)\n",
    "\n",
    "patientBase = patBase1 + patBase2\n",
    "totalSmokes = smokesHeavyFreqs + smokesHeavyRegs\n",
    "ETOHTotal = ETOHHeavyFreqs + ETOHHeavyRegs\n",
    "\n",
    "print(len(patientBase))\n",
    "print(len(totalSmokes))\n",
    "print(len(ETOHTotal))\n",
    "\n",
    "runModels(ETOHTotal, totalSmokes, patientBase)"
   ]
  },
  {
   "cell_type": "code",
   "execution_count": 120,
   "metadata": {},
   "outputs": [
    {
     "name": "stdout",
     "output_type": "stream",
     "text": [
      "201220132014\n",
      "201320142015\n",
      "201420152016\n",
      "201520162017\n",
      "201620172018\n"
     ]
    }
   ],
   "source": [
    "getFrequentFlyersMultiYears(frequentsYears)"
   ]
  },
  {
   "cell_type": "code",
   "execution_count": null,
   "metadata": {
    "collapsed": true
   },
   "outputs": [],
   "source": [
    "def abstractFreqFlyers(cohortDict, gap, visits):\n",
    "    "
   ]
  }
 ],
 "metadata": {
  "kernelspec": {
   "display_name": "Python 3",
   "language": "python",
   "name": "python3"
  },
  "language_info": {
   "codemirror_mode": {
    "name": "ipython",
    "version": 3
   },
   "file_extension": ".py",
   "mimetype": "text/x-python",
   "name": "python",
   "nbconvert_exporter": "python",
   "pygments_lexer": "ipython3",
   "version": "3.6.3"
  }
 },
 "nbformat": 4,
 "nbformat_minor": 2
}
