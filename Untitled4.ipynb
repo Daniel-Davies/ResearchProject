{
 "cells": [
  {
   "cell_type": "code",
   "execution_count": 130,
   "metadata": {
    "collapsed": true
   },
   "outputs": [],
   "source": [
    "%matplotlib inline\n",
    "# notebook\n",
    "import matplotlib.pylab as pylab\n",
    "import sklearn\n",
    "import matplotlib.pyplot as plt\n",
    "from sklearn.model_selection import KFold\n",
    "from sklearn.linear_model import LogisticRegression\n",
    "from sklearn.neighbors import KNeighborsClassifier\n",
    "from sklearn.naive_bayes import GaussianNB\n",
    "from sklearn.naive_bayes import BernoulliNB\n",
    "from sklearn import svm\n",
    "from sklearn.cluster import KMeans\n",
    "from collections import Counter\n",
    "import numpy as np\n",
    "from datetime import datetime\n",
    "from datetime import timedelta\n",
    "from collections import Counter\n",
    "\n",
    "#make the graphs bigger\n",
    "pylab.rcParams['figure.figsize'] = (32.0, 24.0)\n",
    "pylab.rcParams['font.size'] = 24"
   ]
  },
  {
   "cell_type": "code",
   "execution_count": 3,
   "metadata": {
    "collapsed": true
   },
   "outputs": [],
   "source": [
    "cohort = []\n",
    "ETOH = []\n",
    "hw = []\n",
    "labOrders = []\n",
    "medOrders = []\n",
    "prescriptions = []\n",
    "radiology = []\n",
    "tobacco = []\n",
    "vitals = []"
   ]
  },
  {
   "cell_type": "code",
   "execution_count": 128,
   "metadata": {
    "collapsed": true
   },
   "outputs": [],
   "source": [
    "def fileToList(fname):\n",
    "    dataArray = []\n",
    "    with open(fname) as f:\n",
    "        for line in f:\n",
    "            new = line.strip()\n",
    "            new = new[1:len(new) - 1]\n",
    "            new = new.split('\",\"')\n",
    "            if (len(new) > 1):\n",
    "                dataArray.append(new)\n",
    "    return dataArray\n",
    "\n",
    "def fileToDict(fname):\n",
    "    dataDict = dict()\n",
    "    with open(fname) as f:\n",
    "        for line in f:\n",
    "            new = line.strip()\n",
    "            new = new[1:len(new) - 1]\n",
    "            new = new.split('\",\"')\n",
    "            if (len(new) > 1):\n",
    "                if not(new[0] in dataDict):\n",
    "                    dataDict[new[0]] = [new]\n",
    "                else:\n",
    "                    dataDict[new[0]].append(new)\n",
    "    return dataDict\n",
    "\n",
    "def organiseCohortData(myCohort):\n",
    "    organised = dict()\n",
    "    for admission in myCohort:\n",
    "        if admission[0] in organised:\n",
    "            organised[admission[0]].append(admission[1:])\n",
    "        else:\n",
    "            organised[admission[0]] = [admission[1:]]\n",
    "            \n",
    "    \n",
    "    for p in organised.keys():\n",
    "        organised[p] = sorted(organised[p], key = lambda x: datetime.strptime(x[8][0:10], '%Y-%m-%d'))\n",
    "    return organised\n",
    "\n",
    "def retrieveRegulars(org, frequents):\n",
    "    regularsBase = []\n",
    "    newOrder = Counter(frequents)\n",
    "    for k in org.keys():\n",
    "        if not(k in newOrder):\n",
    "            regularsBase.append(k)\n",
    "    \n",
    "    return list(np.random.choice(regularsBase, len(frequents)))\n",
    "\n",
    "def abstractFreqFlyers(organised, gap, visits):\n",
    "    frequentFlyers = []\n",
    "    for p in organised.keys():\n",
    "        dates = [datetime.strptime(item[8][0:10], '%Y-%m-%d') for item in organised[p]]\n",
    "        try:\n",
    "            for i in range(len(dates)):\n",
    "                modified_date = dates[i] + timedelta(days=gap)\n",
    "                if dates[i+visits-1] <= modified_date:\n",
    "                    frequentFlyers.append(p)\n",
    "                    break\n",
    "        except:\n",
    "            pass\n",
    "    return frequentFlyers\n",
    "\n",
    "def difference(l1,l2):\n",
    "    return len([b for a,b in zip(l1,l2) if b != a])  \n",
    "\n",
    "def runModels(Xtr, patientBase):\n",
    "    kf = KFold(n_splits=5, shuffle=True)\n",
    "    Ytr = patientBase\n",
    "    differencesLR = []\n",
    "    differencesSVM = []\n",
    "    differencesKM = []\n",
    "    differencesNB = []\n",
    "\n",
    "    for train_index, test_index in kf.split(Xtr):\n",
    "        X_train, X_test = [Xtr[i] for i in train_index], [Xtr[i] for i in test_index]\n",
    "        y_train, y_test = [Ytr[i] for i in train_index], [Ytr[i] for i in test_index]\n",
    "    \n",
    "        if (1 in y_train and 0 in y_train):\n",
    "            lr = LogisticRegression()\n",
    "            lr.fit(X_train, y_train)\n",
    "            PredLR = lr.predict(X_test)\n",
    "            differencesLR.append(difference(PredLR, y_test)/len(y_test))\n",
    "    \n",
    "            km = KMeans(n_clusters=2)\n",
    "            km.fit(X_train, y_train)\n",
    "            PredKM = km.predict(X_test)\n",
    "            differencesKM.append(difference(PredKM, y_test)/len(y_test))\n",
    "\n",
    "            gnb = BernoulliNB()\n",
    "            gnb.fit(X_train, y_train)\n",
    "            predNB = gnb.predict(X_test)\n",
    "            differencesNB.append(difference(predNB, y_test)/len(y_test))\n",
    "            \n",
    "            clf = svm.SVC()\n",
    "            clf.fit(X_train, y_train)\n",
    "            PredSVM = clf.predict(X_test)\n",
    "            differencesSVM.append(difference(PredSVM, y_test)/len(y_test))\n",
    "    print((differencesLR))\n",
    "    print((differencesSVM))\n",
    "    print((differencesKM))\n",
    "    print((differencesNB))"
   ]
  },
  {
   "cell_type": "code",
   "execution_count": null,
   "metadata": {
    "collapsed": true
   },
   "outputs": [],
   "source": [
    "fname = \"2018-4169_Cohort.txt\"\n",
    "cohort = fileToList(fname)\n",
    "organised = organiseCohortData(cohort[1:])"
   ]
  },
  {
   "cell_type": "code",
   "execution_count": 114,
   "metadata": {},
   "outputs": [],
   "source": [
    "def getIndexIS9(code):\n",
    "    if code >= 0 and code < 140: return 0\n",
    "    if code >= 140 and code < 240: return 1\n",
    "    if code >= 240 and code < 280: return 3\n",
    "    if code >= 280 and code < 290: return 2\n",
    "    if code >= 290 and code < 320: return 4\n",
    "    if code >= 320 and code < 390: return 5\n",
    "    if code >= 390 and code < 460: return 6\n",
    "    if code >= 460 and code < 520: return 7\n",
    "    if code >= 520 and code < 580: return 8\n",
    "    if code >= 580 and code < 630: return 15\n",
    "    if code >= 630 and code < 680: return 10\n",
    "    if code >= 680 and code < 710: return 11\n",
    "    if code >= 710 and code < 740: return 9\n",
    "    if code >= 740 and code < 760: return 12\n",
    "    if code >= 760 and code < 780: return 13\n",
    "    if code >= 800 and code < 1000: return 14\n",
    "\n",
    "def getIndexIS10(code):\n",
    "    if ((code[0]).lower() == 'a' or (code[0]).lower() == 'b'): return 0\n",
    "    if ((code[0]).lower() == 'c' or ((code[0]).lower() == 'd' and int(code[1]) < 5)): return 1\n",
    "    if ((code[0]).lower() == 'd'): return 2\n",
    "    if ((code[0]).lower() == 'e'): return 3\n",
    "    if ((code[0]).lower() == 'f'): return 4\n",
    "    if ((code[0]).lower() == 'g'): return 5\n",
    "    if ((code[0]).lower() == 'i'): return 6\n",
    "    if ((code[0]).lower() == 'j'): return 7\n",
    "    if ((code[0]).lower() == 'k'): return 8\n",
    "    if ((code[0]).lower() == 'm'): return 9\n",
    "    if ((code[0]).lower() == 'o'): return 10\n",
    "    if ((code[0]).lower() == 'l'): return 11\n",
    "    if ((code[0]).lower() == 'q'): return 12\n",
    "    if ((code[0]).lower() == 'p'): return 13\n",
    "    if ((code[0]).lower() == 's' or (code[0]).lower() == 't'): return 14\n",
    "    if ((code[0]).lower() == 'n'): return 15\n",
    "\n",
    "def getFeatures(datalist):\n",
    "    datalist = organised[datalist]\n",
    "    codes = [item[10] for item in datalist]\n",
    "    #[infections,neoplasms,blood,metabolic,mental,nervous,circulatory,respiratory,digestive,muskoskeletal,pregnancy,skin,congenital,perinatal,poison, genitourinary]\n",
    "    features = [0] * 16\n",
    "    for code in codes:\n",
    "        if (len(code)>0):\n",
    "            try:\n",
    "                newcode = float(code)\n",
    "                features[getIndexIS9(newcode)] = 1\n",
    "            except:\n",
    "                if(getIndexIS10(code) is not None): features[getIndexIS10(code)] = 1\n",
    "    return features"
   ]
  },
  {
   "cell_type": "code",
   "execution_count": 143,
   "metadata": {},
   "outputs": [
    {
     "name": "stdout",
     "output_type": "stream",
     "text": [
      "['0.74012402972275049', '0.74017301961981696', '0.67582042354978977', '0.67617130120198499', '0.67665007226456386', '0.67678776365436089', '0.67681365721660869', '0.71095652115262065', '0.76692839194573681', '0.76706039714539953']\n"
     ]
    }
   ],
   "source": [
    "freqs = abstractFreqFlyers(organised, 365, 5)\n",
    "freqs = freqs\n",
    "regularsAll = retrieveRegulars(organised, freqs)\n",
    "\n",
    "regs = np.random.choice(regularsAll,len(freqs))\n",
    "\n",
    "print(freqs[0:10])\n"
   ]
  },
  {
   "cell_type": "code",
   "execution_count": 144,
   "metadata": {},
   "outputs": [
    {
     "name": "stdout",
     "output_type": "stream",
     "text": [
      "9786\n",
      "9786\n"
     ]
    }
   ],
   "source": [
    "freqFeatures = list(map(getFeatures, freqs))\n",
    "regFeatures = list(map(getFeatures, regs))\n",
    "\n",
    "Xtr = freqFeatures+regFeatures\n",
    "Ytr = [1]*len(freqFeatures) + [0]*len(regFeatures)\n",
    "\n",
    "print(len(Xtr))\n",
    "print(len(Ytr))"
   ]
  },
  {
   "cell_type": "code",
   "execution_count": 145,
   "metadata": {},
   "outputs": [
    {
     "name": "stdout",
     "output_type": "stream",
     "text": [
      "[0.12665985699693566, 0.11701584057230455, 0.13030148185998977, 0.11088400613183444, 0.12314767501277465]\n",
      "[0.11542390194075587, 0.1032192130812468, 0.12468063362289218, 0.10781808891159939, 0.10986203372508942]\n",
      "[0.7829417773237998, 0.20746039856923862, 0.40214614205416455, 0.5993868165559529, 0.3832396525293817]\n",
      "[0.13840653728294178, 0.1251916198262647, 0.14971895758814513, 0.12468063362289218, 0.12927950945324476]\n"
     ]
    }
   ],
   "source": [
    "runModels(Xtr,Ytr)"
   ]
  },
  {
   "cell_type": "code",
   "execution_count": 146,
   "metadata": {},
   "outputs": [
    {
     "name": "stdout",
     "output_type": "stream",
     "text": [
      "HI\n"
     ]
    }
   ],
   "source": [
    "print(\"HI\")"
   ]
  },
  {
   "cell_type": "code",
   "execution_count": null,
   "metadata": {
    "collapsed": true
   },
   "outputs": [],
   "source": []
  }
 ],
 "metadata": {
  "kernelspec": {
   "display_name": "Python 3",
   "language": "python",
   "name": "python3"
  },
  "language_info": {
   "codemirror_mode": {
    "name": "ipython",
    "version": 3
   },
   "file_extension": ".py",
   "mimetype": "text/x-python",
   "name": "python",
   "nbconvert_exporter": "python",
   "pygments_lexer": "ipython3",
   "version": "3.6.3"
  }
 },
 "nbformat": 4,
 "nbformat_minor": 2
}
