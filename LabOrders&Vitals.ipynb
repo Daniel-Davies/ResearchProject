{
 "cells": [
  {
   "cell_type": "markdown",
   "metadata": {},
   "source": [
    "# Lab orders"
   ]
  },
  {
   "cell_type": "code",
   "execution_count": 1,
   "metadata": {
    "collapsed": true
   },
   "outputs": [],
   "source": [
    "%matplotlib inline\n",
    "# notebook\n",
    "import matplotlib.pylab as pylab\n",
    "import sklearn\n",
    "import matplotlib.pyplot as plt\n",
    "from sklearn.model_selection import KFold\n",
    "from sklearn.linear_model import LogisticRegression\n",
    "from sklearn.neighbors import KNeighborsClassifier\n",
    "from sklearn import svm\n",
    "from sklearn.cluster import KMeans\n",
    "from collections import Counter\n",
    "import numpy as np\n",
    "from sklearn.decomposition import PCA\n",
    "from datetime import datetime, timedelta\n",
    "\n",
    "\n",
    "#make the graphs bigger\n",
    "pylab.rcParams['figure.figsize'] = (32.0, 24.0)\n",
    "pylab.rcParams['font.size'] = 24"
   ]
  },
  {
   "cell_type": "code",
   "execution_count": 3,
   "metadata": {
    "collapsed": true
   },
   "outputs": [],
   "source": [
    "cohort = []\n",
    "ETOH = []\n",
    "hw = []\n",
    "labOrders = []\n",
    "medOrders = []\n",
    "prescriptions = []\n",
    "radiology = []\n",
    "tobacco = []\n",
    "vitals = []\n",
    "\n",
    "def fileToList(fname):\n",
    "    dataArray = []\n",
    "    with open(fname) as f:\n",
    "        for line in f:\n",
    "            new = line.strip()\n",
    "            new = new[1:len(new) - 1]\n",
    "            new = new.split('\",\"')\n",
    "            if (len(new) > 1):\n",
    "                dataArray.append(new)\n",
    "    return dataArray\n",
    "\n",
    "def fileToDict(fname):\n",
    "    dataDict = dict()\n",
    "    with open(fname) as f:\n",
    "        for line in f:\n",
    "            new = line.strip()\n",
    "            new = new[1:len(new) - 1]\n",
    "            new = new.split('\",\"')\n",
    "            if (len(new) > 1):\n",
    "                if not(new[0] in dataDict):\n",
    "                    dataDict[new[0]] = [new]\n",
    "                else:\n",
    "                    dataDict[new[0]].append(new)\n",
    "    return dataDict\n",
    "\n",
    "def largeFileToDict(fname, upto):\n",
    "    dataDict = dict()\n",
    "    with open(fname) as f:\n",
    "        count = 0\n",
    "        for line in f:\n",
    "            new = line.strip()\n",
    "            new = new[1:len(new) - 1]\n",
    "            new = new.split('\",\"')\n",
    "            if (len(new) > 1):\n",
    "                if not(new[0] in dataDict):\n",
    "                    dataDict[new[0]] = [new]\n",
    "                else:\n",
    "                    dataDict[new[0]].append(new)\n",
    "            count = count + 1\n",
    "            if (count == upto):\n",
    "                break;\n",
    "    return dataDict\n",
    "\n",
    "def largeFileToList(fname, upto):\n",
    "    dataArray = []\n",
    "    with open(fname) as f:\n",
    "        count = 0\n",
    "        for line in f:\n",
    "            new = line.strip()\n",
    "            new = new[1:len(new) - 1]\n",
    "            new = new.split('\",\"')\n",
    "            if (len(new) > 1):\n",
    "                dataArray.append(new)\n",
    "            count = count + 1\n",
    "            if (count == upto):\n",
    "                break;\n",
    "    return dataArray"
   ]
  },
  {
   "cell_type": "code",
   "execution_count": 4,
   "metadata": {
    "collapsed": true
   },
   "outputs": [],
   "source": [
    "fname = \"2018-4169_Med_Orders.txt\"\n",
    "medOrdersList = largeFileToList(fname, 100)"
   ]
  },
  {
   "cell_type": "code",
   "execution_count": 5,
   "metadata": {},
   "outputs": [
    {
     "name": "stdout",
     "output_type": "stream",
     "text": [
      "Hi\n"
     ]
    }
   ],
   "source": [
    "print(\"Hi\")"
   ]
  },
  {
   "cell_type": "code",
   "execution_count": 6,
   "metadata": {
    "collapsed": true
   },
   "outputs": [],
   "source": [
    "fname = \"2018-4169_Med_Orders.txt\"\n",
    "medOrders = fileToDict(fname)\n",
    "\n",
    "fname = \"2018-4169_Prescriptions.txt\"\n",
    "prescriptions = fileToList(fname)"
   ]
  },
  {
   "cell_type": "code",
   "execution_count": 7,
   "metadata": {
    "collapsed": true
   },
   "outputs": [],
   "source": [
    "fname = \"2018-4169_Prescriptions.txt\"\n",
    "preScriptions = fileToDict(fname)"
   ]
  },
  {
   "cell_type": "code",
   "execution_count": 70,
   "metadata": {
    "collapsed": true
   },
   "outputs": [],
   "source": [
    "fname = \"2018-4169_Vital_Signs.txt\"\n",
    "vitals = largeFileToDict(fname, 100000)"
   ]
  },
  {
   "cell_type": "code",
   "execution_count": 9,
   "metadata": {
    "collapsed": true
   },
   "outputs": [],
   "source": [
    "fname = \"2018-4169_Cohort.txt\"\n",
    "cohort = fileToList(fname)"
   ]
  },
  {
   "cell_type": "code",
   "execution_count": 10,
   "metadata": {},
   "outputs": [
    {
     "name": "stdout",
     "output_type": "stream",
     "text": [
      "100\n"
     ]
    }
   ],
   "source": [
    "print(len(vitals.keys()))"
   ]
  },
  {
   "cell_type": "code",
   "execution_count": 11,
   "metadata": {
    "collapsed": true
   },
   "outputs": [],
   "source": [
    "fname = \"2018-4169_Lab_Orders_Performed.txt\"\n",
    "labOrdersList = fileToList(fname)\n",
    "\n",
    "fname = \"2018-4169_Lab_Orders_Performed.txt\"\n",
    "labOrders = fileToDict(fname)"
   ]
  },
  {
   "cell_type": "code",
   "execution_count": 12,
   "metadata": {},
   "outputs": [
    {
     "name": "stdout",
     "output_type": "stream",
     "text": [
      "['person_de_id', '0.52938512525816972', '0.69021487534053338', '0.17082648770834272', '0.42715738434469491', '0.36753633968201543', '0.2520880241670635', '0.36152515055660644', '0.1594862688030885', '0.036014403266842']\n"
     ]
    }
   ],
   "source": [
    "print(list(labOrders.keys())[0:10])"
   ]
  },
  {
   "cell_type": "code",
   "execution_count": 13,
   "metadata": {},
   "outputs": [
    {
     "name": "stdout",
     "output_type": "stream",
     "text": [
      "['0.69021487534053338', '0.91501930382036079', 'Comprehensive Metabolic Panel', 'STAT', '2017-10-22 07:47:00']\n"
     ]
    }
   ],
   "source": [
    "print(labOrdersList[2])"
   ]
  },
  {
   "cell_type": "code",
   "execution_count": 8,
   "metadata": {
    "collapsed": true
   },
   "outputs": [],
   "source": [
    "orders = [item[2] if len(item) > 2 else item[1] for item in labOrdersList[1:]]\n",
    "#ordered = Counter(labOrders[1:])\n",
    "#print(ordered)"
   ]
  },
  {
   "cell_type": "code",
   "execution_count": 9,
   "metadata": {},
   "outputs": [
    {
     "name": "stdout",
     "output_type": "stream",
     "text": [
      "Counter({'CBC With Diff': 197257, 'Comprehensive Metabolic Panel': 145427, 'Basic Metabolic Panel': 81047, 'Lactic Acid': 75311, 'Glucose Point of Care Testing (LIO)': 57797, 'PT/INR/PTT': 52514, 'Urinalysis with Reflex to Culture, Random Urine': 47872, 'Urinalysis with Microscopic, Random Urine': 42644, 'Magnesium, Plasma': 41329, 'Hemoglobin, Hemocue Point of Care Testing (LIO)': 40108, 'Troponin I': 38984, 'Pregnancy, Urine (Qual)': 36963, 'Magnesium': 36842, 'Troponin I, Plasma': 36360, 'Phosphorus, Plasma': 35003, 'Drug Screen Rapid Panel 10 No Confirmation, Urine': 34221, 'Urinalysis with Reflex Culture': 34202, 'Glucose, Bedside (LIO)': 33818, 'Lipase, Plasma': 30447, 'Phosphorus': 30016, 'Lipase': 29978, 'Bacterial Culture Urine Quantitative': 28037, 'Type, Screen + Hold (Pretransfusion Testing)': 27181, 'GFR Calculation (LIO)': 26474, 'Bacterial Culture Blood #1': 21436, 'Bacterial Culture Blood #2': 19796, 'Beta hCG': 19110, 'CBC Without Diff': 18975, 'Glucose, Point of Care (LIO)': 18867, 'HIV Ag/Ab STAT Screen': 18782, 'BNP': 17851, 'Alcohol, Ethyl': 17742, 'Hemoglobin, Hemocue (LIO)': 16810, 'Alcohol, Ethyl Plasma': 16261, 'MRSA Screen': 16000, 'Sedimentation Rate': 15566, 'Prothrombin Time with INR': 12605, 'Urinalysis with Reflex to Culture': 10503, 'Drug Screen Urine, Rapid': 10469, 'Platelet Function Analysis': 10025, 'C Reactive Protein': 9551, 'Urinalysis': 9523, 'Glycated Hgb, A1C': 8622, 'ABO/Rh(D) Recheck (LIO)': 8375, 'Hepatic Function Panel': 7155, 'Bacterial Culture Urine': 6615, 'CK': 6603, 'C Reactive Protein, Plasma': 6556, 'PTT': 6501, 'Influenza + Respiratory Syncytial Virus PCR': 6362, 'TSH': 6359, 'CK, Plasma': 6093, 'Crossmatch': 5900, 'Creatinine Urine-Spot': 5692, 'Sodium, Urine-Spot': 5572, 'Beta Hydroxybutyrate': 5351, 'Beta hCG, Plasma/Serum': 5170, 'ABO/Rh(D)': 4954, 'D-Dimer Thrombosis Ultra-Sensitive': 4858, 'Hemoglobin and Hematocrit': 3997, 'Glucose Critical Value Call (LIO)': 3990, 'C. trachomatis + N. gonorrhoeae by PCR': 3976, 'Vitamin B12 Level': 3756, 'HIV-1/HIV-2 Antibodies plus HIV-1 p24 Antigen Screen with Reflex to Confirmation (STAT)': 3627, 'Blood Gas + Electrolytes, Arterial': 3622, 'Potassium Critical Value Call (LIO)': 3594, 'Iron Profile (Transferrin, Iron, TIBC, PSAT, Ferritin)': 3560, 'Thyroid Cascade': 3541, 'Free T4': 3380, 'Acetaminophen, Blood': 3275, 'Blood Gas + Hematocrit, Arterial': 3163, 'Folate, Serum': 3135, 'Lipid Screen': 3112, 'Blood Gas + Electrolytes, Venous': 3083, 'Osmolality, Serum': 3010, 'CKMB (Total CK, CKMB, CK Index)': 2848, 'Hematocrit Critical Value Call (LIO)': 2822, 'Retain Sample': 2818, 'Emergency Release O Neg Red Cells': 2780, 'Salicylates, Blood': 2761, 'Urea Nitrogen, Urine-Spot': 2708, 'CKMB, Plasma': 2503, 'Aerobic Culture w Gram Stain': 2447, 'Osmolality, Urine': 2399, 'Hemoglobin Critical Value Call (LIO)': 2398, 'BUN Critical Value Call (LIO)': 2332, 'Levetiracetam Level': 2245, 'Beta HCG, Plasma': 2215, 'Reticulocyte Count': 2145, 'Syphilis Antibody Screen': 1911, 'Ammonia, Plasma': 1817, 'Bacterial Gram Stain': 1809, 'Surgical Pathology (LIO)': 1806, 'LDH, Plasma': 1775, 'Fungal Culture/DFE': 1769, 'Valproic Acid, Blood': 1761, 'Clostridium difficile PCR, Stool': 1690, 'Cell Count with Diff - CSF': 1550, 'Digoxin, Blood': 1536, 'HIV  1+2 Antibodies plus HIV 1 p24 Antigen Screen': 1531, 'Blood Gas + Hematocrit': 1457, 'Prealbumin': 1438, 'Blood Ketone Point of Care Testing (LIO)': 1436, 'Dilantin Level': 1436, 'Lipid Panel, Extended': 1408, 'Vancomycin, Trough Level': 1405, 'Bilirubin, Direct Plasma': 1400, 'Glucose + Protein, CSF': 1396, 'CKMB, Plasma (Total CK, CKMB, CK Index)': 1375, 'Ammonia': 1362, 'TB Culture/Stain': 1340, 'Cell Count with Diff - Body Fluid': 1319, 'Lipid Panel, Basic': 1304, 'LDH': 1274, 'Genital Culture w Gram Stain': 1259, 'Bacterial Culture Stool': 1257, 'Trichomonas Exam': 1240, 'Anaerobic Culture (includes Aerobic) w Gram Stain': 1202, 'Hepatitis Bs Antibody': 1199, 'Hepatitis Bs Antigen': 1179, 'CSF Culture w STAT Gram Stain': 1154, 'Cortisol': 1142, 'HIV 1+2 Antibodies plus HIV 1 p24 Antigen Screen': 1139, 'Potassium, Plasma': 1137, 'Lithium Level': 1129, 'Hepatitis C Antibody IgG': 1122, 'Sputum Culture w Gram Stain': 1118, 'Uric Acid, Plasma': 1086, 'Protein, Urine-Spot': 1082, 'Bilirubin, Direct': 1075, 'Group A Beta Strep Antigen, Throat (culture performed if negative)': 1043, 'Calcium, Ionized': 1014, 'Peripheral Smear Review': 986, 'Potassium': 968, 'Sodium Critical Value Call (LIO)': 942, 'Platelet Critical Value Call (LIO)': 926, 'Drug Screen Comprehensive, Urine': 912, 'Fibrinogen': 902, 'Procalcitonin': 896, 'Ferritin': 894, 'Viral Culture': 894, 'Uric Acid': 894, 'Antinuclear Antibody': 888, 'Acute Hepatitis Panel': 885, 'INR Critical Value Call (LIO)': 880, 'Haptoglobin': 875, 'Fluid Culture (incl Aer + Anaer + Gram Stain)': 855, 'WBC Critical Value Call (LIO)': 849, 'Tacrolimus, Whole Blood': 846, 'Blood Ketone, Bedside (LIO)': 822, 'Vancomycin, Random Level': 791, 'FK506, Whole Blood': 754, 'Iron Panel': 738, 'PTT Critical Value Call (LIO)': 731, 'Blood Gas + Electrolytes': 718, 'pH Critical Value Call (LIO)': 715, 'Hepatitis Bc Antibody Total': 710, 'Gamma Glutamyltransferase': 694, 'Herpes simplex Types 1+2 PCR Qualitative': 672, 'Albumin, Miscellaneous Fluid': 670, 'HIV Types 1+2 Antibody Screen, Rapid': 648, 'Calcium, Plasma': 647, 'Anaerobic Culture w Gram Stain': 635, 'Lamotrigine Level': 604, 'Legionella pneumophila Antigen, Urine': 576, 'DIC Screen': 575, 'Wright Stain, Stool': 562, 'Cytology (LIO)': 559, 'Fungal Blood Culture': 558, 'Fluid Culture w Gram Stain': 543, 'Protein, Total Miscellaneous Fluid': 537, 'Amylase, Plasma': 535, 'ACT K (iSTAT) Point of Care Testing (LIO)': 518, 'Blood Gas+Electrolytes (iSTAT) Point of Care Testing (LIO)': 512, 'VRE Screen': 509, 'T4, Total': 504, 'Culture, Discharge MRSA': 495, 'Homocysteine': 491, 'Calcium Critical Value Call (LIO)': 487, 'Potassium, Urine-Spot': 485, 'T Cell Subsets': 479, 'Carbamazepine Level': 465, 'Blood Gas + Hematocrit, Venous': 465, 'Eosinophils, Urine': 462, 'Hepatitis Bc Antibody IgM': 415, 'Protein Electrophoresis, Serum': 411, 'Albumin, Plasma': 408, 'T3, Total': 406, 'CEA': 406, 'Bilirubin, Total Plasma': 405, 'Blood Gas + Electrolytes (iSTAT)(LIO)': 399, 'Calcium': 391, 'LDH, Miscellaneous Fluid': 389, 'CA 125 Tumor Marker': 388, 'Triglycerides': 385, 'Chlorides, Urine-Spot': 384, 'Vitamin D  25-Hydroxy Level (D2+D3)': 379, 'Alpha Fetoprotein': 379, 'Complement C4': 373, 'PTH, Intact': 372, 'Osmolality, Serum.': 370, 'Vitamin D, 25-Hydroxy, Total': 367, 'Complement C3': 366, 'Prolactin': 362, 'CA 19-9': 358, 'Bacterial Culture Blood': 356, 'Adenovirus Direct Antigen (DFA)': 353, 'Parainfluenza Virus, Types 1,2,3 Direct Antigen (DFA)': 348, 'Giardia lamblia Exam': 343, 'Glucose, Miscellaneous Fluid': 342, 'Hepatitis A Antibody IgM': 338, 'Human Metapneumovirus Direct Antigen (DFA)': 337, 'CSF Critical Value Call (LIO)': 333, 'AST, Plasma': 323, 'Urinalysis Microscopic Only, Random Urine': 321, 'Group A Beta Strep Rapid Direct Antigen (culture performed if negative)': 320, 'Reticulocyte Count, Manual (LIO)': 320, 'Streptococcus pneumoniae Antigen': 310, 'Syphilis VDRL, CSF': 303, 'D-Dimer/Thrombosis Ultra-Sensitive': 299, 'Protein Electrophoresis, Urine': 296, 'Enterovirus by PCR': 296, 'Kleihauer-Betke Stain, KB': 292, 'Albumin': 291, 'AST': 287, 'Sodium, Plasma': 286, 'Coccidioides Antibody Screen by EIA': 285, 'Anti Double-Stranded DNA': 281, 'Crystals Interpretation': 275, 'Bilirubin, Total': 274, 'Rotavirus Antigen Detection': 274, 'Miscellaneous Test (Chemistry)(LIO)': 272, 'Rheumatoid Factor': 270, 'Cortisol, Baseline': 270, 'Ova + Parasite Exam': 267, 'Osmolality, Urine.': 266, 'Cyclosporine,Whole Blood': 266, 'Sodium': 265, 'TSH, Ultrasensitive': 264, 'Cryptococcus neoformans Antigen, CSF': 263, 'Hepatitis C PCR Quantitative': 261, 'Cryptosporidium Exam': 260, 'Serum Immunofixation': 258, 'Blood Gas, Arterial': 256, 'West Nile Virus Antibodies IgG+IgM, CSF': 250, 'Drug Screen, Urine': 249, 'Isospora Exam': 247, 'Leukemia/Lymphoma Panel, Flow Cytometry': 245, 'West Nile Virus Abs IgG+IgM, Serum': 244, 'Cyclospora Exam': 244, 'Microsporidium Exam': 242, 'Methylmalonic Acid': 238, 'Heterophile Antibody (Monospot)': 229, 'Clostridium difficile Antigen Screen': 228, 'Carboxyhemoglobin, Whole Blood': 220, 'Cardiolipin Antibodies': 214, 'Free T3': 214, 'Amylase, Miscellaneous Fluid': 214, 'Anti-Neutrophil Cytoplasmic Antibody': 213, 'Cortisol, 60 Minute': 213, 'Helicobacter pylori Antibody IgG': 212, 'Differential': 211, 'Quantiferon TB Gold': 211, 'Occult Blood, Fecal by Immunoassay (FIT)': 208, 'Vancomycin Critical Value Call (LIO)': 207, 'Thyroid Function Panel (Ultrasensitive TSH + Free T4)': 206, 'Cortisol, 30 Minute': 202, 'Phenobarbital, Blood': 200, 'Hepatitis A Antibody IgG': 195, 'Potassium Whole Blood Critical Value Call (LIO)': 194, 'HIV 1 RNA PCR Quantitative': 187, 'Magnesium Critical Value Call (LIO)': 186, 'Crossmatch (RETAINED SAMPLE IN LAB)': 186, 'RSV Immunoassay': 186, 'ABO/Rh(D) + Antibody Screen': 184, 'Topiramate, Blood': 183, 'Ova + Parasite Exam #1': 183, 'HIV 1  RNA PCR Quantitative': 182, 'Bacterial Culture Blood #3': 181, 'Amylase': 180, 'Cytomegalovirus PCR Quantitative': 180, 'Fat Stain Qualitative': 180, 'C-Peptide': 179, 'ACTH Level': 174, 'ST2, Serum': 173, 'Thyroid Function Panel': 173, 'Cytomegalovirus Antibodies IgG+IgM': 171, 'Angiotensin Converting Enzyme, Serum': 169, 'ALT, Plasma': 168, 'Microalbumin/Creatinine Ratio, Urine': 168, 'ACT K (iSTAT)(LIO)': 167, 'Dilantin Critical Value Call (LIO)': 167, 'Heparin Level, Low Molecular Weight': 160, 'Miscellaneous Test (Serology/Micro)(LIO)': 160, 'Anti-Smooth Muscle Antibody': 159, 'Anti TPO Antibodies': 155, 'Rh Immune Globulin-Antepartum': 154, 'Occult Blood, Feces': 152, 'Uric Acid, Urine-Spot': 152, 'CSF Culture w Gram Stain': 152, 'Vitamin D 1,25 Hydroxy Level': 150, 'Helicobacter pylori Antigen, Stool': 149, 'Free T4, Reflex Testing (LIO)': 149, 'Antibody Consult (LIO)': 149, 'Varicella zoster Virus (VZV) by PCR': 146, 'Vitamin B1 Level (Thiamine), Plasma': 146, 'Alcohol (Ethanol) Urine Screen': 146, 'Epstein-Barr Virus Antibody Panel': 144, 'Coccidioides Antibody  Screen by EIA': 144, 'SSA (RO)(ENA) Antibody, IgG': 143, 'Influenza A + B by PCR': 141, 'SSB (LA)(ENA) Antibody, IgG': 140, 'Influenza Virus, Types A + B Direct Antigen (DFA)': 139, 'Mycoplasma pneumoniae Antibodies IgG+IgM': 138, 'TB Nucleic Acid Amplification': 137, 'HIV Confirmation (LIO)': 136, 'Osmolality, Serum Reflex (LIO)': 136, 'Aspergillus galactomannan Antigen by EIA, Blood': 136, 'Cytomegalovirus PCR Qualitative': 135, 'Miscellaneous Test (Hematology)(LIO)': 135, 'Lupus Anticoagulant DRVVT': 134, 'Anti-Mitochondrial Antibody': 134, 'Enterovirus PCR': 134, 'Administration Rh Immune Globulin (Full Dose)': 133, 'Occult Blood, Fecal': 132, 'Influenza Immunoassay': 132, 'Legionella Culture': 130, 'Hepatitis B Surface Antigen with Confirmation': 130, 'Lyme Disease Antibody Panel': 129, 'QuantiFERON-TB': 128, 'Drug Screen, Serum': 127, 'MS Panel': 127, 'Pneumocystis Exam': 122, 'Cryptococcus neoformans Antigen': 120, 'Protein, Total Plasma': 118, 'Respiratory Syncytial Virus (RSV) Direct Antigen (DFA)': 118, 'Alkaline Phosphatase, Plasma': 118, 'Glucose, Plasma': 117, 'Ova + Parasite Exam #2': 117, 'Copper, Serum': 115, 'Hematopathology (LIO)': 115, 'B12 Binding': 114, 'Hepatitis Be Antibody': 112, 'Glutamic Acid Decarboxylase Antibody': 111, 'Specific Gravity, Urine': 108, 'Smith (ENA) Antibody, IgG': 107, 'Osmolality, Urine (LIO)': 105, 'ALT': 105, 'PSA Screen': 104, 'Hepatitis Be Antigen': 104, 'Follicle Stimulating Hormone': 104, 'Plavix CYP2C19 Sequence Analysis': 104, 'Ceruloplasmin': 104, 'Histoplasma Antigen, Serum': 103, 'Iron, Plasma': 103, 'Trileptal Level': 103, 'Lupus Anticoagulant Panel': 102, 'Platelet Count': 101, 'Anti-Cyclic Citrullinated Peptide Antibody IgG': 101, 'Fibrinogen Critical Value Call (LIO)': 101, 'Immunoglobulin G': 99, 'Luteinizing Hormone': 99, 'Chlamydia Culture': 99, 'Heparin Associated Antibody, ELISA': 96, 'Drug Screen Panel 10 with Reflex to Confirmation, Urine': 94, 'Ova + Parasite Exam #3': 93, 'TFT, Thyroid Cascade': 93, 'Hepatitis A Antibody Total': 92, 'Histoplasma Antigen, Urine': 91, 'Bone Marrow (LIO)': 91, 'Beta Strep Group A Throat Culture': 90, 'Triglycerides, Miscellaneous Fluid': 87, 'Angiotensin Converting Enzyme, CSF': 87, 'Creatinine, Plasma': 86, 'Bacterial Culture Catheter Tip': 85, 'TIBC, Plasma': 84, 'Mycophenolic Acid': 83, 'Blood Gas + Electrolytes, Mixed Venous': 83, 'Iron Panel, Plasma': 83, 'Parvovirus B19 Antibodies IgG+IgM': 82, 'Molecular Pathology (LIO)': 80, 'Herpes simplex Virus (HSV) by PCR': 80, 'Epstein-Barr Virus (EBV) by PCR': 80, 'Direct Antiglobulin Test': 78, 'Specific Gravity, Urine (Rapid Resp Lab)': 78, 'PTH Related Peptide': 78, 'Aldolase': 78, 'Creatinine, Urine': 77, 'DIC Follow-up': 77, 'Rickettsia typhi Antibodies IgG+IgM': 76, 'Somatomedin C, IGF-1': 76, 'Glycated Hemoglobin (LIO)': 76, 'Heterophile Antibody': 75, 'Cystatin C with Estimated GFR, Plasma/Serum': 75, 'Protein, Total Urine': 75, 'Type, Screen + Hold (RETAINED SAMPLE IN LAB)': 75, 'Lipid Panel, Extended, Electrophoresis': 75, 'Protein, Total': 73, 'Immunoglobulin A': 73, 'Cryptococcus neoformans  Antigen, CSF (preferred test)': 73, 'Immunofixation, Fluids': 71, 'Antistreptolysin O': 70, 'Cryptococcus neoformans  Antigen (preferred test)': 68, 'Metanephrines, Plasma': 68, 'Beta-2-glycoprotein Antibody, IgG': 68, 'Digoxin Critical Value Call (LIO)': 68, 'Antithrombin III Level': 67, 'Urine Dipstick (Rapid Response Lab)': 67, 'Glucose, CSF': 65, 'Bordetella Culture': 65, 'Histoplasma galactomannan Ag Quant, Urine': 64, 'Toxoplasma gondii Antibodies IgG+IgM': 64, 'Clostridium difficile PCR with Reflex, Stool': 64, 'Malaria Exam': 64, 'Protein, Total 24 Hour Urine': 64, 'Bleeding Time': 63, 'TB Culture Blood': 62, 'Paraneoplastic Profile, Serum': 62, 'Heparin Level, Unfractionated': 61, 'Beta 2 Microglobulin, Serum': 61, 'IgG 4': 61, 'Transfusion Reaction Evaluation': 61, 'Hepatitis B PCR Quantitative': 61, 'Glucose': 61, 'pH, Miscellaneous Fluid': 60, 'Direct + Indirect Antiglobulin Test': 58, 'Tissue Transglutaminase Ab, IgG': 58, 'Beta-2-glycoprotein Antibody, IgM': 58, 'Hepatitis Bs Antigen Confirmation': 58, 'Sodium, Urine': 58, 'Complement, Total CH50': 58, 'Coccidioides Antibody by COMP FIX': 57, 'Bacterial Culture Transgrow': 57, 'Histoplasma Antibody EIA': 57, 'HLA B*27  20cc ACD (86812)': 56, 'Cystatin C with Estimated GFR': 55, 'Chromosome Analysis, Bone Marrow': 55, 'Renin': 55, 'Zinc Serum': 54, 'Vitamin B1 Level (Thiamine), Whole Blood': 54, 'TB Acid Fast Stain': 54, 'Aldosterone': 54, 'Bilirubin, Micro Plasma': 53, 'Dilantin, Free/Total': 52, 'Herpes simplex Direct Antigen': 52, 'Micro Bilirubin Critical Value Call (LIO)': 52, 'Lipid Panel': 52, 'Fungal Culture Dermal': 52, 'Neuromyelitis Optica IgG Ab': 52, 'Paraneoplastic Profile, CSF': 51, 'Rickettsia rickettsii Antibodies IgG+IgM': 51, 'Tissue Transglutaminase Antibody, IgA': 50, 'Herpes simplex Types 1+2 Panel IgG+IgM': 50, 'Factor VIII:C': 50, 'Liver/Kidney Microsomal': 50, 'Growth Hormone': 50, 'IEP, Fluids': 50, 'Cytomegalovirus (CMV) by PCR': 49, 'Calculi Analysis': 49, 'Protein C Activity': 49, 'Insulin Level': 49, 'Malaria Thick/Thin': 49, 'BK Virus PCR Quantitative, Blood': 48, 'Ketones, Urine-Spot': 48, 'Thyroid Stimulating Immunoglobulin': 47, 'BK Virus PCR Quantitative': 47, 'Transfusion Reaction (LIO)': 47, 'PSA, Free And Total': 47, 'Ethylene Glycol': 46, 'Alcohol, Methyl Blood': 46, 'Urea, 24 Hour Urine': 46, 'Valproic Acid Critical Value Call (LIO)': 46, 'Protein, CSF': 46, 'Glomerular Basement Membrane Antibody': 46, 'Creatinine, 24 Hour Urine': 45, 'Metanephrine Fractionated, Urine': 45, 'Hemoglobin Evaluation Cascade': 44, 'Cholesterol, Miscellaneous Fluid': 44, 'Brucella Antibody': 44, 'Vitamin B6 Level': 44, 'Neonate Bilirubin Panel': 44, 'Myoglobin, Plasma': 44, 'Calcium, Urine-Spot': 43, 'Lithium Critical Value Call (LIO)': 43, 'Creatinine': 43, 'Helicobacter pylori Antibody, IgM': 43, 'Vitamin D, 25-Hydroxy Level': 42, 'Hepatitis C Genotyping': 42, 'Blastomyces Ab Comp Fixation/Immunodiff': 42, 'E. histolytica (Amebiasis) Antibody IgG': 41, 'Calprotectin, Fecal': 41, 'Hepatitis C PCR Qualitative': 40, 'Carbamazepine Epoxide Level': 40, 'Clozapine Level': 40, 'Transferrin': 40, 'PSA, Total': 40, 'Immunoglobulin E': 40, 'Beta Strep Screen Culture': 39, 'Lactate Critical Value Call (LIO)': 39, 'Thrombophilia Panel': 38, 'BUN': 38, 'Folic Acid RBC': 38, 'BK Virus PCR Quantitative, Urine': 38, 'Alcohol, Isopropyl Blood': 38, 'Urinalysis 8, Point of Care Testing (LIO)': 38, 'Glucose CSF Critical Value Call (LIO)': 38, 'Alkaline Phosphatase': 37, 'Varicella Zoster Virus (VZV) by PCR': 37, 'Felbamate Level': 37, 'Iron': 36, 'Cholesterol': 36, 'Factor V Leiden, Blood': 36, 'Lactoferrin, Fecal': 36, 'D-Dimer Semi-Quantitative': 36, 'Cryoglobulins, Qualitative': 36, 'Cryoglobulin, Quantitative': 35, 'Catecholamine Fractionation, Urine': 35, 'Arbovirus Antibodies IgG, CSF': 35, 'Porphyrin Screen, Urine (Qual)': 35, 'Zonisamide Level': 35, 'Varicella zoster Antibodies IgG+IgM': 35, 'Anti Thyroglobulin': 35, 'Urinalysis without Microscopic, Random Urine': 34, 'Bartonella henselae Antibodies IgG+IgM': 34, '1,3 Beta-D-Glucan (Fungitell)': 34, 'Lysozyme, Blood': 33, 'Fungal Direct Exam': 33, 'Ribonucleic Protein Antibody': 33, 'Heavy Metals, Urine': 33, 'Gentamicin, Trough Level': 32, 'Lead, Whole Blood': 32, 'Immunoglobulin Profile': 32, 'Cryptococcus neoformans Antibody': 32, 'Aspergillus Antibody Panel': 31, 'Urea, Urine': 31, 'Acetylcholine Receptor Antibody, Binding': 31, 'Lipase, Miscellanous Fluid': 31, 'Histoplasma Antigen by EIA, Serum': 31, 'Inhibin B': 31, 'Lupus Anticoagulant Panel.': 31, 'LDL Subclasses': 31, 'Testosterone Level': 30, 'Alkaline Phosphatase Isoenzymes': 30, 'Protein Electrophoresis, CSF': 29, 'Proinsulin': 29, 'Dermatopathology (LIO)': 29, 'von Willebrand Panel': 29, 'Sirolimus, Whole Blood': 29, 'Gastrin': 29, 'Tryptase, Serum': 29, 'Endomysial IgA Antibodies, Serum': 28, 'Coccidioides Antibody by COMP FIX, CSF': 28, 'Clopidogrel 2C19 Genotype': 28, 'Kappa Lambda, Serum Free Light Chains with Ratio': 28, 'Immunoglobulin M': 28, 'Occult Blood, Stool (Rapid Response Lab)': 28, 'Thyroglobulin': 28, 'Iron Profile': 27, 'Bordetella pertussis/parapert by PCR': 27, 'Blood Gas + Hematocrit, Mixed Venous': 27, 'Vitamin E Level': 27, 'HIV-1/HIV-2 Antibodies plus HIV-1 p24 Antigen Screen with Reflex to Confirmation': 27, 'Thiopurine Methyltransferase': 27, 'Dengue Fever Antibodies IgG+IgM': 27, 'Inhibin-A': 26, 'Amphetamines, Urine Confirmation': 26, 'Group B Strep Screen': 26, 'Theophylline, Blood': 26, 'Thrombophilia Panel.': 26, 'Epstein-Barr Virus (EBV) Quantitative PCR': 25, 'Metanephrine, Urine': 25, 'Influenza A + B DFA': 25, 'Hematocrit Manual, Misc Fluid': 25, 'BUN, Plasma': 25, 'Mycoplasma pneumoniae by PCR': 25, 'Cortisol, Urine Free': 25, 'Clostridium difficile Toxin B by PCR, Fecal': 25, 'Toxoplasma gondii by PCR': 24, 'Rh Immune Globulin Evaluation': 24, 'Porphobilinogen, Urine': 24, 'Methotrexate, Blood': 24, 'Fat, Feces': 24, 'Sickle Cell Screen': 24, 'Estradiol Level': 24, 'C1 Esterase Inhibitor': 23, 'Amitriptyline/Nortriptyline': 23, 'Saccharomyces cerevisiae IgG+IgA': 23, 'IgG Subclasses': 23, 'Occult Blood, Gastric (Rapid Response Lab)': 23, 'Salmonella typhi + paratyphi Antibodies': 23, 'Gentamicin, Peak Level': 23, 'Free Protein S Antigen': 22, 'Inhibitor, PTT': 22, 'Acetylchol Receptor Antibody, Modulating': 22, 'Magnesium, Urine-Spot': 22, 'Gliadin Peptide IgG/IgA Antibodies': 22, 'Rubella Virus  Antibody IgG': 22, 'Mumps Antibodies IgG+IgM': 22, 'D-Dimer/Semi-quantitative': 21, 'Acetylcholine Receptor Antibody,Blocking': 21, 'Measles Antibodies IgG+IgM': 21, 'Opiate, Urine Confirmation': 21, 'Coccidioides Antibody Screen by EIA, CSF': 21, 'Creatinine, Miscellaneous Fluid': 21, 'Lacosamide - MSC Sendout': 21, 'Alpha Antitrypsin': 21, 'Salicylates Critical Value Call (LIO)': 21, 'TSH Receptor Antibody': 21, 'JC Virus by PCR, CSF': 21, 'Viral Culture.': 20, 'Topiramate Level': 20, 'HIV Genotype': 20, 'Clostridium difficile Toxin by EIA': 20, 'Factor II Variant (Prothrombin 20210a)': 20, 'Rubella Virus Antibodies IgG+IgM': 20, 'Herpes simplex Type 1 Antibodies IgG+IgM': 20, 'Parvovirus B19, PCR': 20, 'Insulin, Fasting': 20, 'Immunoglobulin Profile (IgG, IgA, IgM)': 20, 'Acetaminophen Critical Value Call (LIO)': 20, 'Progesterone Level': 20, 'Urinalysis, Microscopic Only': 19, 'SCL70 Antibody': 19, 'Herpes Culture': 19, 'Platelets, Manual Count (LIO)': 19, 'Electrolyte Panel': 19, 'Everolimus Level': 19, 'Bacterial Clotest': 19, 'G-6-PD Screen': 18, 'Chromogranin A': 18, 'Rubella Virus Antibody IgG': 18, 'C1 Esterase Inhibitor Functional': 18, 'Adenosine Deaminase, Pleural Fluid': 18, 'Coccidioides Antibody Panel (LIO)': 17, 'Clostridium difficile Toxin by EIA, Stool (LIO)': 17, 'Viscosity-Serum': 17, 'Alcohol, Urine Confirmation': 17, 'TIBC': 17, 'Alpha 1 Antitrypsin Phenotype': 17, 'Tacrolimus Critical Value Call (LIO)': 17, 'Drug Screen Pain with Reflex to Confirmation, Urine': 17, 'Coxsackie B Antibodies, Serum': 17, 'Erythropoietin': 17, 'Triglycerides, Fluid': 17, 'Testosterone, Total + Free': 17, 'Hemoglobin Variant Scn with Interpretatn': 17, 'FISH - 2 Probes (LIO)': 17, 'HIV Type 1 Antibody Western Blot (LIO)': 17, 'Echinococcus Antibody IgG': 16, 'MPO/PR-3 ANCA Antibodies (LIO)': 16, 'Strongyloides Antibody IgG': 16, 'Sodium, 24 Hour Urine': 16, '5 HIAA, Urine': 16, 'Total Bilirubin Critical Value Call (LIO)': 16, 'Glucose, Body Fluid - MSC Sendout': 16, 'Histone Antibody': 16, 'Ribonucleic Protein RNP (ENA) Antibody, IgG': 16, 'Intrinsic Factor Antibody': 16, 'Creatinine with GFR': 16, 'Mycophenolic Acid and Metabolites': 16, 'Herpes simplex Type 2 Antibodies IgG+IgM': 15, 'Factor II Variant(PRO 20210a)/FV Leiden': 15, 'Phosphorus Code Blue Call (LIO)': 15, 'Myoglobin Quantitative, Urine': 15, 'Cysticercosis Antibody IgG, Serum': 15, 'Lactic Acid Code Blue Call (LIO)': 15, 'Bacterial Culture Blood #4': 15, 'Magnesium Code Blue Call (LIO)': 15, 'Isohemagglutinin Titer': 15, 'Vitamin K Level': 15, 'Bartonella Henselae Antibodies IgG+IgM': 15, 'Measles Antibody IgG': 15, 'Inhibitor, PT': 15, 'Aspergillus Precipitins Antibody Panel': 14, 'IgG Subclass 4': 14, 'GM1 Antibody Panel': 14, 'Phosphorus, Urine-Spot': 14, 'Anemia Cascade': 14, 'Thrombophilia Panel, Venous': 14, 'Alk Phosphatase Heat Inactivatn, Plasma': 14, 'Varicella zoster DFA': 14, 'Lyme Total Antibody, CSF': 14, 'Heparin UFX Antibody Serotonin Release Assay': 14, 'Troponin I Code Blue Call (LIO)': 14, 'C1Q Immune Complex': 14, 'Streptococcus pneumoniae Antibody IgG': 14, 'Coxsackie A Antibodies, Serum': 14, 'Neuromyelitis Optica (NMO)/Aquaporin-4-IgG Fluorescence Activated Cell Sorting (FACS) Assay, Serum': 14, 'Soluble Transferrin Receptor': 14, 'Bilirubin, CSF': 13, 'PCP Screen, Urine': 13, 'Leptospira Antibody': 13, 'RNA Polymerase 3 Ab, IgG': 13, 'Porphyrins, Serum': 13, 'Bordetella pertussis Antibodies IgG+IgM': 13, 'Aldosterone - MSC Sendout': 13, 'TPMT Genotype - MSC Sendout': 12, 'Aspergillus galactomannan Antigen by EIA, Bronchoscopy': 12, 'Carbamazepine Critical Value Call (LIO)': 12, 'Coxiella burnetti Antibody IgG': 12, 'Porphyrins + Porphobilinogen, Urine': 12, 'Tricyclic Screen, Urine': 12, 'Chlamydia Antibodies IgG, IgM, + IgA': 12, 'Jak2 V617F Mutation': 12, 'Creatinine Clearance': 12, 'Antibody Screen': 12, 'Osmolality, Fecal': 12, 'N-methyl-D-Aspartate Antibody, IGG, CSF with Reflex to Titer': 12, 'Clonazepam Level': 12, 'FK506 Critical Value Call (LIO)': 12, 'Quetiapine Level': 12, 'THC, Urine Confirmation': 12, 'Microalbumin, 24 Hour Urine': 12, 'Comprehensive Drug Screen Urine/Blood': 11, 'Kappa Lambda, Urine Free Light Chains': 11, 'HTLV Types I/II Antibody': 11, 'Amiodarone Level': 11, 'Catecholamine Fractionation, Plasma, Free': 11, 'MuSK Antibody': 11, 'Delta Aminolevulinic, Urine': 11, 'Complement C1Q': 11, 'Renin - MSC Sendout': 11, 'Platelet Antibody, Serum': 11, 'Factor VIII Inhibitor Screen Panel': 11, 'Anti Jo-1 Antibody': 11, 'CKMB Code Blue Call (LIO)': 11, 'Cysticercosis Antibody IgG, CSF': 11, 'Hepatitis D (Delta) Antibody': 11, 'Potassium, Urine': 11, 'Factor IX Assay': 11, 'Thrombin Time': 11, 'von Willebrand Activity': 11, 'Insulin Antibody': 11, 'Fibrin Degradation Products': 10, 'Islet Cell Antibody': 10, 'DHEA, Serum': 10, 'Jo-1 (ENA) Antibody, IgG': 10, 'Potassium, 24 Hour Urine': 10, 'Coccidioides Antibody Panel, CSF (LIO)': 10, 'Adenosine Deaminase, Peritoneal Fluid': 10, 'Lymphocyte Subset Panel': 10, 'Scleroderma Scl-70 (ENA) Antibody': 10, 'Schistosoma Antibody IgG': 10, 'Pemphigoid Antibody Panel': 10, 'Renin Activity': 10, 'Cryptosporidium Exam #1': 10, 'Coumadin (Warfarin)': 10, 'Factor V Activity Assay': 10, 'Primidone/Phenobarbital, Blood': 10, 'Chagas Disease IgG': 10, 'Sodium, Feces': 10, 'Platelet Aggregation': 10, 'Calcium Code Blue call (LIO)': 10, 'IA-2 Antibody - MSC Sendout': 10, 'Anti-Parietal Cell Antibody': 10, 'CYP2C19 Genetic Testing': 10, 'pH, Miscellaneous Fluid (Rapid Resp Lab)': 10, 'Potassium, Feces': 10, 'Calcium, Urine': 10, 'Estrogen, Serum': 10, 'Toxocara Antibody IgG': 9, 'Basic Metabolic Panel Code Blue Call (LIO)': 9, 'Chromosome Analysis, POC': 9, 'DHEA-SO4': 9, 'Acanthamoeba and Naegleria Culture': 9, 'Gonadotropin Releasing Hormone': 9, 'Lidocaine, Blood': 9, 'Acetone, Plasma': 9, 'Hepatitis Bs Antibody Quantitation': 9, 'BK Virus PCR Quantitation, Blood': 9, 'CO2 Critical Value Call (LIO)': 9, 'TB Nucleic Acid Amplification, Non-Sputum': 9, 'Microalbumin, Urine': 9, 'CA 15-3': 9, 'Gabapentin Level': 9, 'Bilirubin, Total Miscellaneous Fluid': 9, 'Vitamin A Level': 9, 'Gentamicin, Random Level': 9, 'Hemoglobin + Hematocrit Code Blue Call (LIO)': 9, 'Factor V Assay': 8, 'Hemoglobin, Plasma': 8, 'Plavix Platelet Inhibition Test': 8, 'Emergency Release Type Spec Red Cells (LIO)': 8, 'T4, Free by Equilibrium Dialysis HPLC-TMS': 8, 'PNH, PI Linked Antigen, Blood': 8, 'Chagas Disease IgM': 8, 'CEA, Miscellaneous Fluid': 8, 'Cysticercosis Antibody Immunoblot, Serum': 8, 'Beta 2 Microglobulin, Urine': 8, 'Chlamydia trachomatis by PCR': 8, 'Beta-2 Transferrin': 8, 'Herpes Virus 6 Antibodies IgG+IgM': 8, 'CA 27-29': 8, 'Selenium Level': 8, 'Olanzapine Level': 8, 'Aldosterone serum': 8, 'Cell Count with Diff - Joint Fluid for OR Patients': 8, 'Reverse T3': 8, 'Yersinia Species Antibodies, IgA, IgG, IgM by Western Blot': 8, 'Platelet Associated Antibody': 8, 'Oligoclonal Bands Interpretation': 8, 'HTLV Types I/II Antibody with Reflex to Confirm': 8, 'Neonate Blood Gas (RC)(LIO)': 8, 'Protein S Functional': 8, 'Coxiella burnetii (Q-fever) Ab IgG, Phase I/II w/Reflex': 8, 'ACT K (RAD) Point of Care Testing (LIO)': 7, 'Vasoactive Intestinal Polypeptide': 7, 'Borrelia burgdorferi Antibodies, Total by ELISA, CSF': 7, 'Blood Gas Code Blue Call (LIO)': 7, 'HE4, Ovarian Cancer Monitoring': 7, 'Pancreatic Elastase, Fecal': 7, 'HPV, High Risk Group with 16 and 18 Genotype by PCR': 7, 'Activated Protein C Resistance': 7, '17-Hydroxyprogesterone': 7, 'Cytomegalovirus Antibody IgG': 7, 'Wellbutrin Level': 7, 'Benzodiazepine, Urine Confirmation': 7, 'Aspergillus fumigatus IgG Antibody': 7, 'OR Joint Fluid Call (LIO)': 7, 'Gentamicin Critical Value Call (LIO)': 7, 'Alpha 1 Antitrypsin, Fecal': 7, 'Cryptococcus Ag CSF Critical Value Call (LIO)': 7, 'Mycoplasma pneumoniae Antibody IgM': 7, 'White Blood Cell Count': 7, 'RBC Indices (LIO)': 7, 'Calcium, 24 Hour Urine': 7, 'Immunoglobulin D': 6, 'Acanthamoeba Stain': 6, 'Vitamin B2 (Riboflavin)': 6, '21-Hydroxylase Antibody': 6, 'POC Chromosome Analysis': 6, 'PTH, Rapid': 6, 'Cryptosporidium Exam #2': 6, 'Anti DNase B Antibody': 6, 'FISH - 1 Probe (LIO)': 6, 'Coxsackie A Antibodies, CSF': 6, \"Whipple's Disease by PCR\": 6, 'HCG Total Quantitative - MSC Sendout': 6, 'Group B Strep Screen w Gram Stain': 6, 'HIV Type 1 Antibody Western Blot': 6, 'Vancomycin, Peak Level': 6, 'Factor VII Assay': 6, 'Lymphocytic Choriomeningitis Antibodies': 6, 'Beta-2 Glycoprotein 1 Antibody, IgA': 6, 'Complement C2': 6, 'Potassium, Whole Blood': 6, 'MAG Antibody, Serum': 6, 'Coxsackie B Antibodies, CSF': 6, 'Troponin T': 6, 'Pemphigus Antibody Panel': 6, 'Cyclosporine Critical Value Call (LIO)': 6, 'Acetone': 6, 'Ureaplasma + Mycoplasma Culture': 6, 'Hydromorphone (Dilaudid) Level, Urine': 6, 'BK Virus PCR Quantitation, Urine': 6, 'HLA B*5701  20cc ACD (81381)': 6, 'Carbamazepine Epoxide and Total': 5, 'Lactic Acid, CSF': 5, 'HSV Direct Antigen': 5, 'Ribosomal Protein P Antibody': 5, 'Voriconazole Level': 5, 'Factor II Activity Assay': 5, 'von Willebrand Antigen': 5, 'pH, Pleural Fluid (LIO)': 5, 'Porphobilinogen (PBG), Urine - MSC Sendout': 5, 'Group B Streptococcus PCR/Culture': 5, 'Copper, Urine': 5, 'Plavix Platelet Inhibition': 5, 'Cancer Antigen 27.29': 5, 'HIV-1 DNA PCR Qualitative': 5, 'Cryptosporidium Exam #3': 5, 'HLA B*27 (LIO)': 5, 'HLA B*51,52  20cc ACD (86812)': 5, 'Coccidioides Antibody by COMP FIX (Only for Known Positive Patients)': 5, 'Herpes simplex Types 1+2 Antibody IgG': 5, 'Toxoplasma gondii Antibody IgG': 5, 'Allergen, Individual': 5, 'Vitamin C Level': 5, 'Carnitine Profile': 5, 'HFE Genotype Analysis, Blood': 5, 'N-methyl-D-Aspartate Antibody, IGG, Serum with Reflex to Titer': 5, 'Trazodone Level': 5, 'Microsporidium Exam #1': 5, 'Antidiuretic Hormone Level': 4, 'Antibody Specificity Prediction Test (LIO)': 4, 'Blood Gas (iSTAT)(LIO)': 4, 'HIV 1/2 Antigen/Antibody, Fourth Generation w Reflex Quest Dx': 4, 'Tetanus Antibody IgG': 4, 'Coccidioides Antibody  Screen by EIA, CSF': 4, 'Rheumatoid Factor.': 4, 'Salivary Cortisol': 4, 'Influenza Types A+B Antibodies IgG+IgM': 4, 'Bence Jones Protein': 4, 'Tularemia Antibody': 4, 'Barbiturate, Blood': 4, 'Ehrlichia chaffeensis Antibodies, IgG + IgM': 4, 'Androstenedione': 4, 'Cyclospora Exam #1': 4, 'Immunoglobulin G, CSF': 4, 'Parasite Exam Blood': 4, 'Infant Crossmatch (Pretransfusion Testing)': 4, 'Factor X Assay': 4, 'Neuromyelitis Optica/Aquaporin 4 IgG, CSF': 4, 'VMA + HVA, Urine': 4, 'Hemoglobin Variant Identification': 4, 'Herpes simplex Type 2 Antibody IgG': 4, 'CMV Antibodies IgG+IgM': 4, 'Free Testosterone': 4, 'Salmonella typhi Antibodies': 4, 'IBD SGI Diagnostic': 4, 'Mercury, Blood': 4, 'Heavy Metals Pnl 6, Ur w Rflx to Arsenic Fract - MSC Sendout': 4, 'Hemoglobin Variant Quantitation': 4, 'Nortriptyline Level': 4, 'CSF West Nile Virus PCR - SERMSC Sendout': 4, 'Candida Antibody': 4, 'Echovirus Antibodies, Serum': 4, 'Insulin, Random Level': 4, 'LEMS Profile': 4, 'TTP Panel': 4, 'Granulocyte Antibody': 4, 'MDMA (Ectasy), Urine Confirmation': 4, 'Mycoplasma pneumoniae Antibody IgG': 4, 'Factor XIII Qual': 4, 'Varicella zoster Antibody IgG': 4, 'NuSwab Vaginitis (VG) LabCorp': 4, 'Fructosamine': 4, 'Chlamydia/Neisseria gonorrhoeae RNA, TMA, Throat': 4, 'Interleukin 2 Receptor (Sol), MAFD': 4, 'Arsenic, Blood': 4, 'Amikacin, Random Level': 3, 'Thyroglobulin Ab and Thyroglobulin, IMA or LCMS - MSC Sendout': 3, 'Herpesvirus 6 HHV6 A and B, Quantitative PCR - SERMSC Sendout': 3, 'Direct Bilirubin Critical Value Call (LIO)': 3, 'Microsporidium Exam #3': 3, 'zzzGlucose, Body Fluid': 3, 'Somatostatin - MSC Sendout': 3, 'Adenosine Deaminase, Thoracentesis Fluid - MSC Sendout': 3, 'ALT Critical Value Call (LIO)': 3, 'Microsporidium Exam #2': 3, 'KRAS Mutation Analysis (LIO)': 3, 'HLA DQ*2,8  20cc ACD (81377 x2)': 3, 'HLA Class II DNA  20cc ACD (81375)': 3, 'HLA Antibody ID Class II, Single Antigen Beads, Flow/Luminex (LIO)': 3, 'Phosphatidylserine Antibodies': 3, 'Calcitonin Level': 3, 'Hypoglycemia Panel - MSC Sendout': 3, 'Complement CH50': 3, 'CMV Culture': 3, 'Fluorocytosine Level': 3, 'Alpha-1-Antitrypsin - MSC Sendout': 3, 'AFP, Miscellaneous Fluid': 3, 'B pertussis Antibody IgG Immunoblot (LIO)': 3, 'HLA B*51,52 (LIO)': 3, 'Hypersensitivity Antibody Panel': 3, 'Pyruvate': 3, 'Glucagon Level': 3, 'Primidone and Metabolite': 3, 'Methadone, Urine Confirmation': 3, 'IGF Binding Protein 3': 3, 'Parasite Exam': 3, 'TB Nucleic Acid Amplification, Sputum': 3, 'Neuronal Cell Antibody': 3, 'Bilirubin, Direct Miscellaneous Fluid': 3, 'Aldosterone, Urine': 3, 'Streptococcus pneumoniae Antibody IgG 23 Serotypes': 3, 'Opiates 5 plus Tramadol Confirmation': 3, 'Aldolase, Serum': 3, 'Blood Gas + Hematocrit, Capillary': 3, 'Alkaline Phosphatase Isoenzymes, Serum or Plasma': 3, 'Allergen, Latex IgE': 3, 'ADAMTS13': 3, 'CSF Mycobacteria TB PCR - SERMSC Sendout': 3, 'PTH, Intraoperative (PTH, Rapid)': 3, 'Influenza Type A Antibodies IgG+IgM': 3, 'HIV 1 DNA PCR Qualitative': 3, 'FISH - 3 Probes (LIO)': 3, 'Cystatin C, Serum': 3, 'HLA Antibody ID Class I, Single Antigen Beads, Flow/Luminex (LIO)': 3, 'Hepatitis B Virus Genotype, S + Pol Gene': 3, 'VMA, Urine': 3, 'Neuromyelitis Optica IgG NMO, CSF - MSC Sendout': 3, 'Sezary Cell Identification': 3, 'Electrolytes, Feces': 2, 'Methemoglobin, Whole Blood': 2, 'CO2': 2, 'Cyclospora Exam #2': 2, 'Soluble Fibrin Monomer': 2, 'Streptococcus pneumoniae, IgG 14 Serotypes': 2, 'Porphyrins, Fecal': 2, 'Nicotine Metabolites, Serum or Plasma': 2, 'Hep B Virus Drug Resist, Genotype + BCP/Precore Mutations - SERMSC Sendout': 2, 'Lupus Anticoagulant Hexagonal Phase Test': 2, 'Heparin Neutralization': 2, 'Triglycerides, Thoracentesis Fluid - MSC Sendout': 2, 'Specific Gravity, Miscellaneous Fluid': 2, 'Measles PCR Throat - SERMSC Sendout OCHD': 2, 'Cyclospora Exam #3': 2, 'Hemoglobin Variant Scn w/o Interpretatn': 2, 'Aripiprazole Level': 2, 'Sporothrix Antibody': 2, 'Cystic Fibrosis': 2, 'Bile Acids': 2, 'Factor XI Assay': 2, 'Fetal Fibronectin': 2, 'Haemophilus influenza B Antibody IgG': 2, 'CJD 14-3-3 Protein, CSF': 2, 'VIII Multimeric Analysis': 2, 'ADAMTS13 Activity': 2, 'Chloride': 2, 'Neonate Blood Gas (RC)., Cord-Arterial': 2, 'Glucose, Body Fluid': 2, 'Plasminogen Activity': 2, 'Sertraline Level': 2, 'Influenza Types A+B Antibody IgG': 2, 'Herpes simplex Type 1 Antibody IgG': 2, 'HLA Antibody Screen Class I + II, Flow/Luminex (LIO)': 2, 'Amphetamine Screen, Urine': 2, 'Hepatitis C Viral RNA Genotype 1 NS5a Drug Resistance - MSC Sendout': 2, 'Varicella-Zoster DFA': 2, 'Hemosiderin Stain, Urine': 2, 'Insulin, 30 Minutes': 2, 'Factor XII Activity Assay': 2, 'Stat Hemoglobin/Hematocrit (LIO)': 2, 'Chlamydia Direct FA': 2, 'Benztropine Level': 2, 'Alk Phosphatase, Bone Specific': 2, 'Measles PCR Urine - SERMSC Sendout OCHD': 2, 'Testosterone, Free/Total (SHBG), Adult Male': 2, 'N Telopeptide, Urine': 2, 'Chlordiazepoxide Level': 2, 'Anti-HMGCR Autoantibodies - MSC Sendout': 2, 'Coccidioides Antibody by COMP FIX, CSF (Only for Known Positive Patients)': 2, 'Paroxetine Level': 2, 'Factor VII Activity Assay': 2, 'Fluconazole Level': 2, 'MDMA (Ecstasy) Level, Urine': 2, 'HLA B5701 (LIO)': 2, 'THC Screen, Urine': 2, 'Neuronal Nuclear Ab (ANNA) Reflex Panel': 2, 'Hypoglycemia Panel, Sulfonylureas, Serum/Plasma': 2, 'Acylcarnitine': 2, 'Lupus Anticoagulant Hexagonal Phase': 2, 'Factor X Activity Assay': 2, 'Cholesterol, Fluid': 2, 'FibroSURE Hepatitis C Virus - SERMSC Sendout': 2, 'Aldosterone, 24 Hour Urine': 2, 'Adenovirus Antibody IgG': 2, 'Hepatitis B Viral DNA PCR, Qualitative - SERMSC Sendou': 2, 'Neuronal Nuclear Antibody (ANNA)': 2, 'Insulin, Antibody': 2, 'Wet Mount - SERMSC Sendout': 2, 'Amylase Isoenzymes': 2, 'Sodium, Miscellaneous Fluid': 2, 'Neisseria gonorrhoeae by PCR': 2, 'MTHFR C677T Variant Analysis': 2, 'Adenosine Deaminase, Pericardial Fluid - MSC Sendout': 2, 'C Reactive Protein, Ultrasensitive': 2, 'Clobazam, Quantitative - MSC Sendout': 2, 'Miscellaneous Test - Genetics (LIO)': 2, 'Organic Acid, Urine': 2, 'Testosterone, Free Adult Male': 2, 'Lipase, Fluid': 2, 'Tobramycin, Random Level': 2, 'HIV Integrase Genotype': 2, 'Teichoic Acid Antibody': 2, 'Cytology-Pap Specimens (LIO)': 2, 'Parasite Gross Exam': 2, 'Trichinella Antibody': 2, 'Rapamune Critical Value Call (LIO)': 2, 'Potassium, Miscellaneous Fluid': 2, 'Neuron Specific Enolase, CSF': 2, 'Cryoglobulin, Qualitative': 2, 'Myoglobin': 2, 'Hepatitis C Virus Immunoblot (RIBA)': 2, 'Heparin, Low Molecular Weight Critical Value Call (LIO)': 2, 'Thorazine Level': 2, 'Chlorides, Urine': 2, 'Poliovirus Antibodies 1, 2, 3': 2, 'Striated Muscle Antibody,IgG': 2, 'Neuronal Cell Antibodies, CSF': 2, 'von Willebrand Multimer Analysis': 2, 'Fluphenazine Level': 2, 'Factor II Assay': 2, 'Cold Agglutinins - MSCH Sendout': 2, 'ACT K (RAD)(LIO)': 2, 'Biotinidase, Serum': 1, 'Uric Acid, Urine': 1, 'GAD65 Ab Assay, CSF': 1, 'CJD 14-3-3 Protein, CSF - MSC Sendout': 1, 'Phosphorus, 24 Hour Urine': 1, 'Lyme Titer - SERMSC Sendou': 1, '2015-08-10 03:58:00': 1, 'Neonate Blood Gas (RC)., Cord-Venous': 1, 'Circulating Tumor Cells, Breast': 1, 'Valproic Acid, Free Quest Dx': 1, 'Lipase, Fluid - MSC Sendout': 1, 'AFP-L3 and Total AFP': 1, 'Doxepin Level': 1, 'Very Long Chain Fatty Acids': 1, 'Oxycodone (Percodan) Level, Urine': 1, 'Chlorides Critical Value Call (LIO)': 1, 'Mitochondrial DNA': 1, 'Lymphocyte Antigen and Mitogen Proliferation Panel - MSC Sendout': 1, 'BK + JC Virus DNA, Qualitative Real-Time PCR - SERMSC Sendout': 1, 'Hexosaminidase A + Total Hexosaminidase, Serum': 1, 'Bilirubin, CSF - MSC Sendout': 1, 'Glucose, Urine': 1, 'Ammonia Critical Value Call (LIO)': 1, 'C. difficile Culture - SERMSC Sendout': 1, 'Des Gamma Carboxy Prothrombin': 1, 'Lorazepam Level': 1, 'Parainfluenza 1,2,+3 Antibodies IgG+IgM': 1, 'Hemoglobin F': 1, 'Histamine, Blood': 1, 'Chlorides, 24 Hour Urine': 1, 'Mold/Dust Allergy Panel': 1, 'Isospora Exam #2': 1, 'Creatinine Critical Value Call (LIO)': 1, 'Aspergillus fumigatus, IgG - MSC Sendout': 1, 'Hemoglobin, Urine': 1, 'HPV DNA High Risk': 1, 'BCR/ABL PCR': 1, 'Purkinje Cell Cytoplasmic Antibody by IFA w/Reflex to Titer + Immunoblot': 1, 'FISH - 4 Probes (LIO)': 1, 'Salivary Cortisol - MSC Sendout': 1, 'Neonate Lytes (RC).': 1, 'Bilirubin, Total, Body Fluid - MSC Sendout': 1, 'RAJI Cell Immune Complex, Quantitative': 1, 'Single Strand DNA Antibody': 1, 'Phenylalanine': 1, 'Bullous Pemphigoid (Bp 160) Antibody - MSC Sendout': 1, 'PCP, Urine Confirmation': 1, 'Triglycerides, Fluid - MSC Sendout': 1, 'Arbovirus Antibodies IgG, Serum': 1, 'Alpha-Subunit Pituitary Tumor Marker': 1, 'Testosterone, Free + Total w SHBG, Adult Male - MSC Sendout': 1, '2016-05-07 20:06:00': 1, 'Opiate Screen, Urine': 1, 'Fibrin/Fibrinogen Degradation Split Products, Plasma': 1, 'Porphyrins, Fractionation': 1, 'HLA DQ Locus  20cc ACD (81383)': 1, 'PO2 Critical Value Call (LIO)': 1, 'Rupture of Membranes': 1, 'zzzHerpes simplex Virus (HSV) by PCR': 1, 'Diphtheria Antibody IgG': 1, 'Oxalate, Urine': 1, 'Adenosine Deaminase, Fluid': 1, 'Benzodiazepines, Serum Quest Dx': 1, 'Chloride, Feces': 1, 'Centromere Antibody - MSCH Sendout': 1, 'Oxalate, 24 Hour Urine': 1, 'Chromosome Analysis, POC w/Rflx to Array': 1, 'Cytokeratin Antibody': 1, 'Glucose, 1hr Post Glucola': 1, 'Everolimus Critical Value Call (LIO)': 1, 'Isospora Exam #1': 1, 'Hepatitis B virus drug resistance, genotype and bcp/precore mutations': 1, 'Histoplasma Antibodies CF and ID': 1, 'Chagas Disease Antibodies IgG+IgM': 1, 'Uric Acid, 24 Hour Urine': 1, 'Cobalt, Blood': 1, 'Acid Hemolysin': 1, 'Microsatellite Instability': 1, 'Arsenic, Hair': 1, 'Reveal SNP Microarray': 1, 'Eslicarbazepine - MSC Sendout': 1, 'hCG, QL, Urine Quest Dx': 1, 'IgM Anticardiolipin Antibodies - MSC Sendout': 1, 'Methadone Screen, Urine': 1, 'Amino Acids, Plasma Quantitative': 1, 'Factor IX Inhibitor Screen Panel': 1, 'Neuron Specific Enolase': 1, 'Glucose, 24 Hour Urine': 1, 'Vitamin B12 + Folate (LIO)': 1, 'JAK2 Gene, V617F Mutation, Qualitative': 1, 'Tissue Chromosome Analysis': 1, 'Myositis-Specific Antibodies - MSC Sendout': 1, 'Mercury, Hair': 1, 'Bilirubin, Direct, Neonatal Quest Dx': 1, 'FTA-ABS Quest Dx': 1, 'Bacterial Culture Environmental/ICC (LIO)': 1, 'Rituxan Sensitivity (CD20)': 1, 'Hemoglobin A2': 1, 'Allergen, Individual Sendout (LIO)': 1, 'Glycine CSF - MSC Sendout': 1, 'Routine Chromosome Analysis': 1, 'Neutrophil Function, Oxidative Burst': 1, 'Ethosuximide Level': 1, 'Primidone Critical Value Call (LIO)': 1, 'Dihydropyrimidine Dehydrogenase (DPD) Gene Mutation Analysis - MSC Sendout': 1, 'Neonate Lytes (RC)(LIO)': 1, 'Humira Concentration & Anti-humira Antibody - MSC Sendout': 1, 'Barbiturate, Urine Confirmation': 1, 'Cocaine, Urine Confirmation': 1, 'Cold Agglutinins - MSC Sendout': 1, 'BRAF Mutation Analysis, Tumor': 1, 'C. burnetii Phase II IgG Titer (LIO)': 1, 'Glucose, 2hr Post Prandial': 1, '2016-10-15 12:52:00': 1, 'Amino Acids Quantitative, Plasma - MSC Sendout': 1, 'Acylglycines, Urine': 1, 'BCR/ABL p210 Quantitative Assay, Bone Marrow (LIO)': 1, 'CO2, Plasma': 1, 'Liver Fibrosis Fibro test Panel': 1, 'Lipoprotein (A)': 1, 'CEBPA Mutation': 1, 'Isospora Exam #3': 1, 'Haloperidol Level': 1, 'Magnesium, 24 Hour Urine': 1, 'Anti Myelin Antibody': 1, 'IgG Anticardiolipin Antibodies - MSC Sendout': 1, 'Neonate Lactate (RC).': 1, 'Cord ABO/Rh + Direct Antiglobulin': 1, 'Lysosomal Enzyme Profile': 1, 'CEA, Fluid': 1, 'Chlorides, Plasma': 1, 'Cholesterol, Fluid - MSC Sendout': 1, 'Flecainide Level': 1, 'zzzClostridium difficile Antigen Screen': 1, 'Quinidine Level': 1, 'Myositis Panel': 1, 'Wright Stain, Miscellaneous': 1, 'Toxoplasmosis Adult Panel ( IgA ELISA/AC/HS/Ige) Quest Dx': 1, 'AST Critical Value Call (LIO)': 1, 'Collagen Type VII Antibody IgG by ELISA - MSC Sendout': 1, 'Sex Hormone Binding Globulin': 1, 'Magnesium, Urine': 1, 'Carbohydrate Deficient Transferrin': 1, 'Risperidone + Metabolites': 1, 'Bone Marrow Misc (LIO)': 1, 'Phosphorus, Urine': 1, 'Hepatitis C Viral RNA NS3 Genotype - SERMSC Sendout': 1, 'Hemoglobin, Hemocue Donor Center Point of Care Testing (LIO)': 1, 'Neonate Lactate (RC)(LIO)': 1, 'Alkaline Phosphatase, Bone Specific Quest Dx': 1, 'UGT1A1 Genotyping': 1, 'Chlamydia/Neisseria gonorrhoeae RNA, TMA, Rectal': 1, 'Celiac-Associated HLA DQ - MSCHLA Sendout': 1, 'Bordetella DFA (LIO)': 1, 'Carnitine, Urine': 1, 'Insulin, 60 Minutes': 1, 'NPM1 Mutation': 1, 'Lead, Hair': 1, 'Natural Killer Cell Function Assay': 1, 'Librium and Nordiazepam': 1})\n"
     ]
    }
   ],
   "source": [
    "ordered = Counter(orders)\n",
    "print(ordered)"
   ]
  },
  {
   "cell_type": "code",
   "execution_count": 10,
   "metadata": {
    "collapsed": true
   },
   "outputs": [],
   "source": [
    "listed = sorted(list(ordered.items()), key=lambda x: x[1])[::-1]"
   ]
  },
  {
   "cell_type": "code",
   "execution_count": 11,
   "metadata": {},
   "outputs": [
    {
     "name": "stdout",
     "output_type": "stream",
     "text": [
      "[('CBC With Diff', 197257), ('Comprehensive Metabolic Panel', 145427), ('Basic Metabolic Panel', 81047), ('Lactic Acid', 75311), ('Glucose Point of Care Testing (LIO)', 57797), ('PT/INR/PTT', 52514), ('Urinalysis with Reflex to Culture, Random Urine', 47872), ('Urinalysis with Microscopic, Random Urine', 42644), ('Magnesium, Plasma', 41329), ('Hemoglobin, Hemocue Point of Care Testing (LIO)', 40108), ('Troponin I', 38984), ('Pregnancy, Urine (Qual)', 36963), ('Magnesium', 36842), ('Troponin I, Plasma', 36360), ('Phosphorus, Plasma', 35003), ('Drug Screen Rapid Panel 10 No Confirmation, Urine', 34221), ('Urinalysis with Reflex Culture', 34202), ('Glucose, Bedside (LIO)', 33818), ('Lipase, Plasma', 30447), ('Phosphorus', 30016)]\n"
     ]
    }
   ],
   "source": [
    "print(listed[0:20])"
   ]
  },
  {
   "cell_type": "code",
   "execution_count": 12,
   "metadata": {},
   "outputs": [
    {
     "name": "stdout",
     "output_type": "stream",
     "text": [
      "[('CBC With Diff', 197257), ('Comprehensive Metabolic Panel', 145427), ('Basic Metabolic Panel', 81047), ('Lactic Acid', 75311), ('Glucose Point of Care Testing (LIO)', 57797), ('PT/INR/PTT', 52514), ('Urinalysis with Reflex to Culture, Random Urine', 47872), ('Urinalysis with Microscopic, Random Urine', 42644), ('Magnesium, Plasma', 41329), ('Hemoglobin, Hemocue Point of Care Testing (LIO)', 40108), ('Troponin I', 38984), ('Pregnancy, Urine (Qual)', 36963), ('Magnesium', 36842), ('Troponin I, Plasma', 36360), ('Phosphorus, Plasma', 35003), ('Drug Screen Rapid Panel 10 No Confirmation, Urine', 34221), ('Urinalysis with Reflex Culture', 34202), ('Glucose, Bedside (LIO)', 33818), ('Lipase, Plasma', 30447), ('Phosphorus', 30016), ('Lipase', 29978), ('Bacterial Culture Urine Quantitative', 28037), ('Type, Screen + Hold (Pretransfusion Testing)', 27181), ('GFR Calculation (LIO)', 26474), ('Bacterial Culture Blood #1', 21436), ('Bacterial Culture Blood #2', 19796), ('Beta hCG', 19110), ('CBC Without Diff', 18975), ('Glucose, Point of Care (LIO)', 18867), ('HIV Ag/Ab STAT Screen', 18782)]\n"
     ]
    }
   ],
   "source": [
    "print(listed[0:30])"
   ]
  },
  {
   "cell_type": "code",
   "execution_count": 14,
   "metadata": {
    "collapsed": true
   },
   "outputs": [],
   "source": [
    "def difference(l1,l2):\n",
    "    return 1 - len([b for a,b in zip(l1,l2) if b != a]) \n",
    "\n",
    "def runModels(Xtr, patientBase, printOn=True):\n",
    "    kf = KFold(n_splits=5, shuffle=True)\n",
    "    Ytr = patientBase\n",
    "    differencesLR = []\n",
    "    differencesKM = []\n",
    "\n",
    "    for train_index, test_index in kf.split(Xtr):\n",
    "        X_train, X_test = [Xtr[i] for i in train_index], [Xtr[i] for i in test_index]\n",
    "        y_train, y_test = [Ytr[i] for i in train_index], [Ytr[i] for i in test_index]\n",
    "    \n",
    "        if (1 in y_train and 0 in y_train):\n",
    "            lr = LogisticRegression()\n",
    "            lr.fit(X_train, y_train)\n",
    "            #PredLR = lr.predict(X_test)\n",
    "            differencesLR.append(lr.score(X_test, y_test))\n",
    "            #differencesLR.append(difference(PredLR, y_test)/len(y_test))\n",
    "    \n",
    "            #km = KMeans(n_clusters=2)\n",
    "            #km.fit(X_train, y_train)\n",
    "            #PredKM = km.predict(X_test)\n",
    "            #differencesKM.append(difference(PredKM, y_test)/len(y_test))\n",
    "            \n",
    "            neigh = KNeighborsClassifier(n_neighbors=5)\n",
    "            neigh.fit(X_train, y_train)\n",
    "            differencesKM.append(neigh.score(X_test,y_test))\n",
    "    if(printOn):\n",
    "        print(differencesLR)\n",
    "        print(differencesKM)\n",
    "    \n",
    "    return (np.mean(differencesLR) + np.mean(differencesKM))/2"
   ]
  },
  {
   "cell_type": "code",
   "execution_count": 15,
   "metadata": {
    "collapsed": true
   },
   "outputs": [],
   "source": [
    "def abstractFreqFlyers(organised, gap, visits):\n",
    "    frequentFlyers = []\n",
    "    for p in organised.keys():\n",
    "        dates = [datetime.strptime(item[8][0:10], '%Y-%m-%d') for item in organised[p]]\n",
    "        try:\n",
    "            for i in range(len(dates)):\n",
    "                modified_date = dates[i] + timedelta(days=gap)\n",
    "                if dates[i+visits-1] <= modified_date:\n",
    "                    frequentFlyers.append(p)\n",
    "                    break\n",
    "        except:\n",
    "            pass\n",
    "    return frequentFlyers\n",
    "\n",
    "def retrieveRegulars(org, frequents):\n",
    "    regularsBase = []\n",
    "    newOrder = Counter(frequents)\n",
    "    for k in org.keys():\n",
    "        if not(k in newOrder):\n",
    "            regularsBase.append(k)\n",
    "    \n",
    "    return list(np.random.choice(regularsBase, len(frequents)))\n",
    "\n",
    "def organiseCohortData(myCohort):\n",
    "    organised = dict()\n",
    "    for admission in myCohort:\n",
    "        if admission[0] in organised:\n",
    "            organised[admission[0]].append(admission[1:])\n",
    "        else:\n",
    "            organised[admission[0]] = [admission[1:]]\n",
    "            \n",
    "    \n",
    "    for p in organised.keys():\n",
    "        organised[p] = sorted(organised[p], key = lambda x: datetime.strptime(x[8][0:10], '%Y-%m-%d'))\n",
    "    return organised"
   ]
  },
  {
   "cell_type": "code",
   "execution_count": 16,
   "metadata": {
    "collapsed": true
   },
   "outputs": [],
   "source": [
    "def safeIndex(myList, item):\n",
    "    if item in myList:\n",
    "        return myList.index(item)\n",
    "    else:\n",
    "        return -1\n",
    "\n",
    "def vectorise(uid, n, dataSet, dataIndex, crushedListed):\n",
    "    vector = [0] * n\n",
    "    if (uid in dataSet):\n",
    "        data = [item[dataIndex] if len(item) > dataIndex else item[dataIndex-1] for item in dataSet[uid]]\n",
    "        data = list(map(lambda x: safeIndex(crushedListed, x), data))\n",
    "        for i in data:\n",
    "            if not (i == -1):\n",
    "                vector[i] = 1;\n",
    "    return vector\n",
    "        \n",
    "        \n",
    "\n",
    "def runAnalysis(freqs, regs, n, dataSet, dataIndex, countedUp):\n",
    "    \n",
    "    listed = sorted(list(countedUp.items()), key=lambda x: x[1])[::-1]\n",
    "    listed = listed[0:n]\n",
    "    crushedListed = [item[0] for item in listed]\n",
    "        \n",
    "    frequentData = list(map(lambda x: vectorise(x, n, dataSet, dataIndex, crushedListed), freqs))\n",
    "    regsData = list(map(lambda x: vectorise(x, n, dataSet, dataIndex, crushedListed), regs))\n",
    "    \n",
    "    Y = ([1] * len(freqs)) + ([0] * len(regs))\n",
    "    X = frequentData + regsData\n",
    "        \n",
    "    print(len(Y))\n",
    "    print(len(X))\n",
    "    \n",
    "    print(\"Printing for all 20 features\")\n",
    "    runModels(X,Y)\n",
    "    print(\"5 most influencial features\")\n",
    "    indie = []\n",
    "    for i in range(20):\n",
    "        indie.append((runModels([[item[i]] for item in X], Y, printOn=False), i))\n",
    "    indie = sorted(indie, key=lambda x: x[0])[::-1]\n",
    "    indie = indie[0:5]\n",
    "    for col in indie:\n",
    "        print(str(col[0]) + \"  \" + str(col[1]))\n",
    "        \n"
   ]
  },
  {
   "cell_type": "code",
   "execution_count": 17,
   "metadata": {
    "collapsed": true
   },
   "outputs": [],
   "source": [
    "# N=\n",
    "organised = organiseCohortData(cohort[1:])\n",
    "freqs = abstractFreqFlyers(organised, 365, 6)\n",
    "regs = retrieveRegulars(organised, freqs)\n"
   ]
  },
  {
   "cell_type": "code",
   "execution_count": 18,
   "metadata": {},
   "outputs": [
    {
     "name": "stdout",
     "output_type": "stream",
     "text": [
      "6362\n",
      "6362\n",
      "Printing for all 20 features\n",
      "[0.87745483110761979, 0.86645718774548308, 0.88993710691823902, 0.87342767295597479, 0.87342767295597479]\n",
      "[0.84917517674783971, 0.84446190102120977, 0.85534591194968557, 0.84040880503144655, 0.85220125786163525]\n",
      "5 most influencial features\n",
      "0.737505249324  1\n",
      "0.70323926544  0\n",
      "0.648775116473  2\n",
      "0.61435066475  3\n",
      "0.607433290351  18\n"
     ]
    }
   ],
   "source": [
    "allOrders = [item[2] if len(item) > 2 else item[1] for item in labOrdersList[1:]]\n",
    "countedUp = Counter(allOrders)\n",
    "\n",
    "runAnalysis(freqs, regs, 30, labOrders, 2, countedUp)"
   ]
  },
  {
   "cell_type": "code",
   "execution_count": 19,
   "metadata": {},
   "outputs": [
    {
     "name": "stdout",
     "output_type": "stream",
     "text": [
      "6362\n",
      "6362\n",
      "Printing for all 20 features\n",
      "[0.84996072270227807, 0.85153181461115479, 0.85691823899371067, 0.8529874213836478, 0.84433962264150941]\n",
      "[0.812254516889238, 0.80911233307148467, 0.8058176100628931, 0.81367924528301883, 0.79088050314465408]\n",
      "5 most influencial features\n",
      "0.778531745444  1\n",
      "0.637302625403  4\n",
      "0.624486801346  3\n",
      "0.62236693889  0\n",
      "0.605466399383  6\n"
     ]
    }
   ],
   "source": [
    "allOrders = [item[3] if len(item) > 2 else item[1] for item in medOrdersList[1:]]\n",
    "countedUp = Counter(allOrders)\n",
    "\n",
    "runAnalysis(freqs, regs, 30, medOrders, 3, countedUp)"
   ]
  },
  {
   "cell_type": "code",
   "execution_count": 21,
   "metadata": {},
   "outputs": [
    {
     "name": "stdout",
     "output_type": "stream",
     "text": [
      "6362\n",
      "6362\n",
      "Printing for all 20 features\n",
      "[0.83110761979575809, 0.82089552238805974, 0.839622641509434, 0.83333333333333337, 0.81525157232704404]\n",
      "[0.53260015710919084, 0.75569520816967795, 0.78066037735849059, 0.76100628930817615, 0.76572327044025157]\n",
      "5 most influencial features\n",
      "0.614271492587  0\n",
      "0.575289392165  3\n",
      "0.553441271794  4\n",
      "0.546682797532  10\n",
      "0.54550429333  13\n"
     ]
    }
   ],
   "source": [
    "allOrders = [item[3] if len(item) > 2 else item[1] for item in prescriptions[1:]]\n",
    "countedUp = Counter(allOrders)\n",
    "\n",
    "runAnalysis(freqs, regs, 40, preScriptions, 3, countedUp)"
   ]
  },
  {
   "cell_type": "code",
   "execution_count": 22,
   "metadata": {},
   "outputs": [
    {
     "name": "stdout",
     "output_type": "stream",
     "text": [
      "100\n"
     ]
    }
   ],
   "source": [
    "print(len(vitals.keys()))\n",
    "#print(vitals[list(vitals.keys())[0]][0])\n",
    "#print(vitals[list(vitals.keys())[20]])"
   ]
  },
  {
   "cell_type": "code",
   "execution_count": 72,
   "metadata": {},
   "outputs": [],
   "source": [
    "#xs = [(item[3], item[4]) for item in ]\n",
    "def vectoriseModded(uid, n, dataSet, crushedListed):\n",
    "    vector = [0] * n\n",
    "    if (uid in dataSet):\n",
    "        categories = [item[3] if len(item) > 3 else item[2] for item in dataSet[uid]]\n",
    "        tuples = [(item[3], item[4]) if len(item) > 2 else item[2] for item in dataSet[uid]]\n",
    "        vector_data = list(map(lambda x: safeIndex(crushedListed, x), categories))\n",
    "        for k, i in enumerate(categories):\n",
    "            if not(vector_data[k] == -1):\n",
    "                values = [x[1] if (x[0] == i) else 0 for x in tuples]\n",
    "                try:\n",
    "                    temp = list(map(float, values))\n",
    "                    vector[vector_data[k]] = sum(temp) / len(list(filter(lambda x: x != 0, values)))\n",
    "                except:\n",
    "                    vector[vector_data[k]] = 10\n",
    "    return vector"
   ]
  },
  {
   "cell_type": "code",
   "execution_count": 75,
   "metadata": {},
   "outputs": [
    {
     "name": "stdout",
     "output_type": "stream",
     "text": [
      "[0, 102.0, 0, 0, 0, 97.3, 0, 0, 0, 0, 0, 0, 0, 0, 0, 0, 0, 0, 0, 0, 0, 0, 0, 0, 0, 0, 0, 0, 0, 0]\n",
      "6362\n",
      "6362\n",
      "Printing for all 20 features\n",
      "[0.83817753338570311, 0.85938727415553806, 0.86399371069182385, 0.85613207547169812, 0.83883647798742134]\n",
      "[0.80125687352710129, 0.54595443833464252, 0.50157232704402521, 0.82154088050314467, 0.81132075471698117]\n",
      "5 most influencial features\n",
      "0.597218290375  2\n",
      "0.592421395999  0\n",
      "0.592266139511  4\n",
      "0.590931390713  1\n",
      "0.589829526647  3\n"
     ]
    }
   ],
   "source": [
    "def runVitalsAnalysis(freqs, regs, vitalsDict, n, crushedListed):\n",
    "    frequentData = list(map(lambda x: vectoriseModded(x, n, vitalsDict, crushedListed), freqs))\n",
    "    regsData = list(map(lambda x: vectoriseModded(x, n, vitalsDict, crushedListed), regs))\n",
    "    \n",
    "    Y = ([1] * len(freqs)) + ([0] * len(regs))\n",
    "    X = frequentData + regsData\n",
    "    \n",
    "    \n",
    "    print(frequentData[243])\n",
    "    print(len(Y))\n",
    "    print(len(X))\n",
    "    \n",
    "    print(\"Printing for all 20 features\")\n",
    "    runModels(X,Y)\n",
    "    print(\"5 most influencial features\")\n",
    "    indie = []\n",
    "    for i in range(20):\n",
    "        indie.append((runModels([[item[i]] for item in X], Y, printOn=False), i))\n",
    "    indie = sorted(indie, key=lambda x: x[0])[::-1]\n",
    "    indie = indie[0:5]\n",
    "    for col in indie:\n",
    "        print(str(col[0]) + \"  \" + str(col[1]))\n",
    "        \n",
    "totalList = []\n",
    "for i in vitals.keys():\n",
    "    totalList = totalList + [item[3] if len(item) > 2 else item[1] for item in vitals[i]]\n",
    "\n",
    "countedUp = Counter(totalList)\n",
    "n = 30\n",
    "\n",
    "listed = sorted(list(countedUp.items()), key=lambda x: x[1])[::-1]\n",
    "listed = listed[0:n]\n",
    "crushedListed = [item[0] for item in listed]\n",
    "    \n",
    "runVitalsAnalysis(freqs, regs, vitals, 30, crushedListed)"
   ]
  },
  {
   "cell_type": "code",
   "execution_count": null,
   "metadata": {
    "collapsed": true
   },
   "outputs": [],
   "source": []
  }
 ],
 "metadata": {
  "kernelspec": {
   "display_name": "Python 3",
   "language": "python",
   "name": "python3"
  },
  "language_info": {
   "codemirror_mode": {
    "name": "ipython",
    "version": 3
   },
   "file_extension": ".py",
   "mimetype": "text/x-python",
   "name": "python",
   "nbconvert_exporter": "python",
   "pygments_lexer": "ipython3",
   "version": "3.6.3"
  }
 },
 "nbformat": 4,
 "nbformat_minor": 2
}
